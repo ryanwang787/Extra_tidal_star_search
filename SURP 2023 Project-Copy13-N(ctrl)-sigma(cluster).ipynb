{
 "cells": [
  {
   "cell_type": "markdown",
   "metadata": {},
   "source": [
    "# This is the final pipeline program for ET star ID process\n",
    "\n",
    "# It uses an initial set of stars that are within (RHM+RT)/2\n",
    "# Only GCs w/ at least 20 stars in the range above are chosen\n",
    "\n",
    "# For dim reduction, it has a set seed of 2023 for both tSNE and UMAP\n",
    "\n",
    "# For control DBSCAN, it uses N/sigma^2 and has a requirement of at least 15 controls\n",
    "\n",
    "# For field DBSCAN, it uses N(ctrl) / sigma(cluster)^2 and has a requirement of capturing all of the control stars"
   ]
  },
  {
   "cell_type": "markdown",
   "metadata": {},
   "source": [
    "## Notes for this program"
   ]
  },
  {
   "cell_type": "markdown",
   "metadata": {},
   "source": [
    "My parameter list is different from Steffani's. My param list is shown below:\\\\\\\\\n",
    "param_list = ['# APOGEE_ID_', 'GAIAEDR3_SOURCE_ID', 'GAIAEDR3_PARALLAX', 'GAIAEDR3_PARALLAX_ERROR', 'RA', 'DEC', 'GAIAEDR3_PMRA', 'GAIAEDR3_PMRA_ERROR', 'GAIAEDR3_PMDEC', 'GAIAEDR3_PMDEC_ERROR', 'GAIAEDR3_DR2_RADIAL_VELOCITY', 'GAIAEDR3_DR2_RADIAL_VELOCITY_ERROR', 'SNR', 'FE_H', 'FE_H_ERR', 'C_FE', 'C_FE_ERR', 'CI_FE', 'CI_FE_ERR', 'N_FE', 'N_FE_ERR', 'O_FE', 'O_FE_ERR', 'MG_FE', 'MG_FE_ERR', 'AL_FE', 'AL_FE_ERR', 'SI_FE', 'SI_FE_ERR', 'P_FE', 'P_FE_ERR', 'S_FE', 'S_FE_ERR', 'K_FE', 'K_FE_ERR', 'CA_FE', 'CA_FE_ERR', 'TI_FE', 'TI_FE_ERR', 'TIII_FE', 'TIII_FE_ERR', 'V_FE', 'V_FE_ERR', 'CR_FE', 'CR_FE_ERR', 'MN_FE', 'MN_FE_ERR', 'CO_FE', 'CO_FE_ERR', 'NI_FE', 'NI_FE_ERR']\\\\\\\\\n",
    "\n",
    "So basically the RA index is 4, DEC index is 5, RV index is 10, and the first chemical abundance is at 13. The chemical abundances follow Steffani's form (e.g. abundance1, abundance1_error, abundance2, abundance2_error, etc.). What I did was make the standardizing step for both tSNE and UMAP take in the index of the first chemical abundance and from there it automatically adds 2 for each chem abundance going up.\\\\\\\\\n",
    "\n",
    "Basically if you use my param_list it'll work. The param_list variable is just a list of strings of the index titles, I have a function somewhere that grabs the data for those indices.\\\\\\\\\n",
    "\n",
    "For each GC, we just need the ra, dec, rhm_deg (rhm depends on dist I think).\\\\\n",
    "There are global parameters for all GCs as well, so the parameter list, fov, and chemical abundance starting index.\\\\\\\\\n",
    "\n",
    "LMK if shit dont work and there's probably something I forgot to explain."
   ]
  },
  {
   "cell_type": "markdown",
   "metadata": {},
   "source": [
    "#### STEP 0: Import the necessary packages/algorithms."
   ]
  },
  {
   "cell_type": "code",
   "execution_count": 28,
   "metadata": {
    "tags": [
     "hide-input"
    ]
   },
   "outputs": [],
   "source": [
    "# General analysis/plotting packages:\n",
    "import matplotlib.pyplot as plt\n",
    "import numpy as np\n",
    "import math\n",
    "import warnings\n",
    "warnings.simplefilter(action='ignore', category=FutureWarning)\n",
    "import pandas as pd\n",
    "import matplotlib.pyplot as plt\n",
    "from matplotlib.ticker import FormatStrFormatter\n",
    "from matplotlib import rc\n",
    "plt.rcParams['mathtext.fontset'] = 'stix'\n",
    "plt.rcParams['font.family'] = 'STIXGeneral'\n",
    "from collections import Counter\n",
    "\n",
    "# Specific t-SNE/visualization packages:\n",
    "from sklearn.manifold import TSNE\n",
    "from shapely.geometry import Point, Polygon\n",
    "\n",
    "# UMAP shit\n",
    "# Import UMAP\n",
    "import umap.umap_ as umap\n",
    "\n",
    "# Try using SKLEARN's StandardScaler to standardize the data\n",
    "from sklearn.preprocessing import StandardScaler\n",
    "\n",
    "# I/O\n",
    "import sys\n",
    "\n",
    "# OS\n",
    "import os\n",
    "\n",
    "# dbscan\n",
    "from sklearn.cluster import DBSCAN\n",
    "\n",
    "# tqdm\n",
    "from tqdm.notebook import tqdm\n",
    "\n",
    "# KDTree\n",
    "from scipy.spatial import cKDTree\n",
    "\n",
    "# mode\n",
    "from scipy import stats as st\n",
    "\n",
    "# music\n",
    "import simpleaudio as sa\n",
    "\n",
    "# time\n",
    "import time\n",
    "\n",
    "# save and load\n",
    "import pickle"
   ]
  },
  {
   "cell_type": "markdown",
   "metadata": {},
   "source": [
    "### Step 1: Load in the clusters"
   ]
  },
  {
   "cell_type": "markdown",
   "metadata": {},
   "source": [
    "#### Load in selected star cluster\n",
    "Input RA and DEC and the program will load in all the stars within a $10^o$ by $10^o$ FOV."
   ]
  },
  {
   "cell_type": "code",
   "execution_count": 29,
   "metadata": {},
   "outputs": [],
   "source": [
    "'''Read in APOGEE CSV file'''\n",
    "\n",
    "apogee_filt = pd.read_csv('data/APOGEEDR17_GAIAEDR3_filter.csv', delimiter=',')\n",
    "apogee_nofilt2 = pd.read_csv('data/APOGEEDR17_GAIAEDR3_noflagfilter.csv', delimiter=',')\n",
    "\n",
    "\n",
    "### drop all NaN kinematic and chemistry values\n",
    "apogee_nofilt = apogee_nofilt2.dropna(subset=['FE_H', 'FE_H_ERR', 'C_FE', 'C_FE_ERR', 'CI_FE', 'CI_FE_ERR', 'N_FE', 'N_FE_ERR',\n",
    "              'O_FE', 'O_FE_ERR', 'MG_FE', 'MG_FE_ERR', 'AL_FE', 'AL_FE_ERR', 'SI_FE', 'SI_FE_ERR',\n",
    "              'P_FE', 'P_FE_ERR', 'S_FE', 'S_FE_ERR', 'K_FE', 'K_FE_ERR', 'CA_FE', 'CA_FE_ERR',\n",
    "              'TI_FE', 'TI_FE_ERR', 'TIII_FE', 'TIII_FE_ERR', 'V_FE', 'V_FE_ERR', 'CR_FE', 'CR_FE_ERR',\n",
    "              'MN_FE', 'MN_FE_ERR', 'CO_FE', 'CO_FE_ERR', 'NI_FE', 'NI_FE_ERR', 'GAIAEDR3_PMRA', 'GAIAEDR3_PMRA_ERROR', 'GAIAEDR3_PMDEC', 'GAIAEDR3_PMDEC_ERROR', 'VHELIO_AVG', 'VERR'])\n",
    "apogee_nofilt = apogee_nofilt.reset_index(drop=True)\n",
    "GC_db = pd.read_csv('data/GCs_20RHMRT.csv', delimiter=',')"
   ]
  },
  {
   "cell_type": "markdown",
   "metadata": {},
   "source": [
    "#### Selecting initial star field"
   ]
  },
  {
   "cell_type": "code",
   "execution_count": 234,
   "metadata": {
    "hideCode": true,
    "tags": [
     "hide-input"
    ]
   },
   "outputs": [],
   "source": [
    "### Finding stars within a set FOV of the GC centre\n",
    "def find_cluster_stars(ra, dec, fov, df, name, rhm_deg, rt_deg):\n",
    "    \n",
    "    fov_new = 10 * rt_deg\n",
    "    \n",
    "    stars = []\n",
    "    for count, i in enumerate(df['RA'].values):\n",
    "        if i >= ra - fov_new and i <= ra + fov_new and df['DEC'].values[count] >= dec - fov_new and df['DEC'].values[count] <= dec + fov_new:\n",
    "            stars.append(df.loc[count])\n",
    "            \n",
    "    print(len(stars), 'stars in a ' + str(fov_new) + 'x' + str(fov_new) + ' fov of the GC')\n",
    "    \n",
    "    '''if len(stars) != 0:\n",
    "        # create a folder with name of GC only if there are stars in the field\n",
    "        try: \n",
    "            os.makedirs('GCs_10RHM/' + name)\n",
    "        except OSError as error:\n",
    "            print('Directory ' + name+ ' already exists')\n",
    "\n",
    "    ra_arr = np.empty(len(stars), dtype=float)\n",
    "    dec_arr = np.empty(len(stars), dtype=float)\n",
    "    for count, i in enumerate(stars):\n",
    "        ra_arr[count] = i['RA']\n",
    "        dec_arr[count] = i['DEC']\n",
    "    \n",
    "    rhm_circ = plt.Circle((ra, dec), rhm_deg, color='r', fill=False, label='rhm')\n",
    "    rhm_rt_circ = plt.Circle((ra, dec), (rhm_deg + rt_deg)/2, color='g', fill=False, label='1/2 rhm, rt')\n",
    "    rt_circ = plt.Circle((ra, dec), rt_deg, color='b', fill=False, label='rt')\n",
    "    \n",
    "    #plt.figure(figsize=(10,10))\n",
    "    fig, ax = plt.subplots(1, figsize=(10,10))\n",
    "    plt.plot(ra_arr, dec_arr, 'ok', linestyle='none', markersize=1, label='Stars')\n",
    "    plt.plot(ra, dec, 'or', linestyle='none', markersize=5, label='GC centre')\n",
    "    ax.add_patch(rhm_circ)\n",
    "    ax.add_patch(rhm_rt_circ)\n",
    "    ax.add_patch(rt_circ)\n",
    "    plt.xlabel('RA', fontsize=20)\n",
    "    plt.ylabel('DEC', fontsize=20)\n",
    "    plt.title(name, fontsize=20)\n",
    "    plt.xlim(ra - fov - 1, ra + fov + 1)\n",
    "    plt.ylim(dec - fov - 1, dec + fov + 1)\n",
    "    plt.legend(loc='best', fontsize=20)\n",
    "    try:\n",
    "        plt.savefig('GCs_10RHM/'+name+'/radec.png')\n",
    "    except:\n",
    "        print('No stars yo')\n",
    "    plt.close('all')'''\n",
    "    \n",
    "    return stars\n",
    "            "
   ]
  },
  {
   "cell_type": "markdown",
   "metadata": {},
   "source": [
    "#### Separating list of stars into lists by parameter"
   ]
  },
  {
   "cell_type": "code",
   "execution_count": 89,
   "metadata": {
    "hideCode": true
   },
   "outputs": [],
   "source": [
    "def split_star_list(stars, parameters):\n",
    "    param_dict = {}\n",
    "    for i in parameters:\n",
    "        if str(i) == '# APOGEE_ID_':\n",
    "            param_dict[str(i)] = np.empty(len(stars), dtype=object)\n",
    "        else:\n",
    "            param_dict[str(i)] = np.empty(len(stars))\n",
    "    for count,i in enumerate(stars):\n",
    "        for j in parameters:\n",
    "            param_dict[str(j)][count] = i[str(j)]\n",
    "            \n",
    "    return param_dict\n",
    "        "
   ]
  },
  {
   "cell_type": "markdown",
   "metadata": {},
   "source": [
    "#### Separating the dictionary values into a columns list"
   ]
  },
  {
   "cell_type": "code",
   "execution_count": 90,
   "metadata": {
    "hideCode": true
   },
   "outputs": [],
   "source": [
    "def split_cols(GC_param, parameters):\n",
    "    cols = []\n",
    "    for i in range(len(GC_param)):\n",
    "        cols.append(GC_param[str(parameters[i])])\n",
    "    \n",
    "    return cols"
   ]
  },
  {
   "cell_type": "markdown",
   "metadata": {},
   "source": [
    "#### Master GC load function"
   ]
  },
  {
   "cell_type": "code",
   "execution_count": 91,
   "metadata": {
    "hideCode": true
   },
   "outputs": [],
   "source": [
    "def master_load(ra, dec, fov, dataset, params, name, rhm_deg, rt_deg):\n",
    "    stars_found = find_cluster_stars(ra, dec, fov, dataset, name, rhm_deg, rt_deg)\n",
    "    GC_dict = split_star_list(stars_found, params)\n",
    "    GC_cols = split_cols(GC_dict, param_list)\n",
    "    \n",
    "    return [GC_dict, GC_cols]\n",
    "    "
   ]
  },
  {
   "cell_type": "markdown",
   "metadata": {},
   "source": [
    "### Step 2: Filter the data"
   ]
  },
  {
   "cell_type": "markdown",
   "metadata": {},
   "source": [
    "#### Filter 1 for data: Removing all stars without PM"
   ]
  },
  {
   "cell_type": "code",
   "execution_count": 92,
   "metadata": {
    "hideCode": true
   },
   "outputs": [],
   "source": [
    "def pm_filter(GC_dict, GC_cols):\n",
    "    ### Filter 1: Remove stars that do not have proper motion values. ###\n",
    "    pm_filter_nan = np.isnan(GC_dict['GAIAEDR3_PMRA'])\n",
    "    pm_filter = np.where(pm_filter_nan==False)\n",
    "    data_pmfilter = []\n",
    "    for i in GC_cols:\n",
    "        x = np.array(i)[pm_filter]\n",
    "        data_pmfilter.append(x)\n",
    "    print(\"There are {} stars in our sample after the proper motion filtering.\".format(len(data_pmfilter[0])))\n",
    "    \n",
    "    return data_pmfilter"
   ]
  },
  {
   "cell_type": "markdown",
   "metadata": {},
   "source": [
    "#### Filter 2 for data: Removing all stars that do not have chemical abundances"
   ]
  },
  {
   "cell_type": "code",
   "execution_count": 93,
   "metadata": {
    "hideCode": true
   },
   "outputs": [],
   "source": [
    "def chem_filter(data_pmfilter, init_abundance_index):\n",
    "    ### Filter 2: Remove stars that do not have data for all 19 abundances. ###\n",
    "    abundance_filter = np.where((data_pmfilter[init_abundance_index] > -9999) & (data_pmfilter[init_abundance_index + 2] > -9999) & (data_pmfilter[init_abundance_index + 4]  > -9999)\n",
    "                                & (data_pmfilter[init_abundance_index + 6]  > -9999) & (data_pmfilter[ init_abundance_index + 8]  > -9999) & (data_pmfilter[init_abundance_index + 10]  > -9999)\n",
    "                                & (data_pmfilter[init_abundance_index + 12]  > -9999) & (data_pmfilter[init_abundance_index + 14]  > -9999) & (data_pmfilter[init_abundance_index + 16]  > -9999)\n",
    "                                & (data_pmfilter[init_abundance_index + 18]  > -9999) & (data_pmfilter[init_abundance_index + 20]  > -9999) & (data_pmfilter[init_abundance_index + 22]  > -9999)\n",
    "                                & (data_pmfilter[init_abundance_index + 24]  > -9999) & (data_pmfilter[init_abundance_index + 26]  > -9999) & (data_pmfilter[init_abundance_index + 28]  > -9999)\n",
    "                                & (data_pmfilter[init_abundance_index + 30]  > -9999) & (data_pmfilter[init_abundance_index + 32]  > -9999) & (data_pmfilter[init_abundance_index + 34]  > -9999)\n",
    "                                & (data_pmfilter[init_abundance_index + 36]  > -9999))\n",
    "\n",
    "    data_abundancefilter = []\n",
    "    for i in data_pmfilter:\n",
    "        y = np.array(i)[abundance_filter]\n",
    "        data_abundancefilter.append(y)\n",
    "    print(\"There are {} stars in our sample after the abundance filtering.\".format(len(data_abundancefilter[0])))\n",
    "    \n",
    "    return data_abundancefilter"
   ]
  },
  {
   "cell_type": "markdown",
   "metadata": {},
   "source": [
    "#### Filter 3 for data: Removing all duplicate spectra"
   ]
  },
  {
   "cell_type": "code",
   "execution_count": 94,
   "metadata": {
    "hideCode": true
   },
   "outputs": [],
   "source": [
    "# changed all indices of 0 to 4 (RA) and 23 to 12 (SNR)\n",
    "def dup_filter(data_abundancefilter):\n",
    "    d =  Counter(data_abundancefilter[4])\n",
    "    #print(d)\n",
    "    duplicates = [k for k, v in d.items() if v > 1]\n",
    "    a_list = np.array(range(0, len(duplicates)))\n",
    "    max_SNR_array = []\n",
    "\n",
    "    for i in a_list:\n",
    "        indices = np.where(data_abundancefilter[4] == duplicates[i])\n",
    "        snr_val = data_abundancefilter[12][indices]\n",
    "        maximum = max(snr_val)\n",
    "        # 4 is RA, 12 is SNR\n",
    "        index_maximum = np.where((data_abundancefilter[4] == duplicates[i]) & (data_abundancefilter[12] == maximum))\n",
    "        #print(index_maximum[4])\n",
    "        index_maximum = int(index_maximum[4])\n",
    "        max_SNR_array.append(index_maximum)\n",
    "\n",
    "    idx_sort = np.argsort(data_abundancefilter[4])\n",
    "    sorted_ra_array = data_abundancefilter[4][idx_sort]\n",
    "    vals, idx_start, count = np.unique(sorted_ra_array, return_counts=True, return_index=True)\n",
    "    res = np.split(idx_sort, idx_start[1:])\n",
    "    vals = vals[count == 1]\n",
    "    listtest =  np.array(range(0, len(vals)))\n",
    "\n",
    "    unique_array = []\n",
    "    for i in listtest:\n",
    "        unique_val = np.where(vals[i] == data_abundancefilter[4])\n",
    "        unique_val = int(unique_val[0])\n",
    "        unique_array.append(unique_val)\n",
    "\n",
    "    #print(\"There are {} stars that do not have duplicate spectra.\".format(len(unique_array)))\n",
    "    #print(\"There are {} stars that have multiple spectra, in which we select highest SNR.\".format(len(max_SNR_array)))\n",
    "    \n",
    "    if len(max_SNR_array) != 0:\n",
    "        duplicates_filter = np.concatenate((unique_array, max_SNR_array))\n",
    "        sortedarray = np.sort(duplicates_filter)\n",
    "\n",
    "        data_duplicatesfilter = []\n",
    "        for i in data_abundancefilter:\n",
    "            z = np.array(i)[duplicates_filter]\n",
    "            data_duplicatesfilter.append(z)\n",
    "\n",
    "        print(\"There are {} stars in our sample after removing sources with duplicate spectra.\".format(len(data_duplicatesfilter[0])))\n",
    "    \n",
    "    else:\n",
    "        print('There were no duplicate spectra.')\n",
    "        data_duplicatesfilter = data_abundancefilter\n",
    "    \n",
    "    return data_duplicatesfilter"
   ]
  },
  {
   "cell_type": "markdown",
   "metadata": {},
   "source": [
    "#### Filter 4 for data: Removing all low SNR"
   ]
  },
  {
   "cell_type": "code",
   "execution_count": 95,
   "metadata": {
    "hideCode": true
   },
   "outputs": [],
   "source": [
    "def SNR_filter(data_duplicatesfilter):\n",
    "    SNR_filter = np.where(data_duplicatesfilter[12] > 50)\n",
    "    data_snrfilter = []\n",
    "    for i in data_duplicatesfilter:\n",
    "        a = np.array(i)[SNR_filter]\n",
    "        data_snrfilter.append(a)\n",
    "\n",
    "    print(\"There are {} stars in our sample after removing sources with low SNR.\".format(len(data_snrfilter[0])))\n",
    "\n",
    "    return data_snrfilter"
   ]
  },
  {
   "cell_type": "markdown",
   "metadata": {},
   "source": [
    "#### Master filter function"
   ]
  },
  {
   "cell_type": "code",
   "execution_count": 96,
   "metadata": {
    "hideCode": true
   },
   "outputs": [],
   "source": [
    "def master_filter(GC_dict, GC_cols):\n",
    "    M3_pm_filter = pm_filter(GC_dict, GC_cols)\n",
    "    M3_abundance_filter = chem_filter(M3_pm_filter, 13)\n",
    "    M3_duplicates_filter = dup_filter(M3_abundance_filter)\n",
    "    M3_SNR_filter = SNR_filter(M3_duplicates_filter)\n",
    "    \n",
    "    print('\\nThe final amount of stars in our sample is:', len(M3_SNR_filter[0]))\n",
    "    return M3_SNR_filter"
   ]
  },
  {
   "cell_type": "markdown",
   "metadata": {},
   "source": [
    "#### STEP 3: Define parameters for your GC of interest. \n",
    "\n",
    "These parameters are taken from the Baumgardt & Hilker (2018) catalogue: https://people.smp.uq.edu.au/HolgerBaumgardt/globular/."
   ]
  },
  {
   "cell_type": "markdown",
   "metadata": {},
   "source": [
    "#### STEP 4: Define a control group of cluster members.\n",
    "\n",
    "We must define a control group of likely cluster members of M3 so we can see where these stars end up in the t-SNE projection. "
   ]
  },
  {
   "cell_type": "code",
   "execution_count": 97,
   "metadata": {
    "hideCode": true
   },
   "outputs": [],
   "source": [
    "def control_group(data_filter, ra, dec, rhm_deg, rt_deg, name):\n",
    "# Select all the stars within some radius of the cluster:\n",
    "    def in_circle(center_x, center_y, radius, x, y):\n",
    "        square_dist = (center_x - x) ** 2 + (center_y - y) ** 2\n",
    "        return square_dist <= (radius) ** 2\n",
    "\n",
    "    print('rhm: {:.2f}\\trhmrt2: {:.2f}\\trt: {:.2f}'.format(rhm_deg, (rhm_deg + rt_deg) / 2, rt_deg))\n",
    "    \n",
    "    ra_filtered = data_filter[4]\n",
    "    dec_filtered = data_filter[5]\n",
    "\n",
    "    control_size = min((rhm_deg + rt_deg) / 2, rt_deg)\n",
    "    \n",
    "    # Select stars within halfway between r,hm and rt (useful for large enough sample of probable cluster members):\n",
    "    in_halfmass = in_circle(ra, dec, control_size, ra_filtered, dec_filtered)  \n",
    "    indices_control = np.where(in_halfmass==True)\n",
    "    \n",
    "    ### TEST: rhm stars\n",
    "    in_halfmass2 = in_circle(ra, dec, rhm_deg, ra_filtered, dec_filtered)  \n",
    "    indices_control2 = np.where(in_halfmass2==True)\n",
    "    \n",
    "    # check for stars within rt\n",
    "    in_rt = in_circle(ra, dec, rt_deg, ra_filtered, dec_filtered)\n",
    "    indices_control_rt = np.where(in_rt == True)\n",
    "    \n",
    "    controlgroup = []\n",
    "    for i in data_filter:\n",
    "        b = np.array(i)[indices_control]\n",
    "        controlgroup.append(b)\n",
    "\n",
    "\n",
    "    # Example control group parameters: \n",
    "    ra_control = controlgroup[0]\n",
    "    dec_control = controlgroup[1]\n",
    "\n",
    "    print(\"There are {} stars within rhm\".format(len(indices_control2[0])) + \" and {} stars within (rhm+rt)/2\".format(len(ra_control)) + ' and {} stars within the rt'.format(len(indices_control_rt[0])))\n",
    "    \n",
    "    # checking for any control stars within rhm\n",
    "    if len(indices_control[0]) >= 20:\n",
    "        # create a folder with name of GC only if there are stars in the rhm\n",
    "        try: \n",
    "            os.makedirs('GCs_20RHMRT_N_ctrl_sigma_cluster/' + name)\n",
    "        except OSError as error:\n",
    "            print('Directory ' + name + ' already exists')\n",
    "    \n",
    "    rhm_circ = plt.Circle((ra, dec), rhm_deg, color='r', fill=False, label='rhm', zorder=2)\n",
    "    rhm_rt_circ = plt.Circle((ra, dec), (rhm_deg + rt_deg)/2, color='g', fill=False, label='1/2 rhm, rt', zorder=2)\n",
    "    rt_circ = plt.Circle((ra, dec), rt_deg, color='b', fill=False, label='rt', zorder=2)\n",
    "    \n",
    "    fov = 5\n",
    "    \n",
    "    #plt.figure(figsize=(10,10))\n",
    "    fig, ax = plt.subplots(1, figsize=(10,10))\n",
    "    plt.plot(ra_filtered, dec_filtered, 'ok', linestyle='none', markersize=1, label='Stars', zorder=0.5)\n",
    "    plt.plot(ra, dec, 'or', linestyle='none', markersize=5, label='GC centre', zorder=0.7)\n",
    "    ax.add_patch(rhm_circ)\n",
    "    ax.add_patch(rhm_rt_circ)\n",
    "    ax.add_patch(rt_circ)\n",
    "    plt.xlabel('RA', fontsize=20)\n",
    "    plt.ylabel('DEC', fontsize=20)\n",
    "    plt.title('Filtered RA DEC for ' + name, fontsize=20)\n",
    "    plt.xlim(ra - fov - 1, ra + fov + 1)\n",
    "    plt.ylim(dec - fov - 1, dec + fov + 1)\n",
    "    plt.legend(loc='best', fontsize=20)\n",
    "    if len(indices_control[0]) >= 20:\n",
    "        plt.savefig('GCs_20RHMRT_N_ctrl_sigma_cluster/'+name+'/radec.png')\n",
    "    plt.close('all')\n",
    "    \n",
    "    \n",
    "    # no control stars within rt\n",
    "    if len(indices_control[0]) < 20:\n",
    "        print('Less than 20 control stars within (rhm+rt)/2')\n",
    "        return [None]\n",
    "    \n",
    "    else:\n",
    "        return indices_control"
   ]
  },
  {
   "cell_type": "markdown",
   "metadata": {},
   "source": [
    "#### STEP 5: Run t-SNE on the control group and full filtered sample of APOGEE DR17 stars.\n",
    "\n",
    "First, we standardize the data to ensure that no elements dominate or skew the t-SNE run. We want to include 19 chemical abundances and radial velocities in our run.\n"
   ]
  },
  {
   "cell_type": "code",
   "execution_count": 98,
   "metadata": {
    "hideCode": true
   },
   "outputs": [],
   "source": [
    "def standardize_data(data_filter, param_dict):\n",
    "    '''\n",
    "    Takes in a dictionary of parameters with the parameter name as the key and the index in the APOGEE file as the key value.\n",
    "    '''\n",
    "    \n",
    "    pretsne_array = []\n",
    "    params_arr = []\n",
    "    \n",
    "    for key in param_dict:\n",
    "        pretsne_array.append(data_filter[param_dict[key]])\n",
    "        params_arr.append(key)\n",
    "    \n",
    "    pretsne_array = np.array(pretsne_array)\n",
    "    \n",
    "    standardized = []\n",
    "    \n",
    "    for i in pretsne_array:\n",
    "        mean, sigma = np.nanmean(i), np.nanstd(i)\n",
    "        norm = (i - mean) / sigma\n",
    "        standardized.append(norm)\n",
    "        \n",
    "    return standardized"
   ]
  },
  {
   "cell_type": "markdown",
   "metadata": {
    "hideCode": false
   },
   "source": [
    "#### tSNE function"
   ]
  },
  {
   "cell_type": "code",
   "execution_count": 205,
   "metadata": {
    "hideCode": true
   },
   "outputs": [],
   "source": [
    "def master_tSNE(data_filter, param_dict, indices_control, name, num_total_stars):\n",
    "    standardized_array = standardize_data(data_filter, param_dict)\n",
    "    \n",
    "    # Transpose the standardized + filtered array:\n",
    "    standardized_array_transpose = np.transpose(standardized_array)\n",
    "    \n",
    "    # Run t-SNE on the transposed array:\n",
    "    tsne_init = TSNE(n_components=2, perplexity=50, random_state=2023)\n",
    "    tsne_2d = tsne_init.fit_transform(standardized_array_transpose)\n",
    "\n",
    "    # Get t-SNE outputs for complete filtered dataset:\n",
    "    tsne_dimX = tsne_2d[:, 0]\n",
    "    tsne_dimY = tsne_2d[:, 1]\n",
    "\n",
    "    # Get t-SNE outputs for control group:\n",
    "    tsne_dimX_control = tsne_dimX[indices_control]\n",
    "    tsne_dimY_control = tsne_dimY[indices_control]\n",
    "    \n",
    "    '''fig, ax = plt.subplots(figsize=(10,10))\n",
    "    ax.scatter(tsne_dimX, tsne_dimY, s=1, c='gray', label='APOGEE DR17 stars')\n",
    "    ax.scatter(tsne_dimX_control , tsne_dimY_control, s=40, edgecolor='k', c='hotpink', label='Control Group')\n",
    "    ax.set_xlabel(\"t-SNE X-Dimension\", fontsize=16)\n",
    "    ax.set_ylabel(\"t-SNE Y-Dimension\", fontsize=16)\n",
    "    ax.set_title(name)\n",
    "    ax.tick_params(axis='both', which='major', labelsize=16)\n",
    "    ax.tick_params(axis='both', which='minor', labelsize=16)\n",
    "    ax.legend(fontsize=12, loc=1)\n",
    "    plt.savefig('GCs_20RHMRT_N_ctrl_sigma_cluster/'+name+'/tsne.png')\n",
    "    plt.close('all')'''\n",
    "        \n",
    "    return [tsne_dimX, tsne_dimY, tsne_dimX_control, tsne_dimY_control]"
   ]
  },
  {
   "cell_type": "markdown",
   "metadata": {},
   "source": [
    "#### UMAP function"
   ]
  },
  {
   "cell_type": "code",
   "execution_count": 206,
   "metadata": {
    "hideCode": true
   },
   "outputs": [],
   "source": [
    "def master_UMAP(data_filter, param_dict, indices_control, name, num_total_stars):\n",
    "    standardize = standardize_data(data_filter, param_dict)\n",
    "    \n",
    "    # Transpose the standardized + filtered array:\n",
    "    standardized_array_transpose = np.transpose(standardize)\n",
    "    \n",
    "    # Run umap on the transposed array:\n",
    "    reducer = umap.UMAP(n_neighbors=50, random_state=2023)\n",
    "    embedding = reducer.fit_transform(standardized_array_transpose)\n",
    "\n",
    "    # Get umap outputs for complete filtered dataset:\n",
    "    umap_dimX = embedding[:, 0]\n",
    "    umap_dimY = embedding[:, 1]\n",
    "\n",
    "    # Get umap outputs for control group:\n",
    "    umap_dimX_control = umap_dimX[indices_control]\n",
    "    umap_dimY_control = umap_dimY[indices_control]\n",
    "\n",
    "    '''fig, ax = plt.subplots(figsize=(10,10))\n",
    "    ax.scatter(umap_dimX, umap_dimY, s=1, c='gray', label='APOGEE DR17 stars')\n",
    "    ax.scatter(umap_dimX_control , umap_dimY_control, s=40, edgecolor='k', c='hotpink', label='Control Group')\n",
    "    ax.set_xlabel(\"UMAP X-Dimension\", fontsize=16)\n",
    "    ax.set_ylabel(\"UMAP Y-Dimension\", fontsize=16)\n",
    "    ax.set_title(name)\n",
    "    ax.tick_params(axis='both', which='major', labelsize=16)\n",
    "    ax.tick_params(axis='both', which='minor', labelsize=16)\n",
    "    ax.legend(fontsize=12)\n",
    "    plt.savefig('GCs_20RHMRT_N_ctrl_sigma_cluster/'+name+'/umap.png')\n",
    "    plt.close('all')'''\n",
    "    \n",
    "    return [umap_dimX, umap_dimY, umap_dimX_control, umap_dimY_control]"
   ]
  },
  {
   "cell_type": "markdown",
   "metadata": {},
   "source": [
    "#### Choosing which parameters to use for tSNE and UMAP"
   ]
  },
  {
   "cell_type": "code",
   "execution_count": 145,
   "metadata": {
    "hideCode": true
   },
   "outputs": [],
   "source": [
    "def ask_input_param(param):\n",
    "    inp = input('Do you want to keep ' + param + ' as a parameter? [y/n]')\n",
    "    if inp.lower() == 'y':\n",
    "        return True\n",
    "    elif inp.lower() == 'n':\n",
    "        return False\n",
    "    else:\n",
    "        print('Not a valid input, trying again')\n",
    "        return ask_input_param(param)\n",
    "        "
   ]
  },
  {
   "cell_type": "code",
   "execution_count": 102,
   "metadata": {
    "hideCode": true
   },
   "outputs": [],
   "source": [
    "def choose_params(master_param_dict):\n",
    "    parameter_dict = {}\n",
    "\n",
    "    for i in master_param_dict:\n",
    "        if ask_input_param(i):\n",
    "            parameter_dict[i] = master_param_dict[i]\n",
    "            \n",
    "    return parameter_dict"
   ]
  },
  {
   "cell_type": "markdown",
   "metadata": {},
   "source": [
    "#### Taking in datasheet and name and automatically getting the parameters"
   ]
  },
  {
   "cell_type": "code",
   "execution_count": 103,
   "metadata": {
    "hideCode": true
   },
   "outputs": [],
   "source": [
    "def GC_params(GC_name, db):\n",
    "    GC = db.loc[db['Cluster'] == GC_name].iloc[0]\n",
    "    name = GC['Cluster']\n",
    "    ra = GC['RA']\n",
    "    dec = GC['DEC']\n",
    "    mass = GC['Mass']\n",
    "    rhm = GC['rhm'] # will steff fix this, nobody knows # edit she did\n",
    "    rt = GC['rt']\n",
    "    rho_c = GC['rho_c']\n",
    "    sig0 = GC['sig0']\n",
    "    vesc = GC['vesc']\n",
    "    c = GC['c']\n",
    "    d_Sun = GC['R_Sun'] * 1e3\n",
    "    rhm_deg = math.degrees(math.atan(rhm / d_Sun))\n",
    "    rt_deg = math.degrees(math.atan(rt / d_Sun))\n",
    "    \n",
    "    return ra, dec, rhm_deg, rt_deg"
   ]
  },
  {
   "cell_type": "code",
   "execution_count": 104,
   "metadata": {
    "hideCode": true
   },
   "outputs": [],
   "source": [
    "def input_GC_name(db):\n",
    "    GC_name = input(\"Please enter the GC name according to Steff's catalogue:\")\n",
    "    if db.loc[db['Cluster'] == GC_name].empty:\n",
    "        print('Not a valid name, double check and try again')\n",
    "        return input_GC_name(db)\n",
    "    else:\n",
    "        return GC_name"
   ]
  },
  {
   "cell_type": "markdown",
   "metadata": {},
   "source": [
    "### Master function (automatic version)"
   ]
  },
  {
   "cell_type": "code",
   "execution_count": 105,
   "metadata": {
    "hideCode": true
   },
   "outputs": [],
   "source": [
    "def master_func_auto(GC_name, master_param_dict, fov, db, dataset, params, ML):\n",
    "    print('\\nProcessing:', GC_name)\n",
    "    ML_values = {0, 1, 2}    \n",
    "    if ML not in ML_values:\n",
    "        raise ValueError('ML index not one of %r.' % ML_values)\n",
    "    \n",
    "    # getting GC parameteters\n",
    "    ra, dec, rhm_deg, rt_deg = GC_params(GC_name, db)\n",
    "    \n",
    "    # loading\n",
    "    GC_dict, GC_cols = master_load(ra, dec, fov, dataset, params, GC_name, rhm_deg, rt_deg)\n",
    "    \n",
    "    # filtering\n",
    "    GC_filter_data = master_filter(GC_dict, GC_cols)\n",
    "    \n",
    "    if GC_filter_data[0].size == 0:\n",
    "        #print(\"This shit don't got no stars bruh\\n\")\n",
    "        return [None, None, None, None, None, None, None, None]\n",
    "    \n",
    "    else:\n",
    "        # control grouping\n",
    "        GC_indices_control = control_group(GC_filter_data, ra, dec, rhm_deg, rt_deg, GC_name)\n",
    "        \n",
    "        # no control stars\n",
    "        #print(GC_indices_control)\n",
    "        if GC_indices_control[0] is None:\n",
    "            #print(\"This shit got no control stars\\n\")\n",
    "            return [None, None, None, None, None, None, None, None]\n",
    "        \n",
    "        else:\n",
    "            # choosing parameters\n",
    "            param_dict = master_param_dict\n",
    "\n",
    "            if ML == 0:\n",
    "                # tSNEing\n",
    "                tSNE_X, tSNE_Y, tSNE_control_X, tSNE_control_Y = master_tSNE(GC_filter_data, param_dict, GC_indices_control, GC_name, GC_filter_data[0].size)\n",
    "\n",
    "                # UMAPing\n",
    "                UMAP_X, UMAP_Y, UMAP_control_X, UMAP_control_Y = master_UMAP(GC_filter_data, param_dict, GC_indices_control, GC_name, GC_filter_data[0].size)\n",
    "\n",
    "                print('Done!\\n')\n",
    "                return [tSNE_X, tSNE_Y, tSNE_control_X, tSNE_control_Y, UMAP_X, UMAP_Y, UMAP_control_X, UMAP_control_Y, GC_indices_control]\n",
    "\n",
    "            elif ML == 1:\n",
    "                # tSNEing\n",
    "                tSNE_X, tSNE_Y, tSNE_control_X, tSNE_control_Y = master_tSNE(GC_filter_data, param_dict, GC_indices_control, GC_filter_data[0].size)\n",
    "\n",
    "                print('Done!\\n')\n",
    "                return [tSNE_X, tSNE_Y, tSNE_control_X, tSNE_control_Y, None, None, None, None]\n",
    "\n",
    "            elif ML == 2:\n",
    "                # UMAPing\n",
    "                UMAP_X, UMAP_Y, UMAP_control_X, UMAP_control_Y = master_UMAP(GC_filter_data, param_dict, GC_indices_control, GC_filter_data[0].size)\n",
    "\n",
    "                print('Done!\\n')\n",
    "                return [None, None, None, None, UMAP_X, UMAP_Y, UMAP_control_X, UMAP_control_Y]"
   ]
  },
  {
   "cell_type": "markdown",
   "metadata": {},
   "source": [
    "#### Global GC params"
   ]
  },
  {
   "cell_type": "code",
   "execution_count": 4,
   "metadata": {
    "hideCode": true
   },
   "outputs": [],
   "source": [
    "param_list = ['# APOGEE_ID_', 'GAIAEDR3_SOURCE_ID', 'GAIAEDR3_PARALLAX', 'GAIAEDR3_PARALLAX_ERROR',\n",
    "              'RA', 'DEC', 'GAIAEDR3_PMRA', 'GAIAEDR3_PMRA_ERROR', 'GAIAEDR3_PMDEC', 'GAIAEDR3_PMDEC_ERROR', \n",
    "              'VHELIO_AVG', 'VERR', 'SNR',\n",
    "              'FE_H', 'FE_H_ERR', 'C_FE', 'C_FE_ERR', 'CI_FE', 'CI_FE_ERR', 'N_FE', 'N_FE_ERR',\n",
    "              'O_FE', 'O_FE_ERR', 'MG_FE', 'MG_FE_ERR', 'AL_FE', 'AL_FE_ERR', 'SI_FE', 'SI_FE_ERR',\n",
    "              'P_FE', 'P_FE_ERR', 'S_FE', 'S_FE_ERR', 'K_FE', 'K_FE_ERR', 'CA_FE', 'CA_FE_ERR',\n",
    "              'TI_FE', 'TI_FE_ERR', 'TIII_FE', 'TIII_FE_ERR', 'V_FE', 'V_FE_ERR', 'CR_FE', 'CR_FE_ERR',\n",
    "              'MN_FE', 'MN_FE_ERR', 'CO_FE', 'CO_FE_ERR', 'NI_FE', 'NI_FE_ERR']\n",
    "\n",
    "abundance_index = 13 # index where the first chemical abundance starts\n",
    "RV_index = 10 # where the radial velocity index is (NOTE: USE VHELIO_AVG NOT THE STUPID GAIA ONE)\n",
    "PMRA_index = 6 # PMRA index\n",
    "PMDEC_index = 8 # PMDEC index\n",
    "\n",
    "# dictionary of all relevant parameters we could ever want for tSNE and UMAP\n",
    "# the abundances should skip every other one due to it being [chem1, chem1_err, chem2, chem2_err, etc.]\n",
    "all_param_dict = {'FE_H': abundance_index,\n",
    "                 'C_FE': abundance_index + 2,\n",
    "                 'CI_FE': abundance_index + 4,\n",
    "                 'N_FE': abundance_index + 6,\n",
    "                 'O_FE': abundance_index + 8,\n",
    "                 'MG_FE': abundance_index + 10,\n",
    "                 'AL_FE': abundance_index + 12,\n",
    "                 'SI_FE': abundance_index + 14,\n",
    "                 'P_FE': abundance_index + 16,\n",
    "                 'S_FE': abundance_index + 18,\n",
    "                 'K_FE': abundance_index + 20,\n",
    "                 'CA_FE': abundance_index + 22,\n",
    "                 'TI_FE': abundance_index + 24,\n",
    "                 'TIII_FE': abundance_index + 26,\n",
    "                 'V_FE': abundance_index + 28,\n",
    "                 'CR_FE': abundance_index + 30,\n",
    "                 'MN_FE': abundance_index + 32,\n",
    "                 'CO_FE': abundance_index + 34,\n",
    "                 'NI_FE': abundance_index + 36,\n",
    "                 'RV': RV_index,\n",
    "                 'PMRA': PMRA_index,\n",
    "                 'PMDEC': PMDEC_index}\n",
    "\n",
    "\n",
    "fov = 5 # field of view (note: for x by x, use fov = x/2)\n",
    "ML_index = 0 # 0 for both tSNE and UMAP, 1 for only tSNE, 2 for only UMAP, any other value will raise an error"
   ]
  },
  {
   "cell_type": "markdown",
   "metadata": {},
   "source": [
    "# dim reduction kin"
   ]
  },
  {
   "cell_type": "code",
   "execution_count": 4,
   "metadata": {},
   "outputs": [],
   "source": [
    "GC_name_list = GC_db.loc[:, 'Cluster']\n",
    "GC_ra_list = GC_db.loc[:, 'RA']\n",
    "GC_dec_list = GC_db.loc[:, 'DEC']"
   ]
  },
  {
   "cell_type": "code",
   "execution_count": 5,
   "metadata": {
    "hideCode": false
   },
   "outputs": [],
   "source": [
    "GC_stars_dict = {}"
   ]
  },
  {
   "cell_type": "code",
   "execution_count": 237,
   "metadata": {
    "collapsed": true,
    "hideCode": true
   },
   "outputs": [
    {
     "data": {
      "application/vnd.jupyter.widget-view+json": {
       "model_id": "60801e6163444654a14b58e562b88d67",
       "version_major": 2,
       "version_minor": 0
      },
      "text/plain": [
       "HBox(children=(HTML(value=''), FloatProgress(value=0.0, max=34.0), HTML(value='')))"
      ]
     },
     "metadata": {},
     "output_type": "display_data"
    },
    {
     "name": "stdout",
     "output_type": "stream",
     "text": [
      "\n",
      "Processing: NGC_104\n",
      "1988 stars in a 16.069026371571397x16.069026371571397 fov of the GC\n",
      "There are 1988 stars in our sample after the proper motion filtering.\n",
      "There are 1988 stars in our sample after the abundance filtering.\n",
      "There were no duplicate spectra.\n",
      "There are 1988 stars in our sample after removing sources with low SNR.\n",
      "\n",
      "The final amount of stars in our sample is: 1988\n",
      "rhm: 0.08\trhmrt2: 0.84\trt: 1.61\n",
      "There are 0 stars within rhm and 137 stars within (rhm+rt)/2 and 185 stars within the rt\n",
      "Directory NGC_104 already exists\n",
      "Done!\n",
      "\n",
      "\n",
      "Processing: NGC_288\n",
      "354 stars in a 6.045468238333238x6.045468238333238 fov of the GC\n",
      "There are 354 stars in our sample after the proper motion filtering.\n",
      "There are 354 stars in our sample after the abundance filtering.\n",
      "There were no duplicate spectra.\n",
      "There are 354 stars in our sample after removing sources with low SNR.\n",
      "\n",
      "The final amount of stars in our sample is: 354\n",
      "rhm: 0.05\trhmrt2: 0.33\trt: 0.60\n",
      "There are 12 stars within rhm and 49 stars within (rhm+rt)/2 and 84 stars within the rt\n",
      "Directory NGC_288 already exists\n",
      "Done!\n",
      "\n",
      "\n",
      "Processing: NGC_362\n",
      "1446 stars in a 5.966850967573638x5.966850967573638 fov of the GC\n",
      "There are 1446 stars in our sample after the proper motion filtering.\n",
      "There are 1446 stars in our sample after the abundance filtering.\n",
      "There were no duplicate spectra.\n",
      "There are 1446 stars in our sample after removing sources with low SNR.\n",
      "\n",
      "The final amount of stars in our sample is: 1446\n",
      "rhm: 0.02\trhmrt2: 0.31\trt: 0.60\n",
      "There are 0 stars within rhm and 38 stars within (rhm+rt)/2 and 61 stars within the rt\n",
      "Directory NGC_362 already exists\n",
      "Done!\n",
      "\n",
      "\n",
      "Processing: NGC_1851\n",
      "386 stars in a 6.093260335306687x6.093260335306687 fov of the GC\n",
      "There are 386 stars in our sample after the proper motion filtering.\n",
      "There are 386 stars in our sample after the abundance filtering.\n",
      "There were no duplicate spectra.\n",
      "There are 386 stars in our sample after removing sources with low SNR.\n",
      "\n",
      "The final amount of stars in our sample is: 386\n",
      "rhm: 0.01\trhmrt2: 0.31\trt: 0.61\n",
      "There are 0 stars within rhm and 44 stars within (rhm+rt)/2 and 116 stars within the rt\n",
      "Directory NGC_1851 already exists\n",
      "Done!\n",
      "\n",
      "\n",
      "Processing: NGC_1904\n",
      "246 stars in a 2.877029946412754x2.877029946412754 fov of the GC\n",
      "There are 246 stars in our sample after the proper motion filtering.\n",
      "There are 246 stars in our sample after the abundance filtering.\n",
      "There were no duplicate spectra.\n",
      "There are 246 stars in our sample after removing sources with low SNR.\n",
      "\n",
      "The final amount of stars in our sample is: 246\n",
      "rhm: 0.01\trhmrt2: 0.15\trt: 0.29\n",
      "There are 0 stars within rhm and 35 stars within (rhm+rt)/2 and 60 stars within the rt\n",
      "Directory NGC_1904 already exists\n",
      "Done!\n",
      "\n",
      "\n",
      "Processing: NGC_2808\n",
      "1251 stars in a 9.448390742205868x9.448390742205868 fov of the GC\n",
      "There are 1251 stars in our sample after the proper motion filtering.\n",
      "There are 1251 stars in our sample after the abundance filtering.\n",
      "There were no duplicate spectra.\n",
      "There are 1251 stars in our sample after removing sources with low SNR.\n",
      "\n",
      "The final amount of stars in our sample is: 1251\n",
      "rhm: 0.02\trhmrt2: 0.48\trt: 0.94\n",
      "There are 0 stars within rhm and 132 stars within (rhm+rt)/2 and 249 stars within the rt\n",
      "Directory NGC_2808 already exists\n",
      "Done!\n",
      "\n",
      "\n",
      "Processing: NGC_3201\n",
      "2390 stars in a 9.370771528160178x9.370771528160178 fov of the GC\n",
      "There are 2390 stars in our sample after the proper motion filtering.\n",
      "There are 2390 stars in our sample after the abundance filtering.\n",
      "There were no duplicate spectra.\n",
      "There are 2390 stars in our sample after removing sources with low SNR.\n",
      "\n",
      "The final amount of stars in our sample is: 2390\n",
      "rhm: 0.08\trhmrt2: 0.51\trt: 0.94\n",
      "There are 28 stars within rhm and 271 stars within (rhm+rt)/2 and 372 stars within the rt\n",
      "Directory NGC_3201 already exists\n",
      "Done!\n",
      "\n",
      "\n",
      "Processing: NGC_4590\n",
      "218 stars in a 4.265702152885224x4.265702152885224 fov of the GC\n",
      "There are 218 stars in our sample after the proper motion filtering.\n",
      "There are 218 stars in our sample after the abundance filtering.\n",
      "There were no duplicate spectra.\n",
      "There are 218 stars in our sample after removing sources with low SNR.\n",
      "\n",
      "The final amount of stars in our sample is: 218\n",
      "rhm: 0.04\trhmrt2: 0.23\trt: 0.43\n",
      "There are 6 stars within rhm and 45 stars within (rhm+rt)/2 and 69 stars within the rt\n",
      "Directory NGC_4590 already exists\n",
      "Done!\n",
      "\n",
      "\n",
      "Processing: NGC_5024\n",
      "695 stars in a 5.503942010753989x5.503942010753989 fov of the GC\n",
      "There are 695 stars in our sample after the proper motion filtering.\n",
      "There are 695 stars in our sample after the abundance filtering.\n",
      "There were no duplicate spectra.\n",
      "There are 695 stars in our sample after removing sources with low SNR.\n",
      "\n",
      "The final amount of stars in our sample is: 695\n",
      "rhm: 0.03\trhmrt2: 0.29\trt: 0.55\n",
      "There are 3 stars within rhm and 44 stars within (rhm+rt)/2 and 69 stars within the rt\n",
      "Directory NGC_5024 already exists\n",
      "Done!\n",
      "\n",
      "\n",
      "Processing: NGC_5139\n",
      "7338 stars in a 21.40051513819914x21.40051513819914 fov of the GC\n",
      "There are 7338 stars in our sample after the proper motion filtering.\n",
      "There are 7338 stars in our sample after the abundance filtering.\n",
      "There were no duplicate spectra.\n",
      "There are 7338 stars in our sample after removing sources with low SNR.\n",
      "\n",
      "The final amount of stars in our sample is: 7338\n",
      "rhm: 0.11\trhmrt2: 1.12\trt: 2.14\n",
      "There are 62 stars within rhm and 1367 stars within (rhm+rt)/2 and 1401 stars within the rt\n",
      "Directory NGC_5139 already exists\n",
      "Done!\n",
      "\n",
      "\n",
      "Processing: NGC_5272\n",
      "2863 stars in a 7.163287671590215x7.163287671590215 fov of the GC\n",
      "There are 2863 stars in our sample after the proper motion filtering.\n",
      "There are 2863 stars in our sample after the abundance filtering.\n",
      "There were no duplicate spectra.\n",
      "There are 2863 stars in our sample after removing sources with low SNR.\n",
      "\n",
      "The final amount of stars in our sample is: 2863\n",
      "rhm: 0.04\trhmrt2: 0.38\trt: 0.72\n",
      "There are 10 stars within rhm and 136 stars within (rhm+rt)/2 and 184 stars within the rt\n",
      "Directory NGC_5272 already exists\n",
      "Done!\n",
      "\n",
      "\n",
      "Processing: NGC_5904\n",
      "1337 stars in a 6.260157376006921x6.260157376006921 fov of the GC\n",
      "There are 1337 stars in our sample after the proper motion filtering.\n",
      "There are 1337 stars in our sample after the abundance filtering.\n",
      "There were no duplicate spectra.\n",
      "There are 1337 stars in our sample after removing sources with low SNR.\n",
      "\n",
      "The final amount of stars in our sample is: 1337\n",
      "rhm: 0.04\trhmrt2: 0.33\trt: 0.63\n",
      "There are 20 stars within rhm and 126 stars within (rhm+rt)/2 and 174 stars within the rt\n",
      "Directory NGC_5904 already exists\n",
      "Done!\n",
      "\n",
      "\n",
      "Processing: NGC_6121\n",
      "14603 stars in a 16.543041949877825x16.543041949877825 fov of the GC\n",
      "There are 14603 stars in our sample after the proper motion filtering.\n",
      "There are 14603 stars in our sample after the abundance filtering.\n",
      "There were no duplicate spectra.\n",
      "There are 14603 stars in our sample after removing sources with low SNR.\n",
      "\n",
      "The final amount of stars in our sample is: 14603\n",
      "rhm: 0.11\trhmrt2: 0.88\trt: 1.65\n",
      "There are 64 stars within rhm and 357 stars within (rhm+rt)/2 and 557 stars within the rt\n",
      "Directory NGC_6121 already exists\n",
      "Done!\n",
      "\n",
      "\n",
      "Processing: NGC_6171\n",
      "733 stars in a 3.6809233277701607x3.6809233277701607 fov of the GC\n",
      "There are 733 stars in our sample after the proper motion filtering.\n",
      "There are 733 stars in our sample after the abundance filtering.\n",
      "There were no duplicate spectra.\n",
      "There are 733 stars in our sample after removing sources with low SNR.\n",
      "\n",
      "The final amount of stars in our sample is: 733\n",
      "rhm: 0.04\trhmrt2: 0.20\trt: 0.37\n",
      "There are 4 stars within rhm and 46 stars within (rhm+rt)/2 and 98 stars within the rt\n",
      "Directory NGC_6171 already exists\n",
      "Done!\n",
      "\n",
      "\n",
      "Processing: NGC_6205\n",
      "7804 stars in a 10.365389794193762x10.365389794193762 fov of the GC\n",
      "There are 7804 stars in our sample after the proper motion filtering.\n",
      "There are 7804 stars in our sample after the abundance filtering.\n",
      "There were no duplicate spectra.\n",
      "There are 7804 stars in our sample after removing sources with low SNR.\n",
      "\n",
      "The final amount of stars in our sample is: 7804\n",
      "rhm: 0.04\trhmrt2: 0.54\trt: 1.04\n",
      "There are 0 stars within rhm and 110 stars within (rhm+rt)/2 and 221 stars within the rt\n",
      "Directory NGC_6205 already exists\n",
      "Done!\n",
      "\n",
      "\n",
      "Processing: NGC_6218\n",
      "981 stars in a 5.075757505506928x5.075757505506928 fov of the GC\n",
      "There are 981 stars in our sample after the proper motion filtering.\n",
      "There are 981 stars in our sample after the abundance filtering.\n",
      "There were no duplicate spectra.\n",
      "There are 981 stars in our sample after removing sources with low SNR.\n",
      "\n",
      "The final amount of stars in our sample is: 981\n",
      "rhm: 0.05\trhmrt2: 0.28\trt: 0.51\n",
      "There are 18 stars within rhm and 102 stars within (rhm+rt)/2 and 190 stars within the rt\n",
      "Directory NGC_6218 already exists\n"
     ]
    },
    {
     "name": "stdout",
     "output_type": "stream",
     "text": [
      "Done!\n",
      "\n",
      "\n",
      "Processing: NGC_6254\n",
      "905 stars in a 6.109058112859154x6.109058112859154 fov of the GC\n",
      "There are 905 stars in our sample after the proper motion filtering.\n",
      "There are 905 stars in our sample after the abundance filtering.\n",
      "There were no duplicate spectra.\n",
      "There are 905 stars in our sample after removing sources with low SNR.\n",
      "\n",
      "The final amount of stars in our sample is: 905\n",
      "rhm: 0.05\trhmrt2: 0.33\trt: 0.61\n",
      "There are 17 stars within rhm and 122 stars within (rhm+rt)/2 and 217 stars within the rt\n",
      "Directory NGC_6254 already exists\n",
      "Done!\n",
      "\n",
      "\n",
      "Processing: NGC_6273\n",
      "843 stars in a 2.663478861603907x2.663478861603907 fov of the GC\n",
      "There are 843 stars in our sample after the proper motion filtering.\n",
      "There are 843 stars in our sample after the abundance filtering.\n",
      "There were no duplicate spectra.\n",
      "There are 843 stars in our sample after removing sources with low SNR.\n",
      "\n",
      "The final amount of stars in our sample is: 843\n",
      "rhm: 0.03\trhmrt2: 0.15\trt: 0.27\n",
      "There are 6 stars within rhm and 40 stars within (rhm+rt)/2 and 47 stars within the rt\n",
      "Directory NGC_6273 already exists\n",
      "Done!\n",
      "\n",
      "\n",
      "Processing: NGC_6341\n",
      "1996 stars in a 8.146910751771179x8.146910751771179 fov of the GC\n",
      "There are 1996 stars in our sample after the proper motion filtering.\n",
      "There are 1996 stars in our sample after the abundance filtering.\n",
      "There were no duplicate spectra.\n",
      "There are 1996 stars in our sample after removing sources with low SNR.\n",
      "\n",
      "The final amount of stars in our sample is: 1996\n",
      "rhm: 0.03\trhmrt2: 0.42\trt: 0.81\n",
      "There are 1 stars within rhm and 84 stars within (rhm+rt)/2 and 146 stars within the rt\n",
      "Directory NGC_6341 already exists\n",
      "Done!\n",
      "\n",
      "\n",
      "Processing: NGC_6380\n",
      "423 stars in a 2.360978175470638x2.360978175470638 fov of the GC\n",
      "There are 423 stars in our sample after the proper motion filtering.\n",
      "There are 423 stars in our sample after the abundance filtering.\n",
      "There were no duplicate spectra.\n",
      "There are 423 stars in our sample after removing sources with low SNR.\n",
      "\n",
      "The final amount of stars in our sample is: 423\n",
      "rhm: 0.03\trhmrt2: 0.13\trt: 0.24\n",
      "There are 0 stars within rhm and 26 stars within (rhm+rt)/2 and 43 stars within the rt\n",
      "Directory NGC_6380 already exists\n",
      "Done!\n",
      "\n",
      "\n",
      "Processing: NGC_6388\n",
      "540 stars in a 5.157506737923715x5.157506737923715 fov of the GC\n",
      "There are 540 stars in our sample after the proper motion filtering.\n",
      "There are 540 stars in our sample after the abundance filtering.\n",
      "There were no duplicate spectra.\n",
      "There are 540 stars in our sample after removing sources with low SNR.\n",
      "\n",
      "The final amount of stars in our sample is: 540\n",
      "rhm: 0.02\trhmrt2: 0.27\trt: 0.52\n",
      "There are 0 stars within rhm and 66 stars within (rhm+rt)/2 and 95 stars within the rt\n",
      "Directory NGC_6388 already exists\n",
      "Done!\n",
      "\n",
      "\n",
      "Processing: NGC_6397\n",
      "3279 stars in a 12.11347982146192x12.11347982146192 fov of the GC\n",
      "There are 3279 stars in our sample after the proper motion filtering.\n",
      "There are 3279 stars in our sample after the abundance filtering.\n",
      "There were no duplicate spectra.\n",
      "There are 3279 stars in our sample after removing sources with low SNR.\n",
      "\n",
      "The final amount of stars in our sample is: 3279\n",
      "rhm: 0.09\trhmrt2: 0.65\trt: 1.21\n",
      "There are 24 stars within rhm and 180 stars within (rhm+rt)/2 and 200 stars within the rt\n",
      "Directory NGC_6397 already exists\n",
      "Done!\n",
      "\n",
      "\n",
      "Processing: NGC_6441\n",
      "1535 stars in a 5.020566082893428x5.020566082893428 fov of the GC\n",
      "There are 1535 stars in our sample after the proper motion filtering.\n",
      "There are 1535 stars in our sample after the abundance filtering.\n",
      "There were no duplicate spectra.\n",
      "There are 1535 stars in our sample after removing sources with low SNR.\n",
      "\n",
      "The final amount of stars in our sample is: 1535\n",
      "rhm: 0.02\trhmrt2: 0.26\trt: 0.50\n",
      "There are 0 stars within rhm and 24 stars within (rhm+rt)/2 and 31 stars within the rt\n",
      "Directory NGC_6441 already exists\n",
      "Done!\n",
      "\n",
      "\n",
      "Processing: Ter_9\n",
      "1760 stars in a 2.9501604259403598x2.9501604259403598 fov of the GC\n",
      "There are 1760 stars in our sample after the proper motion filtering.\n",
      "There are 1760 stars in our sample after the abundance filtering.\n",
      "There were no duplicate spectra.\n",
      "There are 1760 stars in our sample after removing sources with low SNR.\n",
      "\n",
      "The final amount of stars in our sample is: 1760\n",
      "rhm: 0.02\trhmrt2: 0.16\trt: 0.30\n",
      "There are 3 stars within rhm and 22 stars within (rhm+rt)/2 and 30 stars within the rt\n",
      "Directory Ter_9 already exists\n",
      "Done!\n",
      "\n",
      "\n",
      "Processing: NGC_6522\n",
      "1224 stars in a 1.829686163167248x1.829686163167248 fov of the GC\n",
      "There are 1224 stars in our sample after the proper motion filtering.\n",
      "There are 1224 stars in our sample after the abundance filtering.\n",
      "There were no duplicate spectra.\n",
      "There are 1224 stars in our sample after removing sources with low SNR.\n",
      "\n",
      "The final amount of stars in our sample is: 1224\n",
      "rhm: 0.02\trhmrt2: 0.10\trt: 0.18\n",
      "There are 1 stars within rhm and 28 stars within (rhm+rt)/2 and 46 stars within the rt\n",
      "Directory NGC_6522 already exists\n",
      "Done!\n",
      "\n",
      "\n",
      "Processing: NGC_6544\n",
      "12060 stars in a 10.800529504134532x10.800529504134532 fov of the GC\n",
      "There are 12060 stars in our sample after the proper motion filtering.\n",
      "There are 12060 stars in our sample after the abundance filtering.\n",
      "There were no duplicate spectra.\n",
      "There are 12060 stars in our sample after removing sources with low SNR.\n",
      "\n",
      "The final amount of stars in our sample is: 12060\n",
      "rhm: 0.05\trhmrt2: 0.56\trt: 1.08\n",
      "There are 14 stars within rhm and 188 stars within (rhm+rt)/2 and 445 stars within the rt\n",
      "Directory NGC_6544 already exists\n",
      "Done!\n",
      "\n",
      "\n",
      "Processing: NGC_6553\n",
      "3683 stars in a 5.1865775782933845x5.1865775782933845 fov of the GC\n",
      "There are 3683 stars in our sample after the proper motion filtering.\n",
      "There are 3683 stars in our sample after the abundance filtering.\n",
      "There were no duplicate spectra.\n",
      "There are 3683 stars in our sample after removing sources with low SNR.\n",
      "\n",
      "The final amount of stars in our sample is: 3683\n",
      "rhm: 0.05\trhmrt2: 0.28\trt: 0.52\n",
      "There are 0 stars within rhm and 36 stars within (rhm+rt)/2 and 86 stars within the rt\n",
      "Directory NGC_6553 already exists\n",
      "Done!\n",
      "\n",
      "\n",
      "Processing: NGC_6656\n",
      "16615 stars in a 13.40129555366234x13.40129555366234 fov of the GC\n",
      "There are 16615 stars in our sample after the proper motion filtering.\n",
      "There are 16615 stars in our sample after the abundance filtering.\n",
      "There were no duplicate spectra.\n",
      "There are 16615 stars in our sample after removing sources with low SNR.\n",
      "\n",
      "The final amount of stars in our sample is: 16615\n",
      "rhm: 0.09\trhmrt2: 0.72\trt: 1.34\n",
      "There are 52 stars within rhm and 508 stars within (rhm+rt)/2 and 716 stars within the rt\n",
      "Directory NGC_6656 already exists\n",
      "Done!\n",
      "\n",
      "\n",
      "Processing: NGC_6715\n",
      "3468 stars in a 6.176280674265032x6.176280674265032 fov of the GC\n",
      "There are 3468 stars in our sample after the proper motion filtering.\n",
      "There are 3468 stars in our sample after the abundance filtering.\n",
      "There were no duplicate spectra.\n",
      "There are 3468 stars in our sample after removing sources with low SNR.\n",
      "\n",
      "The final amount of stars in our sample is: 3468\n",
      "rhm: 0.01\trhmrt2: 0.31\trt: 0.62\n",
      "There are 0 stars within rhm and 69 stars within (rhm+rt)/2 and 160 stars within the rt\n",
      "Directory NGC_6715 already exists\n",
      "Done!\n",
      "\n",
      "\n",
      "Processing: NGC_6752\n",
      "230 stars in a 9.376479392805248x9.376479392805248 fov of the GC\n",
      "There are 230 stars in our sample after the proper motion filtering.\n",
      "There are 230 stars in our sample after the abundance filtering.\n",
      "There were no duplicate spectra.\n",
      "There are 230 stars in our sample after removing sources with low SNR.\n",
      "\n",
      "The final amount of stars in our sample is: 230\n",
      "rhm: 0.07\trhmrt2: 0.51\trt: 0.94\n",
      "There are 6 stars within rhm and 129 stars within (rhm+rt)/2 and 181 stars within the rt\n",
      "Directory NGC_6752 already exists\n",
      "Done!\n",
      "\n",
      "\n",
      "Processing: NGC_6809\n",
      "1117 stars in a 5.517359472908916x5.517359472908916 fov of the GC\n",
      "There are 1117 stars in our sample after the proper motion filtering.\n",
      "There are 1117 stars in our sample after the abundance filtering.\n",
      "There were no duplicate spectra.\n",
      "There are 1117 stars in our sample after removing sources with low SNR.\n",
      "\n",
      "The final amount of stars in our sample is: 1117\n",
      "rhm: 0.07\trhmrt2: 0.31\trt: 0.55\n",
      "There are 31 stars within rhm and 104 stars within (rhm+rt)/2 and 162 stars within the rt\n",
      "Directory NGC_6809 already exists\n",
      "Done!\n",
      "\n",
      "\n",
      "Processing: NGC_6838\n",
      "3537 stars in a 6.183406934332374x6.183406934332374 fov of the GC\n",
      "There are 3537 stars in our sample after the proper motion filtering.\n",
      "There are 3537 stars in our sample after the abundance filtering.\n",
      "There were no duplicate spectra.\n",
      "There are 3537 stars in our sample after removing sources with low SNR.\n",
      "\n",
      "The final amount of stars in our sample is: 3537\n",
      "rhm: 0.09\trhmrt2: 0.36\trt: 0.62\n",
      "There are 58 stars within rhm and 134 stars within (rhm+rt)/2 and 259 stars within the rt\n",
      "Directory NGC_6838 already exists\n"
     ]
    },
    {
     "name": "stdout",
     "output_type": "stream",
     "text": [
      "Done!\n",
      "\n",
      "\n",
      "Processing: NGC_7078\n",
      "1610 stars in a 7.529334031513354x7.529334031513354 fov of the GC\n",
      "There are 1610 stars in our sample after the proper motion filtering.\n",
      "There are 1610 stars in our sample after the abundance filtering.\n",
      "There were no duplicate spectra.\n",
      "There are 1610 stars in our sample after removing sources with low SNR.\n",
      "\n",
      "The final amount of stars in our sample is: 1610\n",
      "rhm: 0.02\trhmrt2: 0.39\trt: 0.75\n",
      "There are 7 stars within rhm and 135 stars within (rhm+rt)/2 and 312 stars within the rt\n",
      "Directory NGC_7078 already exists\n",
      "Done!\n",
      "\n",
      "\n",
      "Processing: NGC_7089\n",
      "851 stars in a 5.463763802291152x5.463763802291152 fov of the GC\n",
      "There are 851 stars in our sample after the proper motion filtering.\n",
      "There are 851 stars in our sample after the abundance filtering.\n",
      "There were no duplicate spectra.\n",
      "There are 851 stars in our sample after removing sources with low SNR.\n",
      "\n",
      "The final amount of stars in our sample is: 851\n",
      "rhm: 0.02\trhmrt2: 0.28\trt: 0.55\n",
      "There are 0 stars within rhm and 31 stars within (rhm+rt)/2 and 69 stars within the rt\n",
      "Directory NGC_7089 already exists\n",
      "Done!\n",
      "\n",
      "\n",
      "that shit took 29.411724217732747 mins\n"
     ]
    }
   ],
   "source": [
    "start = time.time()\n",
    "\n",
    "for count, i in enumerate(tqdm(GC_name_list)):\n",
    "    GC_stars_dict[i] = master_func_auto(i, all_param_dict, fov, GC_db, apogee_nofilt, param_list, ML_index)\n",
    "    \n",
    "end = time.time()\n",
    "\n",
    "print('that shit took', (end - start) / 60, 'mins')"
   ]
  },
  {
   "cell_type": "code",
   "execution_count": 239,
   "metadata": {
    "hideCode": true
   },
   "outputs": [],
   "source": [
    "### saving dim reduction w/ kin results\n",
    "\n",
    "with open('saved_runs_10_RT/GC_stars_dict_kin.pkl', 'wb') as f:\n",
    "    pickle.dump(GC_stars_dict, f)"
   ]
  },
  {
   "cell_type": "code",
   "execution_count": 6,
   "metadata": {},
   "outputs": [],
   "source": [
    "### reading dim reduction w/ kin results\n",
    "\n",
    "with open('saved_runs_10_RT/GC_stars_dict_kin.pkl', 'rb') as f:\n",
    "    GC_stars_dict = pickle.load(f)"
   ]
  },
  {
   "cell_type": "code",
   "execution_count": 7,
   "metadata": {
    "scrolled": true
   },
   "outputs": [],
   "source": [
    "control_stars_list = [] # list of # of control stars\n",
    "total_stars_list = [] # list of # of total stars\n",
    "\n",
    "sum = 0\n",
    "for key in GC_stars_dict: # going through and cutting out the ones that have None (i.e. no control stars)\n",
    "    if GC_stars_dict[key][2] is None: # if there is no controls, we set the number of control and all stars to 0\n",
    "        control_stars_list.append(0)\n",
    "        total_stars_list.append(0)\n",
    "    else:\n",
    "        sum += 1\n",
    "        control_stars_list.append(len(GC_stars_dict[key][2]))\n",
    "        total_stars_list.append(len(GC_stars_dict[key][0]))"
   ]
  },
  {
   "cell_type": "code",
   "execution_count": 8,
   "metadata": {},
   "outputs": [],
   "source": [
    "new_control_stars_list = [] # control stars we want to keep\n",
    "new_total_stars_list = [] # total stars we want to keep\n",
    "new_stars_index_list = [] # indices of total stars\n",
    "\n",
    "for i in range(len(control_stars_list)):\n",
    "    if control_stars_list[i] != 0: # if the number of the control stars were not 0, keep the GC\n",
    "        new_control_stars_list.append(control_stars_list[i])\n",
    "        new_total_stars_list.append(total_stars_list[i])\n",
    "        new_stars_index_list.append(i)"
   ]
  },
  {
   "cell_type": "code",
   "execution_count": 9,
   "metadata": {},
   "outputs": [],
   "source": [
    "GC_name_arr = np.empty(len(new_stars_index_list), dtype=np.ndarray) # names of the final GCs\n",
    "\n",
    "# tsne x,y coords\n",
    "tsne_control_X = np.empty(len(new_stars_index_list), dtype=np.ndarray)\n",
    "tsne_control_Y = np.empty(len(new_stars_index_list), dtype=np.ndarray)\n",
    "tsne_all_X = np.empty(len(new_stars_index_list), dtype=np.ndarray)\n",
    "tsne_all_Y = np.empty(len(new_stars_index_list), dtype=np.ndarray)\n",
    "\n",
    "# umap x,y coords\n",
    "umap_control_X = np.empty(len(new_stars_index_list), dtype=np.ndarray)\n",
    "umap_control_Y = np.empty(len(new_stars_index_list), dtype=np.ndarray)\n",
    "umap_all_X = np.empty(len(new_stars_index_list), dtype=np.ndarray)\n",
    "umap_all_Y = np.empty(len(new_stars_index_list), dtype=np.ndarray)\n",
    "\n",
    "# control star indices\n",
    "control_indices_rad = np.empty(len(new_stars_index_list), dtype=np.ndarray)\n",
    "\n",
    "# going through the GCs that had control stars and breaking up the dictionary into the star lists above\n",
    "for i in range(len(new_stars_index_list)):\n",
    "    ind = new_stars_index_list[i]\n",
    "    GC_name_arr[i] = GC_name_list[ind]\n",
    "    \n",
    "    tsne_control_X[i] = GC_stars_dict[GC_name_arr[i]][2]\n",
    "    tsne_control_Y[i] = GC_stars_dict[GC_name_arr[i]][3]\n",
    "    tsne_all_X[i] = GC_stars_dict[GC_name_arr[i]][0]\n",
    "    tsne_all_Y[i] = GC_stars_dict[GC_name_arr[i]][1]\n",
    "    \n",
    "    umap_control_X[i] = GC_stars_dict[GC_name_arr[i]][6]\n",
    "    umap_control_Y[i] = GC_stars_dict[GC_name_arr[i]][7]\n",
    "    umap_all_X[i] = GC_stars_dict[GC_name_arr[i]][4]\n",
    "    umap_all_Y[i] = GC_stars_dict[GC_name_arr[i]][5]\n",
    "    \n",
    "    control_indices_rad[i] = GC_stars_dict[GC_name_arr[i]][8]"
   ]
  },
  {
   "cell_type": "markdown",
   "metadata": {},
   "source": [
    "# DBSCAN control stars"
   ]
  },
  {
   "cell_type": "code",
   "execution_count": 11,
   "metadata": {},
   "outputs": [],
   "source": [
    "def plot_ML(name, pack, ML):\n",
    "    ### function that plots the tsne and umap of the GC again\n",
    "    ### tsne = [ctrlX, ctrlY, allX, allY], same for umap\n",
    "    \n",
    "    fig, ax = plt.subplots(1, figsize=(10,10))\n",
    "    ax.scatter(pack[2], pack[3], s=1, c='gray', label='APOGEE DR17 stars') # all\n",
    "    ax.scatter(pack[0], pack[1], s=40, edgecolor='k', c='hotpink', label='Control Group') # ctrl\n",
    "    ax.set_title(name + ML, fontsize=30)\n",
    "    ax.set_xlabel(ML + \" X-Dimension\", fontsize=16)\n",
    "    ax.set_ylabel(ML + \" Y-Dimension\", fontsize=16)\n",
    "    ax.tick_params(axis='both', which='major', labelsize=16)\n",
    "    ax.tick_params(axis='both', which='minor', labelsize=16)\n",
    "    plt.savefig('GCs_20RHMRT_10RT/' + name + '/' + ML + '_kin.png')\n",
    "    ax.clear()\n",
    "    fig.clear()\n",
    "    plt.close(fig)"
   ]
  },
  {
   "cell_type": "code",
   "execution_count": 12,
   "metadata": {
    "hideCode": true
   },
   "outputs": [],
   "source": [
    "def db_ctrl(name, title, x, y):\n",
    "    plt.clf()\n",
    "    \n",
    "    ### setting up data for dbscan\n",
    "    X = np.c_[x, y] # column stack (i think) for second column for DBSCAN\n",
    "    \n",
    "    ### cKDTree to find nearest neighbour distance\n",
    "    col = np.column_stack([x,y]) # column stack for cKDTree\n",
    "    tree=cKDTree(col) # making a tree\n",
    "    dist, arg = tree.query(col, k=2) # querying tree for nearest neighbour distance\n",
    "    percentile_95 =  np.percentile(dist[:,1], 95) # taking the 95th percentile of that distance\n",
    "    \n",
    "    \n",
    "    ### using the nearest neighbour percentile distance to make eps arrays to cycle through\n",
    "    eps_const = np.linspace(0.1, 4, 10) # same array that multiplies into the 95th percentile\n",
    "    eps_arr = eps_const * percentile_95 # eps array to try with DBSCAN\n",
    "    \n",
    "    \n",
    "    ### making min_sample arrays to cycle through\n",
    "    # use a ball method to count nearest n neighbours within a radius of 95 percentile of nearest neighbouring distance\n",
    "    ball = tree.query_ball_tree(tree, percentile_95) # ball method where we query a ball of size 95th percentile of nearest neighbour for # of neighbors\n",
    "    neigh = [len(i) for i in ball]\n",
    "    neigh_95 = np.percentile(neigh, 95) # 95th percentile of number of neighbors\n",
    "    \n",
    "    neigh_const = np.linspace(0.1, 2, 10)\n",
    "    neigh_arr = neigh_const * neigh_95\n",
    "    neigh_arr = [int(i) for i in neigh_arr]\n",
    "    \n",
    "    # plot of histogram of nearest neighbor numbers in a ball of size 95th percentile of nearest neighbour distances\n",
    "    # plot of histogram of nearest neighbour distances\n",
    "    '''fig, ax = plt.subplots(2, 1, figsize=(24,12))\n",
    "    ax[0].hist(dist[:,1], color='grey', edgecolor='black')\n",
    "    ax[0].set_xlabel('Nearest neighbour dist', fontsize=30)\n",
    "    ax[0].set_title(title + ' nearest neighbour distance w/ 95th percentile as ' + str(percentile_95), fontsize=50)\n",
    "    ax[1].hist(neigh, color='grey', edgecolor='black')\n",
    "    ax[1].set_xlabel('# neighbours', fontsize=30)\n",
    "    ax[1].set_title(title + ' number of neighbour within ' + str(round(percentile_95,3)) + ' w/ 95th percentile as ' + str(round(neigh_95, 3)), fontsize=50)\n",
    "    plt.tight_layout()\n",
    "    #plt.savefig('GCs_20RHMRT_2/' + name + '/' + title + '_neigh_hist_ctrl.png')\n",
    "    fig.clear()\n",
    "    plt.close(fig)'''\n",
    "    \n",
    "    clusterings_lst = [] # list of clusterings\n",
    "    labels_lst = [] # list of labels\n",
    "    n_clusters_lst = [] # list of clusters\n",
    "\n",
    "    # dbscan\n",
    "    for i in range(len(neigh_arr)):\n",
    "        for j in range(len(eps_arr)):\n",
    "            # all\n",
    "            db = DBSCAN(eps=eps_arr[j], min_samples=neigh_arr[i]).fit(X)\n",
    "            clusterings_lst.append(db)\n",
    "            labels_lst.append(db.labels_)\n",
    "            n_clusters_lst.append(len(set(db.labels_)) - (1 if -1 in db.labels_ else 0))\n",
    "    \n",
    "    unique_labels_lst = []\n",
    "    core_samples_masks_lst = []\n",
    "    colors_lst = []\n",
    "    \n",
    "\n",
    "    for i in range(len(labels_lst)):\n",
    "        # all\n",
    "        unique_labels_lst.append(set(labels_lst[i]))\n",
    "        core_samples_masks_lst.append(np.zeros_like(labels_lst[i], dtype=bool))\n",
    "        core_samples_masks_lst[i][clusterings_lst[i].core_sample_indices_] = True\n",
    "        colors_lst.append([plt.cm.Spectral(each) for each in np.linspace(0, 1, len(unique_labels_lst[i]))])\n",
    "\n",
    "    \n",
    "    max_group_label = [] # tracking best group label for each iteration\n",
    "    max_group_metric = [] # tracking best group metric for each iteration\n",
    "\n",
    "    for ind, labels in enumerate(labels_lst): # going through every DBSCAN iteration\n",
    "        # get unique \n",
    "        lab, cow = np.unique(labels, return_counts=True)\n",
    "        # lab is the unique clustering labels\n",
    "        # cow is the counts for each unique clustering label\n",
    "        \n",
    "        \n",
    "        sigma_label = [] # list for sigma of each cluster\n",
    "        median_label = [] # list for median of each cluster\n",
    "        \n",
    "        lab_indices = [[] for _ in range(len(lab))] # list to get the indices of every member for each unique label\n",
    "        # e.g. lab=0 [a1, a2, a3] lab=1 [b1, b2] lab=2 [c1, c2, c3, c4] where a,b,c are the indices\n",
    "        lab_x = [[] for _ in range(len(lab_indices))] # clustering labels for x values\n",
    "        lab_y = [[] for _ in range(len(lab_indices))] # clustering labels for y values\n",
    "        for i in range(len(lab)): # for each group label\n",
    "            lab_indices[i] = [c for c, l in enumerate(labels) if l == lab[i]]\n",
    "            lab_x[i] = x[lab_indices[i]]\n",
    "            lab_y[i] = y[lab_indices[i]]\n",
    "        \n",
    "        for i in range(len(lab_indices)): # going through each cluster of the iteration\n",
    "            # ckdtree for each label\n",
    "            col_label = np.column_stack([lab_x[i],lab_y[i]]) # column stack for cKDTree\n",
    "            tree_label = cKDTree(col_label) # making a tree\n",
    "            dist_label, arg_label = tree_label.query(col_label, k=2) # querying tree for nearest neighbour distance\n",
    "            dist_median = np.median(dist_label[:,1])\n",
    "            dist_sigma = np.std(dist_label[:,1]) # nearest neighbour distance dispersion\n",
    "            \n",
    "            sigma_label.append(dist_sigma)\n",
    "            median_label.append(dist_median)\n",
    "        \n",
    "        N_sigma = [] # N / sigma^2 list\n",
    "        \n",
    "        for i in range(len(cow)): # going through each cluster of the iteration\n",
    "            if cow[i] >= 0.90 * len(x) or cow[i] <= 15: # cutting out any ones that are 90% of the data size or less than 10 control stars\n",
    "                N_sigma.append(0)\n",
    "            elif math.isinf(cow[i] / sigma_label[i]) or math.isnan(cow[i] / sigma_label[i]): # if sigma is 0 (aka very few stars in that group)\n",
    "                N_sigma.append(0)\n",
    "            else:\n",
    "                N_sigma.append(cow[i] / sigma_label[i]) # calculating total group members / dispersion of group\n",
    "        \n",
    "        max_pos = np.argmax(N_sigma) # taking the index of the highest metric of the clusters\n",
    "        \n",
    "        # now we put the metrics in a list. This list is for every iteration\n",
    "        if lab[max_pos] == -1: # if the cluster is -1, aka noise\n",
    "            max_group_metric.append(0)\n",
    "        else: # add the largest N/sigma2 value of the clusters to the metrics list as the representative metric for that iteration\n",
    "            max_group_metric.append(N_sigma[max_pos])\n",
    "        \n",
    "        # group label with highest metric\n",
    "        max_group_label.append(lab[max_pos])\n",
    "    \n",
    "    # right now the data is [e1s1, e1s2, e1s3, e1s4, e1s5, e1s6, e1s7, e1s8, e1s9, e1s10, e2s1, e2s2, e2s3, etc.]\n",
    "    # need to break it up into a 10 by 10\n",
    "    max_group_metric_arr = np.empty((10,10), dtype=int)\n",
    "    \n",
    "    for ind, item in enumerate(max_group_metric):\n",
    "        max_group_metric_arr[ind%10][ind//10] = item\n",
    "    \n",
    "    ### plotting\n",
    "    # all\n",
    "    '''fig, ax = plt.subplots(10, 10, figsize=(150,150))\n",
    "    for i in range(10):\n",
    "        for j in range(10):\n",
    "            for k, col in zip(unique_labels_lst[i + 10*j], colors_lst[i + 10*j]):\n",
    "                if k == -1:\n",
    "                    # Black used for noise.\n",
    "                    lab = 'Noise'\n",
    "                    col = [0, 0, 0, 1]\n",
    "                else:\n",
    "                    lab = 'Group ' + str(k)\n",
    "\n",
    "                class_member_mask = labels_lst[i + 10*j] == k\n",
    "\n",
    "                xy = X[class_member_mask & core_samples_masks_lst[i + 10*j]]\n",
    "                ax[i][j].plot(\n",
    "                    xy[:, 0],\n",
    "                    xy[:, 1],\n",
    "                    \"o\",\n",
    "                    markerfacecolor=tuple(col),\n",
    "                    markeredgecolor=\"k\",\n",
    "                    markersize=14,\n",
    "                    label=lab\n",
    "                )\n",
    "\n",
    "                xy = X[class_member_mask & ~core_samples_masks_lst[i + 10*j]]\n",
    "                ax[i][j].plot(\n",
    "                    xy[:, 0],\n",
    "                    xy[:, 1],\n",
    "                    \"o\",\n",
    "                    markerfacecolor=tuple(col),\n",
    "                    markeredgecolor=\"k\",\n",
    "                    markersize=6,\n",
    "                )\n",
    "\n",
    "            ax[i][j].set_xlabel('X', fontsize=40)\n",
    "            ax[i][j].set_ylabel('Y', fontsize=40)\n",
    "            ax[i][j].legend(fontsize=20)\n",
    "            ax[i][j].set_title(name + ' ' + title + f'DBSCAN groups\\neps = ' + str(round(eps_arr[i], 2)) + ' min_samples = ' + str(neigh_arr[j]) + f'\\nEstimated number of clusters: {n_clusters_lst[i + 10*j]}' + '\\nMetric: '+str(max_group_metric[i + 10*j]), fontsize=30)\n",
    "\n",
    "    plt.tight_layout()\n",
    "    file_name = 'GCs_20RHMRT_N2_ctrl_sigma_cluster/' + name + '/' + title + '_dbscan_matrix_ctrl.png'\n",
    "    plt.savefig(file_name)\n",
    "    fig.clear()\n",
    "    plt.close(fig)\n",
    "    \n",
    "    ### heat map\n",
    "    ### make a heat map based on the max N / sigma^2 of all groups of each DBSCAN\n",
    "    # plotting heatmap\n",
    "    fig, ax = plt.subplots(1, figsize=(12,12))\n",
    "    im = ax.imshow(max_group_metric_arr, cmap='RdPu', interpolation = 'None')\n",
    "    ax.set_xticks(np.arange(-.5, 9, 1))\n",
    "    ax.set_yticks(np.arange(-.5, 9, 1))\n",
    "    ax.set_xticklabels(neigh_arr)\n",
    "    ax.set_yticklabels(eps_arr)\n",
    "    ax.set_ylabel('eps', fontsize=20)\n",
    "    ax.set_xlabel('min samples', fontsize=20)\n",
    "    #ax.yaxis.set_major_formatter(FormatStrFormatter('%.2f'))\n",
    "    ax.grid(color='w', linestyle='-', linewidth=2)\n",
    "    plt.colorbar(im)\n",
    "    plt.savefig('GCs_20RHMRT_N2_ctrl_sigma_cluster/' + name + '/' + title + '_heatmap_ctrl.png')\n",
    "    ax.clear()\n",
    "    fig.clear()\n",
    "    plt.close(fig)'''\n",
    "    \n",
    "    # indices for the max section of heat map\n",
    "    max_eps_ind, max_samp_ind = np.unravel_index(max_group_metric_arr.argmax(), max_group_metric_arr.shape) \n",
    "    \n",
    "    \n",
    "    return [eps_arr[max_eps_ind], neigh_arr[max_samp_ind]]"
   ]
  },
  {
   "cell_type": "code",
   "execution_count": 245,
   "metadata": {
    "hideCode": true
   },
   "outputs": [],
   "source": [
    "def db_opt_ctrl(name, title, x, y, eps, samp, controls):\n",
    "    ### DBSCAN with the optimal eps and min_samp values chosen from the heatmap\n",
    "    \n",
    "    ### setting up data for dbscan\n",
    "    X = np.c_[x, y] # column stack (i think) for second column for DBSCAN\n",
    "    \n",
    "    ### cKDTree to find nearest neighbour distance\n",
    "    col = np.column_stack([x,y]) # column stack for cKDTree\n",
    "    tree=cKDTree(col) # making a tree\n",
    "    dist, arg = tree.query(col, k=2) # querying tree for nearest neighbour distance\n",
    "    percentile_95 =  np.percentile(dist[:,1], 95) # taking the 95th percentile of that distance\n",
    "    \n",
    "    # use a ball method to count nearest n neighbours within a radius of 95 percentile of nearest neighbouring distance\n",
    "    ball = tree.query_ball_tree(tree, percentile_95) # ball method where we query a ball of size 95th percentile of nearest neighbour for # of neighbors\n",
    "    neigh = [len(i) for i in ball]\n",
    "    neigh_95 = np.percentile(neigh, 95) # 95th percentile of number of neighbors for each point\n",
    "    \n",
    "    \n",
    "    # dbscan\n",
    "    db = DBSCAN(eps=eps, min_samples=samp).fit(X)\n",
    "    clusterings = db\n",
    "    labels = db.labels_\n",
    "    n_clusters = len(set(db.labels_)) - (1 if -1 in db.labels_ else 0)\n",
    "    \n",
    "    unique_labels = set(labels)\n",
    "    core_samples_masks = np.zeros_like(labels, dtype=bool)\n",
    "    core_samples_masks = clusterings.core_sample_indices_ = True\n",
    "    colors = [plt.cm.Spectral(each) for each in np.linspace(0, 1, len(unique_labels))]\n",
    "\n",
    "       \n",
    "    \n",
    "    ### filter out any exterior points of the chosen group\n",
    "    # to do this, we check that each point has at least 95 percentile of the number of neighbours\n",
    "    # if not, that point is likely outside of\n",
    "    \n",
    "    # get unique \n",
    "    lab, cow = np.unique(labels, return_counts=True)\n",
    "    # lab is the unique clustering labels\n",
    "    # cow is the counts for each unique clustering label\n",
    "\n",
    "\n",
    "    sigma_label = [] # list for sigma of each cluster\n",
    "    median_label = [] # list for median of each cluster\n",
    "\n",
    "    lab_indices = [[] for _ in range(len(lab))] # list to get the indices of every member for each unique label\n",
    "    # e.g. lab=0 [a1, a2, a3] lab=1 [b1, b2] lab=2 [c1, c2, c3, c4] where a,b,c are the indices\n",
    "    lab_x = [[] for _ in range(len(lab_indices))] # clustering labels for x values\n",
    "    lab_y = [[] for _ in range(len(lab_indices))] # clustering labels for y values\n",
    "    for i in range(len(lab)): # for each group label\n",
    "        lab_indices[i] = [c for c, l in enumerate(labels) if l == lab[i]]\n",
    "        lab_x[i] = x[lab_indices[i]]\n",
    "        lab_y[i] = y[lab_indices[i]]\n",
    "\n",
    "    for i in range(len(lab_indices)): # going through each cluster of the iteration\n",
    "        # ckdtree for each label\n",
    "        col_label = np.column_stack([lab_x[i],lab_y[i]]) # column stack for cKDTree\n",
    "        tree_label = cKDTree(col_label) # making a tree\n",
    "        dist_label, arg_label = tree_label.query(col_label, k=2) # querying tree for nearest neighbour distance\n",
    "        dist_median = np.median(dist_label[:,1])\n",
    "        dist_sigma = np.std(dist_label[:,1]) # nearest neighbour distance dispersion\n",
    "\n",
    "        sigma_label.append(dist_sigma)\n",
    "        median_label.append(dist_median)\n",
    "\n",
    "    N_sigma = [] # N / sigma^2 list\n",
    "\n",
    "    for i in range(len(cow)): # going through each cluster of the iteration\n",
    "        if cow[i] >= 0.90 * len(x) or cow[i] <= 15: # cutting out any ones that are 90% of the data size or less than 10 control stars\n",
    "            N_sigma.append(0)\n",
    "        elif math.isinf(cow[i] / sigma_label[i]) or math.isnan(cow[i] / sigma_label[i]): # if sigma is 0 (aka very few stars in that group)\n",
    "            N_sigma.append(0)\n",
    "        else:\n",
    "            N_sigma.append(cow[i] / sigma_label[i]) # calculating total group members / dispersion of group\n",
    "\n",
    "    max_pos = np.argmax(N_sigma) # taking the index of the highest metric of the clusters\n",
    "    \n",
    "    max_group_lab = lab[max_pos] # max group label\n",
    "    max_group_count = cow[max_pos] # max group count\n",
    "    max_group_indices = [c for c, l in enumerate(labels) if l == max_group_lab]\n",
    "    \n",
    "\n",
    "    # final control indices to be returned \n",
    "    # (global control indices for each GC, rather than local indices of selected control stars)\n",
    "    ctrl_indices = controls[max_group_indices]\n",
    "    \n",
    "    \n",
    "    # all\n",
    "    '''fig, ax = plt.subplots(1, figsize=(20,20))\n",
    "    for k, col in zip(unique_labels, colors):\n",
    "        if k == -1:\n",
    "            # Black used for noise.\n",
    "            lab = 'Noise'\n",
    "            col = [0, 0, 0, 1]\n",
    "        else:\n",
    "            lab = 'Group ' + str(k)\n",
    "\n",
    "        class_member_mask = labels == k\n",
    "\n",
    "        xy = X[class_member_mask & core_samples_masks]\n",
    "        ax.plot(\n",
    "            xy[:, 0],\n",
    "            xy[:, 1],\n",
    "            \"o\",\n",
    "            markerfacecolor=tuple(col),\n",
    "            markeredgecolor=\"k\",\n",
    "            markersize=14,\n",
    "            label=lab\n",
    "        )\n",
    "\n",
    "        xy = X[class_member_mask & ~core_samples_masks]\n",
    "        ax.plot(\n",
    "            xy[:, 0],\n",
    "            xy[:, 1],\n",
    "            \"o\",\n",
    "            markerfacecolor=tuple(col),\n",
    "            markeredgecolor=\"k\",\n",
    "            markersize=6,\n",
    "        )\n",
    "\n",
    "    ax.set_xlabel('X', fontsize=20)\n",
    "    ax.set_ylabel('Y', fontsize=20)\n",
    "    ax.tick_params(axis='both', which='major', labelsize=16)\n",
    "    ax.tick_params(axis='both', which='minor', labelsize=16)\n",
    "    ax.legend(fontsize=10)\n",
    "    ax.set_title(name + ' ' + title + f'DBSCAN groups\\neps = ' + str(round(eps, 2)) + ' min_samples = ' + str(samp) + f'\\nEstimated number of clusters: {n_clusters}' + '\\nChosen group: ' + str(max_group_lab), fontsize=30)\n",
    "    plt.tight_layout()\n",
    "    file_name = 'GCs_20RHMRT_N2_ctrl_sigma_cluster/' + name + '/' + title + '_dbscan_ctrl.png'\n",
    "    plt.savefig(file_name)\n",
    "    ax.clear()\n",
    "    fig.clear()\n",
    "    plt.close(fig)'''\n",
    "    \n",
    "    \n",
    "    return ctrl_indices"
   ]
  },
  {
   "cell_type": "code",
   "execution_count": 13,
   "metadata": {},
   "outputs": [],
   "source": [
    "def final_control_group_plot(ctrl_indices, name, ML, pack):\n",
    "    # selecting the final control group from the optimal DBSCAN by taking the largest group    \n",
    "    \n",
    "    fig, ax = plt.subplots(1, figsize=(12,12))\n",
    "    plt.plot(pack[2], pack[3], 'ok', ms='1') # all\n",
    "    plt.plot(pack[0], pack[1], 'or', ms='5', label='Original Ctrl') # original ctrl\n",
    "    plt.plot(pack[2][ctrl_indices], pack[3][ctrl_indices], 'o', color='cyan', ms='5', label='Final Ctrl') # final ctrl\n",
    "    #plt.xlim(x_lower, x_upper)\n",
    "    #plt.ylim(y_lower, y_upper)\n",
    "    plt.title(name + ' ' + ML + ', OG Ctrl: ' + str(len(pack[0])) + '\\tFinal Ctrl: ' + str(len(ctrl_indices)), fontsize=30)\n",
    "    plt.legend()\n",
    "    plt.savefig('GCs_20RHMRT_10RT/' + name + '/final_' + ML + '_ctrl.png')\n",
    "    ax.clear()\n",
    "    fig.clear()\n",
    "    plt.close(fig)"
   ]
  },
  {
   "cell_type": "markdown",
   "metadata": {},
   "source": [
    "### tsne and umap dbscan and choosing main group"
   ]
  },
  {
   "cell_type": "code",
   "execution_count": 247,
   "metadata": {
    "hideCode": true
   },
   "outputs": [],
   "source": [
    "final_ctrl = []\n",
    "tsne_other_ctrl = []\n",
    "umap_other_ctrl = []\n",
    "tsne_ctrl_lab = []\n",
    "umap_ctrl_lab = []\n",
    "tsne_ctrl_inds = []\n",
    "umap_ctrl_inds = []"
   ]
  },
  {
   "cell_type": "code",
   "execution_count": 248,
   "metadata": {
    "collapsed": true,
    "hideCode": true
   },
   "outputs": [
    {
     "data": {
      "application/vnd.jupyter.widget-view+json": {
       "model_id": "52e7efea12054f76b52b5e601cee978e",
       "version_major": 2,
       "version_minor": 0
      },
      "text/plain": [
       "HBox(children=(HTML(value=''), FloatProgress(value=0.0, max=34.0), HTML(value='')))"
      ]
     },
     "metadata": {},
     "output_type": "display_data"
    },
    {
     "name": "stdout",
     "output_type": "stream",
     "text": [
      "\n",
      "Making directory NGC_104\n",
      "\n",
      "Making directory NGC_288\n"
     ]
    },
    {
     "name": "stderr",
     "output_type": "stream",
     "text": [
      "C:\\Users\\ryanw\\Anaconda3\\lib\\site-packages\\numpy\\core\\_methods.py:233: RuntimeWarning: invalid value encountered in subtract\n",
      "  x = asanyarray(arr - arrmean)\n",
      "C:\\Users\\ryanw\\Anaconda3\\lib\\site-packages\\numpy\\core\\_methods.py:233: RuntimeWarning: invalid value encountered in subtract\n",
      "  x = asanyarray(arr - arrmean)\n"
     ]
    },
    {
     "name": "stdout",
     "output_type": "stream",
     "text": [
      "\n",
      "Making directory NGC_362\n",
      "\n",
      "Making directory NGC_1851\n"
     ]
    },
    {
     "name": "stderr",
     "output_type": "stream",
     "text": [
      "C:\\Users\\ryanw\\Anaconda3\\lib\\site-packages\\numpy\\core\\_methods.py:233: RuntimeWarning: invalid value encountered in subtract\n",
      "  x = asanyarray(arr - arrmean)\n",
      "C:\\Users\\ryanw\\Anaconda3\\lib\\site-packages\\numpy\\core\\_methods.py:233: RuntimeWarning: invalid value encountered in subtract\n",
      "  x = asanyarray(arr - arrmean)\n",
      "C:\\Users\\ryanw\\Anaconda3\\lib\\site-packages\\numpy\\core\\_methods.py:233: RuntimeWarning: invalid value encountered in subtract\n",
      "  x = asanyarray(arr - arrmean)\n"
     ]
    },
    {
     "name": "stdout",
     "output_type": "stream",
     "text": [
      "\n",
      "Making directory NGC_1904\n"
     ]
    },
    {
     "name": "stderr",
     "output_type": "stream",
     "text": [
      "C:\\Users\\ryanw\\Anaconda3\\lib\\site-packages\\numpy\\core\\_methods.py:233: RuntimeWarning: invalid value encountered in subtract\n",
      "  x = asanyarray(arr - arrmean)\n",
      "C:\\Users\\ryanw\\Anaconda3\\lib\\site-packages\\numpy\\core\\_methods.py:233: RuntimeWarning: invalid value encountered in subtract\n",
      "  x = asanyarray(arr - arrmean)\n"
     ]
    },
    {
     "name": "stdout",
     "output_type": "stream",
     "text": [
      "\n",
      "Making directory NGC_2808\n",
      "\n",
      "Making directory NGC_3201\n"
     ]
    },
    {
     "name": "stderr",
     "output_type": "stream",
     "text": [
      "C:\\Users\\ryanw\\Anaconda3\\lib\\site-packages\\numpy\\core\\_methods.py:233: RuntimeWarning: invalid value encountered in subtract\n",
      "  x = asanyarray(arr - arrmean)\n",
      "C:\\Users\\ryanw\\Anaconda3\\lib\\site-packages\\numpy\\core\\_methods.py:233: RuntimeWarning: invalid value encountered in subtract\n",
      "  x = asanyarray(arr - arrmean)\n"
     ]
    },
    {
     "name": "stdout",
     "output_type": "stream",
     "text": [
      "\n",
      "Making directory NGC_4590\n"
     ]
    },
    {
     "name": "stderr",
     "output_type": "stream",
     "text": [
      "C:\\Users\\ryanw\\Anaconda3\\lib\\site-packages\\numpy\\core\\_methods.py:233: RuntimeWarning: invalid value encountered in subtract\n",
      "  x = asanyarray(arr - arrmean)\n",
      "C:\\Users\\ryanw\\Anaconda3\\lib\\site-packages\\numpy\\core\\_methods.py:233: RuntimeWarning: invalid value encountered in subtract\n",
      "  x = asanyarray(arr - arrmean)\n"
     ]
    },
    {
     "name": "stdout",
     "output_type": "stream",
     "text": [
      "\n",
      "Making directory NGC_5024\n"
     ]
    },
    {
     "name": "stderr",
     "output_type": "stream",
     "text": [
      "C:\\Users\\ryanw\\Anaconda3\\lib\\site-packages\\numpy\\core\\_methods.py:233: RuntimeWarning: invalid value encountered in subtract\n",
      "  x = asanyarray(arr - arrmean)\n"
     ]
    },
    {
     "name": "stdout",
     "output_type": "stream",
     "text": [
      "\n",
      "Making directory NGC_5139\n",
      "\n",
      "Making directory NGC_5272\n"
     ]
    },
    {
     "name": "stderr",
     "output_type": "stream",
     "text": [
      "C:\\Users\\ryanw\\Anaconda3\\lib\\site-packages\\numpy\\core\\_methods.py:233: RuntimeWarning: invalid value encountered in subtract\n",
      "  x = asanyarray(arr - arrmean)\n"
     ]
    },
    {
     "name": "stdout",
     "output_type": "stream",
     "text": [
      "\n",
      "Making directory NGC_5904\n",
      "\n",
      "Making directory NGC_6121\n",
      "\n",
      "Making directory NGC_6171\n"
     ]
    },
    {
     "name": "stderr",
     "output_type": "stream",
     "text": [
      "C:\\Users\\ryanw\\Anaconda3\\lib\\site-packages\\numpy\\core\\_methods.py:233: RuntimeWarning: invalid value encountered in subtract\n",
      "  x = asanyarray(arr - arrmean)\n",
      "C:\\Users\\ryanw\\Anaconda3\\lib\\site-packages\\numpy\\core\\_methods.py:233: RuntimeWarning: invalid value encountered in subtract\n",
      "  x = asanyarray(arr - arrmean)\n"
     ]
    },
    {
     "name": "stdout",
     "output_type": "stream",
     "text": [
      "\n",
      "Making directory NGC_6205\n"
     ]
    },
    {
     "name": "stderr",
     "output_type": "stream",
     "text": [
      "C:\\Users\\ryanw\\Anaconda3\\lib\\site-packages\\numpy\\core\\_methods.py:233: RuntimeWarning: invalid value encountered in subtract\n",
      "  x = asanyarray(arr - arrmean)\n",
      "C:\\Users\\ryanw\\Anaconda3\\lib\\site-packages\\numpy\\core\\_methods.py:233: RuntimeWarning: invalid value encountered in subtract\n",
      "  x = asanyarray(arr - arrmean)\n"
     ]
    },
    {
     "name": "stdout",
     "output_type": "stream",
     "text": [
      "\n",
      "Making directory NGC_6218\n",
      "\n",
      "Making directory NGC_6254\n",
      "\n",
      "Making directory NGC_6273\n",
      "\n",
      "Making directory NGC_6341\n"
     ]
    },
    {
     "name": "stderr",
     "output_type": "stream",
     "text": [
      "C:\\Users\\ryanw\\Anaconda3\\lib\\site-packages\\numpy\\core\\_methods.py:233: RuntimeWarning: invalid value encountered in subtract\n",
      "  x = asanyarray(arr - arrmean)\n",
      "C:\\Users\\ryanw\\Anaconda3\\lib\\site-packages\\numpy\\core\\_methods.py:233: RuntimeWarning: invalid value encountered in subtract\n",
      "  x = asanyarray(arr - arrmean)\n"
     ]
    },
    {
     "name": "stdout",
     "output_type": "stream",
     "text": [
      "\n",
      "Making directory NGC_6380\n"
     ]
    },
    {
     "name": "stderr",
     "output_type": "stream",
     "text": [
      "C:\\Users\\ryanw\\Anaconda3\\lib\\site-packages\\numpy\\core\\_methods.py:233: RuntimeWarning: invalid value encountered in subtract\n",
      "  x = asanyarray(arr - arrmean)\n",
      "C:\\Users\\ryanw\\Anaconda3\\lib\\site-packages\\numpy\\core\\_methods.py:233: RuntimeWarning: invalid value encountered in subtract\n",
      "  x = asanyarray(arr - arrmean)\n"
     ]
    },
    {
     "name": "stdout",
     "output_type": "stream",
     "text": [
      "\n",
      "Making directory NGC_6388\n"
     ]
    },
    {
     "name": "stderr",
     "output_type": "stream",
     "text": [
      "C:\\Users\\ryanw\\Anaconda3\\lib\\site-packages\\numpy\\core\\_methods.py:233: RuntimeWarning: invalid value encountered in subtract\n",
      "  x = asanyarray(arr - arrmean)\n",
      "C:\\Users\\ryanw\\Anaconda3\\lib\\site-packages\\numpy\\core\\_methods.py:233: RuntimeWarning: invalid value encountered in subtract\n",
      "  x = asanyarray(arr - arrmean)\n",
      "C:\\Users\\ryanw\\Anaconda3\\lib\\site-packages\\numpy\\core\\_methods.py:233: RuntimeWarning: invalid value encountered in subtract\n",
      "  x = asanyarray(arr - arrmean)\n",
      "C:\\Users\\ryanw\\Anaconda3\\lib\\site-packages\\numpy\\core\\_methods.py:233: RuntimeWarning: invalid value encountered in subtract\n",
      "  x = asanyarray(arr - arrmean)\n",
      "C:\\Users\\ryanw\\Anaconda3\\lib\\site-packages\\numpy\\core\\_methods.py:233: RuntimeWarning: invalid value encountered in subtract\n",
      "  x = asanyarray(arr - arrmean)\n"
     ]
    },
    {
     "name": "stdout",
     "output_type": "stream",
     "text": [
      "\n",
      "Making directory NGC_6397\n"
     ]
    },
    {
     "name": "stderr",
     "output_type": "stream",
     "text": [
      "C:\\Users\\ryanw\\Anaconda3\\lib\\site-packages\\numpy\\core\\_methods.py:233: RuntimeWarning: invalid value encountered in subtract\n",
      "  x = asanyarray(arr - arrmean)\n",
      "C:\\Users\\ryanw\\Anaconda3\\lib\\site-packages\\numpy\\core\\_methods.py:233: RuntimeWarning: invalid value encountered in subtract\n",
      "  x = asanyarray(arr - arrmean)\n"
     ]
    },
    {
     "name": "stdout",
     "output_type": "stream",
     "text": [
      "\n",
      "Making directory NGC_6441\n"
     ]
    },
    {
     "name": "stderr",
     "output_type": "stream",
     "text": [
      "C:\\Users\\ryanw\\Anaconda3\\lib\\site-packages\\numpy\\core\\_methods.py:233: RuntimeWarning: invalid value encountered in subtract\n",
      "  x = asanyarray(arr - arrmean)\n",
      "C:\\Users\\ryanw\\Anaconda3\\lib\\site-packages\\numpy\\core\\_methods.py:233: RuntimeWarning: invalid value encountered in subtract\n",
      "  x = asanyarray(arr - arrmean)\n",
      "C:\\Users\\ryanw\\Anaconda3\\lib\\site-packages\\numpy\\core\\_methods.py:233: RuntimeWarning: invalid value encountered in subtract\n",
      "  x = asanyarray(arr - arrmean)\n"
     ]
    },
    {
     "name": "stdout",
     "output_type": "stream",
     "text": [
      "\n",
      "Making directory Ter_9\n"
     ]
    },
    {
     "name": "stderr",
     "output_type": "stream",
     "text": [
      "C:\\Users\\ryanw\\Anaconda3\\lib\\site-packages\\numpy\\core\\_methods.py:233: RuntimeWarning: invalid value encountered in subtract\n",
      "  x = asanyarray(arr - arrmean)\n",
      "C:\\Users\\ryanw\\Anaconda3\\lib\\site-packages\\numpy\\core\\_methods.py:233: RuntimeWarning: invalid value encountered in subtract\n",
      "  x = asanyarray(arr - arrmean)\n",
      "C:\\Users\\ryanw\\Anaconda3\\lib\\site-packages\\numpy\\core\\_methods.py:233: RuntimeWarning: invalid value encountered in subtract\n",
      "  x = asanyarray(arr - arrmean)\n",
      "C:\\Users\\ryanw\\Anaconda3\\lib\\site-packages\\numpy\\core\\_methods.py:233: RuntimeWarning: invalid value encountered in subtract\n",
      "  x = asanyarray(arr - arrmean)\n"
     ]
    },
    {
     "name": "stdout",
     "output_type": "stream",
     "text": [
      "\n",
      "Making directory NGC_6522\n"
     ]
    },
    {
     "name": "stderr",
     "output_type": "stream",
     "text": [
      "C:\\Users\\ryanw\\Anaconda3\\lib\\site-packages\\numpy\\core\\_methods.py:233: RuntimeWarning: invalid value encountered in subtract\n",
      "  x = asanyarray(arr - arrmean)\n"
     ]
    },
    {
     "name": "stdout",
     "output_type": "stream",
     "text": [
      "\n",
      "Making directory NGC_6544\n"
     ]
    },
    {
     "name": "stderr",
     "output_type": "stream",
     "text": [
      "C:\\Users\\ryanw\\Anaconda3\\lib\\site-packages\\numpy\\core\\_methods.py:233: RuntimeWarning: invalid value encountered in subtract\n",
      "  x = asanyarray(arr - arrmean)\n",
      "C:\\Users\\ryanw\\Anaconda3\\lib\\site-packages\\numpy\\core\\_methods.py:233: RuntimeWarning: invalid value encountered in subtract\n",
      "  x = asanyarray(arr - arrmean)\n",
      "C:\\Users\\ryanw\\Anaconda3\\lib\\site-packages\\numpy\\core\\_methods.py:233: RuntimeWarning: invalid value encountered in subtract\n",
      "  x = asanyarray(arr - arrmean)\n"
     ]
    },
    {
     "name": "stdout",
     "output_type": "stream",
     "text": [
      "\n",
      "Making directory NGC_6553\n"
     ]
    },
    {
     "name": "stderr",
     "output_type": "stream",
     "text": [
      "C:\\Users\\ryanw\\Anaconda3\\lib\\site-packages\\numpy\\core\\_methods.py:233: RuntimeWarning: invalid value encountered in subtract\n",
      "  x = asanyarray(arr - arrmean)\n",
      "C:\\Users\\ryanw\\Anaconda3\\lib\\site-packages\\numpy\\core\\_methods.py:233: RuntimeWarning: invalid value encountered in subtract\n",
      "  x = asanyarray(arr - arrmean)\n",
      "C:\\Users\\ryanw\\Anaconda3\\lib\\site-packages\\numpy\\core\\_methods.py:233: RuntimeWarning: invalid value encountered in subtract\n",
      "  x = asanyarray(arr - arrmean)\n",
      "C:\\Users\\ryanw\\Anaconda3\\lib\\site-packages\\numpy\\core\\_methods.py:233: RuntimeWarning: invalid value encountered in subtract\n",
      "  x = asanyarray(arr - arrmean)\n"
     ]
    },
    {
     "name": "stdout",
     "output_type": "stream",
     "text": [
      "\n",
      "Making directory NGC_6656\n"
     ]
    },
    {
     "name": "stderr",
     "output_type": "stream",
     "text": [
      "C:\\Users\\ryanw\\Anaconda3\\lib\\site-packages\\numpy\\core\\_methods.py:233: RuntimeWarning: invalid value encountered in subtract\n",
      "  x = asanyarray(arr - arrmean)\n"
     ]
    },
    {
     "name": "stdout",
     "output_type": "stream",
     "text": [
      "\n",
      "Making directory NGC_6715\n"
     ]
    },
    {
     "name": "stderr",
     "output_type": "stream",
     "text": [
      "C:\\Users\\ryanw\\Anaconda3\\lib\\site-packages\\numpy\\core\\_methods.py:233: RuntimeWarning: invalid value encountered in subtract\n",
      "  x = asanyarray(arr - arrmean)\n",
      "C:\\Users\\ryanw\\Anaconda3\\lib\\site-packages\\numpy\\core\\_methods.py:233: RuntimeWarning: invalid value encountered in subtract\n",
      "  x = asanyarray(arr - arrmean)\n"
     ]
    },
    {
     "name": "stdout",
     "output_type": "stream",
     "text": [
      "\n",
      "Making directory NGC_6752\n"
     ]
    },
    {
     "name": "stderr",
     "output_type": "stream",
     "text": [
      "C:\\Users\\ryanw\\Anaconda3\\lib\\site-packages\\numpy\\core\\_methods.py:233: RuntimeWarning: invalid value encountered in subtract\n",
      "  x = asanyarray(arr - arrmean)\n",
      "C:\\Users\\ryanw\\Anaconda3\\lib\\site-packages\\numpy\\core\\_methods.py:233: RuntimeWarning: invalid value encountered in subtract\n",
      "  x = asanyarray(arr - arrmean)\n",
      "C:\\Users\\ryanw\\Anaconda3\\lib\\site-packages\\numpy\\core\\_methods.py:233: RuntimeWarning: invalid value encountered in subtract\n",
      "  x = asanyarray(arr - arrmean)\n"
     ]
    },
    {
     "name": "stdout",
     "output_type": "stream",
     "text": [
      "\n",
      "Making directory NGC_6809\n",
      "\n",
      "Making directory NGC_6838\n"
     ]
    },
    {
     "name": "stderr",
     "output_type": "stream",
     "text": [
      "C:\\Users\\ryanw\\Anaconda3\\lib\\site-packages\\numpy\\core\\_methods.py:233: RuntimeWarning: invalid value encountered in subtract\n",
      "  x = asanyarray(arr - arrmean)\n",
      "C:\\Users\\ryanw\\Anaconda3\\lib\\site-packages\\numpy\\core\\_methods.py:233: RuntimeWarning: invalid value encountered in subtract\n",
      "  x = asanyarray(arr - arrmean)\n"
     ]
    },
    {
     "name": "stdout",
     "output_type": "stream",
     "text": [
      "\n",
      "Making directory NGC_7078\n",
      "\n",
      "Making directory NGC_7089\n",
      "\n",
      "That shit took  0.23517686128616333  mins\n"
     ]
    },
    {
     "name": "stderr",
     "output_type": "stream",
     "text": [
      "C:\\Users\\ryanw\\Anaconda3\\lib\\site-packages\\numpy\\core\\_methods.py:233: RuntimeWarning: invalid value encountered in subtract\n",
      "  x = asanyarray(arr - arrmean)\n",
      "C:\\Users\\ryanw\\Anaconda3\\lib\\site-packages\\numpy\\core\\_methods.py:233: RuntimeWarning: invalid value encountered in subtract\n",
      "  x = asanyarray(arr - arrmean)\n",
      "C:\\Users\\ryanw\\Anaconda3\\lib\\site-packages\\numpy\\core\\_methods.py:233: RuntimeWarning: invalid value encountered in subtract\n",
      "  x = asanyarray(arr - arrmean)\n"
     ]
    },
    {
     "data": {
      "text/plain": [
       "'play_obj.wait_done()\\nplay_obj.stop()'"
      ]
     },
     "execution_count": 248,
     "metadata": {},
     "output_type": "execute_result"
    },
    {
     "data": {
      "text/plain": [
       "<Figure size 432x288 with 0 Axes>"
      ]
     },
     "metadata": {},
     "output_type": "display_data"
    }
   ],
   "source": [
    "start = time.time()\n",
    "\n",
    "\n",
    "for i in tqdm(range(0, 34)):\n",
    "    try: \n",
    "        os.makedirs('GCs_20RHMRT_10RT/' + GC_name_arr[i])\n",
    "        print('\\nMaking directory ' + GC_name_arr[i])\n",
    "    except OSError as error:\n",
    "        print('\\nDirectory ' + GC_name_arr[i] + ' already exists')\n",
    "        \n",
    "    ### plotting original data\n",
    "    tsne_pack = [tsne_control_X[i], tsne_control_Y[i], tsne_all_X[i], tsne_all_Y[i]]\n",
    "    umap_pack = [umap_control_X[i], umap_control_Y[i], umap_all_X[i], umap_all_Y[i]]\n",
    "    \n",
    "    #plot_ML(GC_name_arr[i], tsne_pack, 'tsne')\n",
    "    #plot_ML(GC_name_arr[i], umap_pack, 'umap')\n",
    "    \n",
    "    \n",
    "    ### dbscan and heatmap to find optimal eps, min samps\n",
    "    tsne_eps_ctrl, tsne_samp_ctrl = db_ctrl(GC_name_arr[i], 'tsne', tsne_control_X[i], tsne_control_Y[i])\n",
    "    umap_eps_ctrl, umap_samp_ctrl = db_ctrl(GC_name_arr[i], 'umap', umap_control_X[i], umap_control_Y[i])\n",
    "    \n",
    "    \n",
    "    ### run again and choose main control group\n",
    "    tsne_ctrl_inds.append(db_opt_ctrl(GC_name_arr[i], 'tsne', tsne_control_X[i], tsne_control_Y[i], tsne_eps_ctrl, tsne_samp_ctrl, control_indices_rad[i][0]))\n",
    "    umap_ctrl_inds.append(db_opt_ctrl(GC_name_arr[i], 'umap', umap_control_X[i], umap_control_Y[i], umap_eps_ctrl, umap_samp_ctrl, control_indices_rad[i][0]))\n",
    "    \n",
    "    ### table making\n",
    "    #print('# of control stars tSNE: ' + str(len(tsne_ctrl_inds[i])))\n",
    "    #print('# of control stars UMAP: ' + str(len(umap_ctrl_inds[i])))\n",
    "    #tsne_ctrl_counts.append(len(tsne_ctrl_inds[i]))\n",
    "    #umap_ctrl_counts.append(len(umap_ctrl_inds[i]))\n",
    "    \n",
    "    ### final control stars\n",
    "    #final_control_group_plot(tsne_ctrl_inds[i], GC_name_arr[i], 'tsne', tsne_pack)\n",
    "    #final_control_group_plot(umap_ctrl_inds[i], GC_name_arr[i], 'umap', umap_pack)\n",
    "    #tsne_other_ctrl.append(final_control_group(control_indices_rad[i][0][0], tsne_ctrl_labels, umap_ctrl_labels, GC_name_arr[i], tsne_pack, umap_pack)[1])\n",
    "    #umap_other_ctrl.append(final_control_group(control_indices_rad[i][0][0], tsne_ctrl_labels, umap_ctrl_labels, GC_name_arr[i], tsne_pack, umap_pack)[2])\n",
    "    #tsne_ctrl_lab.append(final_control_group(control_indices_rad[i][0][0], tsne_ctrl_labels, umap_ctrl_labels, GC_name_arr[i], tsne_pack, umap_pack)[3]) \n",
    "    #umap_ctrl_lab.append(final_control_group(control_indices_rad[i][0][0], tsne_ctrl_labels, umap_ctrl_labels, GC_name_arr[i], tsne_pack, umap_pack)[4])\n",
    "\n",
    "end = time.time()\n",
    "print('That shit took ', (end - start) / 60, ' mins')\n",
    "\n",
    "'''wave_obj = sa.WaveObject.from_wave_file('Doja_Cat_Mooo.wav')\n",
    "play_obj = wave_obj.play()'''\n",
    "'''play_obj.wait_done()\n",
    "play_obj.stop()'''"
   ]
  },
  {
   "cell_type": "code",
   "execution_count": 170,
   "metadata": {
    "hideCode": true
   },
   "outputs": [],
   "source": [
    "play_obj.stop()"
   ]
  },
  {
   "cell_type": "code",
   "execution_count": 249,
   "metadata": {
    "hideCode": true
   },
   "outputs": [],
   "source": [
    "### saving dim reduction for ctrls\n",
    "\n",
    "with open('saved_runs_10_RT/tsne_ctrl_inds.pkl', 'wb') as f:\n",
    "    pickle.dump(tsne_ctrl_inds, f)\n",
    "    \n",
    "with open('saved_runs_10_RT/umap_ctrl_inds.pkl', 'wb') as f:\n",
    "    pickle.dump(umap_ctrl_inds, f)"
   ]
  },
  {
   "cell_type": "code",
   "execution_count": 10,
   "metadata": {},
   "outputs": [],
   "source": [
    "### reading dbscan for ctrls\n",
    "\n",
    "with open('saved_runs_10_RT/tsne_ctrl_inds.pkl', 'rb') as f:\n",
    "    tsne_ctrl_inds = pickle.load(f)\n",
    "    \n",
    "with open('saved_runs_10_RT/umap_ctrl_inds.pkl', 'rb') as f:\n",
    "    umap_ctrl_inds = pickle.load(f)"
   ]
  },
  {
   "cell_type": "code",
   "execution_count": 250,
   "metadata": {
    "scrolled": true
   },
   "outputs": [
    {
     "data": {
      "application/vnd.jupyter.widget-view+json": {
       "model_id": "0b4039ffec094d2b9a185b9038279095",
       "version_major": 2,
       "version_minor": 0
      },
      "text/plain": [
       "HBox(children=(HTML(value=''), FloatProgress(value=0.0, max=34.0), HTML(value='')))"
      ]
     },
     "metadata": {},
     "output_type": "display_data"
    },
    {
     "name": "stdout",
     "output_type": "stream",
     "text": [
      "\n",
      "Directory NGC_104 already exists\n"
     ]
    },
    {
     "name": "stderr",
     "output_type": "stream",
     "text": [
      "C:\\Users\\ryanw\\Anaconda3\\lib\\site-packages\\matplotlib\\backends\\backend_agg.py:238: RuntimeWarning: Glyph 9 missing from current font.\n",
      "  font.set_text(s, 0.0, flags=flags)\n",
      "C:\\Users\\ryanw\\Anaconda3\\lib\\site-packages\\matplotlib\\backends\\backend_agg.py:201: RuntimeWarning: Glyph 9 missing from current font.\n",
      "  font.set_text(s, 0, flags=flags)\n",
      "C:\\Users\\ryanw\\Anaconda3\\lib\\site-packages\\matplotlib\\backends\\backend_agg.py:238: RuntimeWarning: Glyph 9 missing from current font.\n",
      "  font.set_text(s, 0.0, flags=flags)\n",
      "C:\\Users\\ryanw\\Anaconda3\\lib\\site-packages\\matplotlib\\backends\\backend_agg.py:201: RuntimeWarning: Glyph 9 missing from current font.\n",
      "  font.set_text(s, 0, flags=flags)\n"
     ]
    },
    {
     "name": "stdout",
     "output_type": "stream",
     "text": [
      "\n",
      "Directory NGC_288 already exists\n"
     ]
    },
    {
     "name": "stderr",
     "output_type": "stream",
     "text": [
      "C:\\Users\\ryanw\\Anaconda3\\lib\\site-packages\\matplotlib\\backends\\backend_agg.py:238: RuntimeWarning: Glyph 9 missing from current font.\n",
      "  font.set_text(s, 0.0, flags=flags)\n",
      "C:\\Users\\ryanw\\Anaconda3\\lib\\site-packages\\matplotlib\\backends\\backend_agg.py:201: RuntimeWarning: Glyph 9 missing from current font.\n",
      "  font.set_text(s, 0, flags=flags)\n",
      "C:\\Users\\ryanw\\Anaconda3\\lib\\site-packages\\matplotlib\\backends\\backend_agg.py:238: RuntimeWarning: Glyph 9 missing from current font.\n",
      "  font.set_text(s, 0.0, flags=flags)\n",
      "C:\\Users\\ryanw\\Anaconda3\\lib\\site-packages\\matplotlib\\backends\\backend_agg.py:201: RuntimeWarning: Glyph 9 missing from current font.\n",
      "  font.set_text(s, 0, flags=flags)\n"
     ]
    },
    {
     "name": "stdout",
     "output_type": "stream",
     "text": [
      "\n",
      "Directory NGC_362 already exists\n"
     ]
    },
    {
     "name": "stderr",
     "output_type": "stream",
     "text": [
      "C:\\Users\\ryanw\\Anaconda3\\lib\\site-packages\\matplotlib\\backends\\backend_agg.py:238: RuntimeWarning: Glyph 9 missing from current font.\n",
      "  font.set_text(s, 0.0, flags=flags)\n",
      "C:\\Users\\ryanw\\Anaconda3\\lib\\site-packages\\matplotlib\\backends\\backend_agg.py:201: RuntimeWarning: Glyph 9 missing from current font.\n",
      "  font.set_text(s, 0, flags=flags)\n",
      "C:\\Users\\ryanw\\Anaconda3\\lib\\site-packages\\matplotlib\\backends\\backend_agg.py:238: RuntimeWarning: Glyph 9 missing from current font.\n",
      "  font.set_text(s, 0.0, flags=flags)\n",
      "C:\\Users\\ryanw\\Anaconda3\\lib\\site-packages\\matplotlib\\backends\\backend_agg.py:201: RuntimeWarning: Glyph 9 missing from current font.\n",
      "  font.set_text(s, 0, flags=flags)\n"
     ]
    },
    {
     "name": "stdout",
     "output_type": "stream",
     "text": [
      "\n",
      "Directory NGC_1851 already exists\n"
     ]
    },
    {
     "name": "stderr",
     "output_type": "stream",
     "text": [
      "C:\\Users\\ryanw\\Anaconda3\\lib\\site-packages\\matplotlib\\backends\\backend_agg.py:238: RuntimeWarning: Glyph 9 missing from current font.\n",
      "  font.set_text(s, 0.0, flags=flags)\n",
      "C:\\Users\\ryanw\\Anaconda3\\lib\\site-packages\\matplotlib\\backends\\backend_agg.py:201: RuntimeWarning: Glyph 9 missing from current font.\n",
      "  font.set_text(s, 0, flags=flags)\n",
      "C:\\Users\\ryanw\\Anaconda3\\lib\\site-packages\\matplotlib\\backends\\backend_agg.py:238: RuntimeWarning: Glyph 9 missing from current font.\n",
      "  font.set_text(s, 0.0, flags=flags)\n",
      "C:\\Users\\ryanw\\Anaconda3\\lib\\site-packages\\matplotlib\\backends\\backend_agg.py:201: RuntimeWarning: Glyph 9 missing from current font.\n",
      "  font.set_text(s, 0, flags=flags)\n"
     ]
    },
    {
     "name": "stdout",
     "output_type": "stream",
     "text": [
      "\n",
      "Directory NGC_1904 already exists\n"
     ]
    },
    {
     "name": "stderr",
     "output_type": "stream",
     "text": [
      "C:\\Users\\ryanw\\Anaconda3\\lib\\site-packages\\matplotlib\\backends\\backend_agg.py:238: RuntimeWarning: Glyph 9 missing from current font.\n",
      "  font.set_text(s, 0.0, flags=flags)\n",
      "C:\\Users\\ryanw\\Anaconda3\\lib\\site-packages\\matplotlib\\backends\\backend_agg.py:201: RuntimeWarning: Glyph 9 missing from current font.\n",
      "  font.set_text(s, 0, flags=flags)\n",
      "C:\\Users\\ryanw\\Anaconda3\\lib\\site-packages\\matplotlib\\backends\\backend_agg.py:238: RuntimeWarning: Glyph 9 missing from current font.\n",
      "  font.set_text(s, 0.0, flags=flags)\n",
      "C:\\Users\\ryanw\\Anaconda3\\lib\\site-packages\\matplotlib\\backends\\backend_agg.py:201: RuntimeWarning: Glyph 9 missing from current font.\n",
      "  font.set_text(s, 0, flags=flags)\n"
     ]
    },
    {
     "name": "stdout",
     "output_type": "stream",
     "text": [
      "\n",
      "Directory NGC_2808 already exists\n"
     ]
    },
    {
     "name": "stderr",
     "output_type": "stream",
     "text": [
      "C:\\Users\\ryanw\\Anaconda3\\lib\\site-packages\\matplotlib\\backends\\backend_agg.py:238: RuntimeWarning: Glyph 9 missing from current font.\n",
      "  font.set_text(s, 0.0, flags=flags)\n",
      "C:\\Users\\ryanw\\Anaconda3\\lib\\site-packages\\matplotlib\\backends\\backend_agg.py:201: RuntimeWarning: Glyph 9 missing from current font.\n",
      "  font.set_text(s, 0, flags=flags)\n",
      "C:\\Users\\ryanw\\Anaconda3\\lib\\site-packages\\matplotlib\\backends\\backend_agg.py:238: RuntimeWarning: Glyph 9 missing from current font.\n",
      "  font.set_text(s, 0.0, flags=flags)\n",
      "C:\\Users\\ryanw\\Anaconda3\\lib\\site-packages\\matplotlib\\backends\\backend_agg.py:201: RuntimeWarning: Glyph 9 missing from current font.\n",
      "  font.set_text(s, 0, flags=flags)\n"
     ]
    },
    {
     "name": "stdout",
     "output_type": "stream",
     "text": [
      "\n",
      "Directory NGC_3201 already exists\n"
     ]
    },
    {
     "name": "stderr",
     "output_type": "stream",
     "text": [
      "C:\\Users\\ryanw\\Anaconda3\\lib\\site-packages\\matplotlib\\backends\\backend_agg.py:238: RuntimeWarning: Glyph 9 missing from current font.\n",
      "  font.set_text(s, 0.0, flags=flags)\n",
      "C:\\Users\\ryanw\\Anaconda3\\lib\\site-packages\\matplotlib\\backends\\backend_agg.py:201: RuntimeWarning: Glyph 9 missing from current font.\n",
      "  font.set_text(s, 0, flags=flags)\n",
      "C:\\Users\\ryanw\\Anaconda3\\lib\\site-packages\\matplotlib\\backends\\backend_agg.py:238: RuntimeWarning: Glyph 9 missing from current font.\n",
      "  font.set_text(s, 0.0, flags=flags)\n",
      "C:\\Users\\ryanw\\Anaconda3\\lib\\site-packages\\matplotlib\\backends\\backend_agg.py:201: RuntimeWarning: Glyph 9 missing from current font.\n",
      "  font.set_text(s, 0, flags=flags)\n"
     ]
    },
    {
     "name": "stdout",
     "output_type": "stream",
     "text": [
      "\n",
      "Directory NGC_4590 already exists\n"
     ]
    },
    {
     "name": "stderr",
     "output_type": "stream",
     "text": [
      "C:\\Users\\ryanw\\Anaconda3\\lib\\site-packages\\matplotlib\\backends\\backend_agg.py:238: RuntimeWarning: Glyph 9 missing from current font.\n",
      "  font.set_text(s, 0.0, flags=flags)\n",
      "C:\\Users\\ryanw\\Anaconda3\\lib\\site-packages\\matplotlib\\backends\\backend_agg.py:201: RuntimeWarning: Glyph 9 missing from current font.\n",
      "  font.set_text(s, 0, flags=flags)\n",
      "C:\\Users\\ryanw\\Anaconda3\\lib\\site-packages\\matplotlib\\backends\\backend_agg.py:238: RuntimeWarning: Glyph 9 missing from current font.\n",
      "  font.set_text(s, 0.0, flags=flags)\n",
      "C:\\Users\\ryanw\\Anaconda3\\lib\\site-packages\\matplotlib\\backends\\backend_agg.py:201: RuntimeWarning: Glyph 9 missing from current font.\n",
      "  font.set_text(s, 0, flags=flags)\n"
     ]
    },
    {
     "name": "stdout",
     "output_type": "stream",
     "text": [
      "\n",
      "Directory NGC_5024 already exists\n"
     ]
    },
    {
     "name": "stderr",
     "output_type": "stream",
     "text": [
      "C:\\Users\\ryanw\\Anaconda3\\lib\\site-packages\\matplotlib\\backends\\backend_agg.py:238: RuntimeWarning: Glyph 9 missing from current font.\n",
      "  font.set_text(s, 0.0, flags=flags)\n",
      "C:\\Users\\ryanw\\Anaconda3\\lib\\site-packages\\matplotlib\\backends\\backend_agg.py:201: RuntimeWarning: Glyph 9 missing from current font.\n",
      "  font.set_text(s, 0, flags=flags)\n",
      "C:\\Users\\ryanw\\Anaconda3\\lib\\site-packages\\matplotlib\\backends\\backend_agg.py:238: RuntimeWarning: Glyph 9 missing from current font.\n",
      "  font.set_text(s, 0.0, flags=flags)\n",
      "C:\\Users\\ryanw\\Anaconda3\\lib\\site-packages\\matplotlib\\backends\\backend_agg.py:201: RuntimeWarning: Glyph 9 missing from current font.\n",
      "  font.set_text(s, 0, flags=flags)\n"
     ]
    },
    {
     "name": "stdout",
     "output_type": "stream",
     "text": [
      "\n",
      "Directory NGC_5139 already exists\n"
     ]
    },
    {
     "name": "stderr",
     "output_type": "stream",
     "text": [
      "C:\\Users\\ryanw\\Anaconda3\\lib\\site-packages\\matplotlib\\backends\\backend_agg.py:238: RuntimeWarning: Glyph 9 missing from current font.\n",
      "  font.set_text(s, 0.0, flags=flags)\n",
      "C:\\Users\\ryanw\\Anaconda3\\lib\\site-packages\\matplotlib\\backends\\backend_agg.py:201: RuntimeWarning: Glyph 9 missing from current font.\n",
      "  font.set_text(s, 0, flags=flags)\n",
      "C:\\Users\\ryanw\\Anaconda3\\lib\\site-packages\\matplotlib\\backends\\backend_agg.py:238: RuntimeWarning: Glyph 9 missing from current font.\n",
      "  font.set_text(s, 0.0, flags=flags)\n",
      "C:\\Users\\ryanw\\Anaconda3\\lib\\site-packages\\matplotlib\\backends\\backend_agg.py:201: RuntimeWarning: Glyph 9 missing from current font.\n",
      "  font.set_text(s, 0, flags=flags)\n"
     ]
    },
    {
     "name": "stdout",
     "output_type": "stream",
     "text": [
      "\n",
      "Directory NGC_5272 already exists\n"
     ]
    },
    {
     "name": "stderr",
     "output_type": "stream",
     "text": [
      "C:\\Users\\ryanw\\Anaconda3\\lib\\site-packages\\matplotlib\\backends\\backend_agg.py:238: RuntimeWarning: Glyph 9 missing from current font.\n",
      "  font.set_text(s, 0.0, flags=flags)\n",
      "C:\\Users\\ryanw\\Anaconda3\\lib\\site-packages\\matplotlib\\backends\\backend_agg.py:201: RuntimeWarning: Glyph 9 missing from current font.\n",
      "  font.set_text(s, 0, flags=flags)\n",
      "C:\\Users\\ryanw\\Anaconda3\\lib\\site-packages\\matplotlib\\backends\\backend_agg.py:238: RuntimeWarning: Glyph 9 missing from current font.\n",
      "  font.set_text(s, 0.0, flags=flags)\n",
      "C:\\Users\\ryanw\\Anaconda3\\lib\\site-packages\\matplotlib\\backends\\backend_agg.py:201: RuntimeWarning: Glyph 9 missing from current font.\n",
      "  font.set_text(s, 0, flags=flags)\n"
     ]
    },
    {
     "name": "stdout",
     "output_type": "stream",
     "text": [
      "\n",
      "Directory NGC_5904 already exists\n"
     ]
    },
    {
     "name": "stderr",
     "output_type": "stream",
     "text": [
      "C:\\Users\\ryanw\\Anaconda3\\lib\\site-packages\\matplotlib\\backends\\backend_agg.py:238: RuntimeWarning: Glyph 9 missing from current font.\n",
      "  font.set_text(s, 0.0, flags=flags)\n",
      "C:\\Users\\ryanw\\Anaconda3\\lib\\site-packages\\matplotlib\\backends\\backend_agg.py:201: RuntimeWarning: Glyph 9 missing from current font.\n",
      "  font.set_text(s, 0, flags=flags)\n",
      "C:\\Users\\ryanw\\Anaconda3\\lib\\site-packages\\matplotlib\\backends\\backend_agg.py:238: RuntimeWarning: Glyph 9 missing from current font.\n",
      "  font.set_text(s, 0.0, flags=flags)\n",
      "C:\\Users\\ryanw\\Anaconda3\\lib\\site-packages\\matplotlib\\backends\\backend_agg.py:201: RuntimeWarning: Glyph 9 missing from current font.\n",
      "  font.set_text(s, 0, flags=flags)\n"
     ]
    },
    {
     "name": "stdout",
     "output_type": "stream",
     "text": [
      "\n",
      "Directory NGC_6121 already exists\n"
     ]
    },
    {
     "name": "stderr",
     "output_type": "stream",
     "text": [
      "C:\\Users\\ryanw\\Anaconda3\\lib\\site-packages\\matplotlib\\backends\\backend_agg.py:238: RuntimeWarning: Glyph 9 missing from current font.\n",
      "  font.set_text(s, 0.0, flags=flags)\n",
      "C:\\Users\\ryanw\\Anaconda3\\lib\\site-packages\\matplotlib\\backends\\backend_agg.py:201: RuntimeWarning: Glyph 9 missing from current font.\n",
      "  font.set_text(s, 0, flags=flags)\n",
      "C:\\Users\\ryanw\\Anaconda3\\lib\\site-packages\\matplotlib\\backends\\backend_agg.py:238: RuntimeWarning: Glyph 9 missing from current font.\n",
      "  font.set_text(s, 0.0, flags=flags)\n",
      "C:\\Users\\ryanw\\Anaconda3\\lib\\site-packages\\matplotlib\\backends\\backend_agg.py:201: RuntimeWarning: Glyph 9 missing from current font.\n",
      "  font.set_text(s, 0, flags=flags)\n"
     ]
    },
    {
     "name": "stdout",
     "output_type": "stream",
     "text": [
      "\n",
      "Directory NGC_6171 already exists\n"
     ]
    },
    {
     "name": "stderr",
     "output_type": "stream",
     "text": [
      "C:\\Users\\ryanw\\Anaconda3\\lib\\site-packages\\matplotlib\\backends\\backend_agg.py:238: RuntimeWarning: Glyph 9 missing from current font.\n",
      "  font.set_text(s, 0.0, flags=flags)\n",
      "C:\\Users\\ryanw\\Anaconda3\\lib\\site-packages\\matplotlib\\backends\\backend_agg.py:201: RuntimeWarning: Glyph 9 missing from current font.\n",
      "  font.set_text(s, 0, flags=flags)\n",
      "C:\\Users\\ryanw\\Anaconda3\\lib\\site-packages\\matplotlib\\backends\\backend_agg.py:238: RuntimeWarning: Glyph 9 missing from current font.\n",
      "  font.set_text(s, 0.0, flags=flags)\n",
      "C:\\Users\\ryanw\\Anaconda3\\lib\\site-packages\\matplotlib\\backends\\backend_agg.py:201: RuntimeWarning: Glyph 9 missing from current font.\n",
      "  font.set_text(s, 0, flags=flags)\n"
     ]
    },
    {
     "name": "stdout",
     "output_type": "stream",
     "text": [
      "\n",
      "Directory NGC_6205 already exists\n"
     ]
    },
    {
     "name": "stderr",
     "output_type": "stream",
     "text": [
      "C:\\Users\\ryanw\\Anaconda3\\lib\\site-packages\\matplotlib\\backends\\backend_agg.py:238: RuntimeWarning: Glyph 9 missing from current font.\n",
      "  font.set_text(s, 0.0, flags=flags)\n",
      "C:\\Users\\ryanw\\Anaconda3\\lib\\site-packages\\matplotlib\\backends\\backend_agg.py:201: RuntimeWarning: Glyph 9 missing from current font.\n",
      "  font.set_text(s, 0, flags=flags)\n",
      "C:\\Users\\ryanw\\Anaconda3\\lib\\site-packages\\matplotlib\\backends\\backend_agg.py:238: RuntimeWarning: Glyph 9 missing from current font.\n",
      "  font.set_text(s, 0.0, flags=flags)\n",
      "C:\\Users\\ryanw\\Anaconda3\\lib\\site-packages\\matplotlib\\backends\\backend_agg.py:201: RuntimeWarning: Glyph 9 missing from current font.\n",
      "  font.set_text(s, 0, flags=flags)\n"
     ]
    },
    {
     "name": "stdout",
     "output_type": "stream",
     "text": [
      "\n",
      "Directory NGC_6218 already exists\n"
     ]
    },
    {
     "name": "stderr",
     "output_type": "stream",
     "text": [
      "C:\\Users\\ryanw\\Anaconda3\\lib\\site-packages\\matplotlib\\backends\\backend_agg.py:238: RuntimeWarning: Glyph 9 missing from current font.\n",
      "  font.set_text(s, 0.0, flags=flags)\n",
      "C:\\Users\\ryanw\\Anaconda3\\lib\\site-packages\\matplotlib\\backends\\backend_agg.py:201: RuntimeWarning: Glyph 9 missing from current font.\n",
      "  font.set_text(s, 0, flags=flags)\n",
      "C:\\Users\\ryanw\\Anaconda3\\lib\\site-packages\\matplotlib\\backends\\backend_agg.py:238: RuntimeWarning: Glyph 9 missing from current font.\n",
      "  font.set_text(s, 0.0, flags=flags)\n",
      "C:\\Users\\ryanw\\Anaconda3\\lib\\site-packages\\matplotlib\\backends\\backend_agg.py:201: RuntimeWarning: Glyph 9 missing from current font.\n",
      "  font.set_text(s, 0, flags=flags)\n"
     ]
    },
    {
     "name": "stdout",
     "output_type": "stream",
     "text": [
      "\n",
      "Directory NGC_6254 already exists\n"
     ]
    },
    {
     "name": "stderr",
     "output_type": "stream",
     "text": [
      "C:\\Users\\ryanw\\Anaconda3\\lib\\site-packages\\matplotlib\\backends\\backend_agg.py:238: RuntimeWarning: Glyph 9 missing from current font.\n",
      "  font.set_text(s, 0.0, flags=flags)\n",
      "C:\\Users\\ryanw\\Anaconda3\\lib\\site-packages\\matplotlib\\backends\\backend_agg.py:201: RuntimeWarning: Glyph 9 missing from current font.\n",
      "  font.set_text(s, 0, flags=flags)\n",
      "C:\\Users\\ryanw\\Anaconda3\\lib\\site-packages\\matplotlib\\backends\\backend_agg.py:238: RuntimeWarning: Glyph 9 missing from current font.\n",
      "  font.set_text(s, 0.0, flags=flags)\n",
      "C:\\Users\\ryanw\\Anaconda3\\lib\\site-packages\\matplotlib\\backends\\backend_agg.py:201: RuntimeWarning: Glyph 9 missing from current font.\n",
      "  font.set_text(s, 0, flags=flags)\n"
     ]
    },
    {
     "name": "stdout",
     "output_type": "stream",
     "text": [
      "\n",
      "Directory NGC_6273 already exists\n"
     ]
    },
    {
     "name": "stderr",
     "output_type": "stream",
     "text": [
      "C:\\Users\\ryanw\\Anaconda3\\lib\\site-packages\\matplotlib\\backends\\backend_agg.py:238: RuntimeWarning: Glyph 9 missing from current font.\n",
      "  font.set_text(s, 0.0, flags=flags)\n",
      "C:\\Users\\ryanw\\Anaconda3\\lib\\site-packages\\matplotlib\\backends\\backend_agg.py:201: RuntimeWarning: Glyph 9 missing from current font.\n",
      "  font.set_text(s, 0, flags=flags)\n",
      "C:\\Users\\ryanw\\Anaconda3\\lib\\site-packages\\matplotlib\\backends\\backend_agg.py:238: RuntimeWarning: Glyph 9 missing from current font.\n",
      "  font.set_text(s, 0.0, flags=flags)\n",
      "C:\\Users\\ryanw\\Anaconda3\\lib\\site-packages\\matplotlib\\backends\\backend_agg.py:201: RuntimeWarning: Glyph 9 missing from current font.\n",
      "  font.set_text(s, 0, flags=flags)\n"
     ]
    },
    {
     "name": "stdout",
     "output_type": "stream",
     "text": [
      "\n",
      "Directory NGC_6341 already exists\n"
     ]
    },
    {
     "name": "stderr",
     "output_type": "stream",
     "text": [
      "C:\\Users\\ryanw\\Anaconda3\\lib\\site-packages\\matplotlib\\backends\\backend_agg.py:238: RuntimeWarning: Glyph 9 missing from current font.\n",
      "  font.set_text(s, 0.0, flags=flags)\n",
      "C:\\Users\\ryanw\\Anaconda3\\lib\\site-packages\\matplotlib\\backends\\backend_agg.py:201: RuntimeWarning: Glyph 9 missing from current font.\n",
      "  font.set_text(s, 0, flags=flags)\n",
      "C:\\Users\\ryanw\\Anaconda3\\lib\\site-packages\\matplotlib\\backends\\backend_agg.py:238: RuntimeWarning: Glyph 9 missing from current font.\n",
      "  font.set_text(s, 0.0, flags=flags)\n",
      "C:\\Users\\ryanw\\Anaconda3\\lib\\site-packages\\matplotlib\\backends\\backend_agg.py:201: RuntimeWarning: Glyph 9 missing from current font.\n",
      "  font.set_text(s, 0, flags=flags)\n"
     ]
    },
    {
     "name": "stdout",
     "output_type": "stream",
     "text": [
      "\n",
      "Directory NGC_6380 already exists\n"
     ]
    },
    {
     "name": "stderr",
     "output_type": "stream",
     "text": [
      "C:\\Users\\ryanw\\Anaconda3\\lib\\site-packages\\matplotlib\\backends\\backend_agg.py:238: RuntimeWarning: Glyph 9 missing from current font.\n",
      "  font.set_text(s, 0.0, flags=flags)\n",
      "C:\\Users\\ryanw\\Anaconda3\\lib\\site-packages\\matplotlib\\backends\\backend_agg.py:201: RuntimeWarning: Glyph 9 missing from current font.\n",
      "  font.set_text(s, 0, flags=flags)\n",
      "C:\\Users\\ryanw\\Anaconda3\\lib\\site-packages\\matplotlib\\backends\\backend_agg.py:238: RuntimeWarning: Glyph 9 missing from current font.\n",
      "  font.set_text(s, 0.0, flags=flags)\n",
      "C:\\Users\\ryanw\\Anaconda3\\lib\\site-packages\\matplotlib\\backends\\backend_agg.py:201: RuntimeWarning: Glyph 9 missing from current font.\n",
      "  font.set_text(s, 0, flags=flags)\n"
     ]
    },
    {
     "name": "stdout",
     "output_type": "stream",
     "text": [
      "\n",
      "Directory NGC_6388 already exists\n"
     ]
    },
    {
     "name": "stderr",
     "output_type": "stream",
     "text": [
      "C:\\Users\\ryanw\\Anaconda3\\lib\\site-packages\\matplotlib\\backends\\backend_agg.py:238: RuntimeWarning: Glyph 9 missing from current font.\n",
      "  font.set_text(s, 0.0, flags=flags)\n",
      "C:\\Users\\ryanw\\Anaconda3\\lib\\site-packages\\matplotlib\\backends\\backend_agg.py:201: RuntimeWarning: Glyph 9 missing from current font.\n",
      "  font.set_text(s, 0, flags=flags)\n",
      "C:\\Users\\ryanw\\Anaconda3\\lib\\site-packages\\matplotlib\\backends\\backend_agg.py:238: RuntimeWarning: Glyph 9 missing from current font.\n",
      "  font.set_text(s, 0.0, flags=flags)\n",
      "C:\\Users\\ryanw\\Anaconda3\\lib\\site-packages\\matplotlib\\backends\\backend_agg.py:201: RuntimeWarning: Glyph 9 missing from current font.\n",
      "  font.set_text(s, 0, flags=flags)\n"
     ]
    },
    {
     "name": "stdout",
     "output_type": "stream",
     "text": [
      "\n",
      "Directory NGC_6397 already exists\n"
     ]
    },
    {
     "name": "stderr",
     "output_type": "stream",
     "text": [
      "C:\\Users\\ryanw\\Anaconda3\\lib\\site-packages\\matplotlib\\backends\\backend_agg.py:238: RuntimeWarning: Glyph 9 missing from current font.\n",
      "  font.set_text(s, 0.0, flags=flags)\n",
      "C:\\Users\\ryanw\\Anaconda3\\lib\\site-packages\\matplotlib\\backends\\backend_agg.py:201: RuntimeWarning: Glyph 9 missing from current font.\n",
      "  font.set_text(s, 0, flags=flags)\n",
      "C:\\Users\\ryanw\\Anaconda3\\lib\\site-packages\\matplotlib\\backends\\backend_agg.py:238: RuntimeWarning: Glyph 9 missing from current font.\n",
      "  font.set_text(s, 0.0, flags=flags)\n",
      "C:\\Users\\ryanw\\Anaconda3\\lib\\site-packages\\matplotlib\\backends\\backend_agg.py:201: RuntimeWarning: Glyph 9 missing from current font.\n",
      "  font.set_text(s, 0, flags=flags)\n"
     ]
    },
    {
     "name": "stdout",
     "output_type": "stream",
     "text": [
      "\n",
      "Directory NGC_6441 already exists\n"
     ]
    },
    {
     "name": "stderr",
     "output_type": "stream",
     "text": [
      "C:\\Users\\ryanw\\Anaconda3\\lib\\site-packages\\matplotlib\\backends\\backend_agg.py:238: RuntimeWarning: Glyph 9 missing from current font.\n",
      "  font.set_text(s, 0.0, flags=flags)\n",
      "C:\\Users\\ryanw\\Anaconda3\\lib\\site-packages\\matplotlib\\backends\\backend_agg.py:201: RuntimeWarning: Glyph 9 missing from current font.\n",
      "  font.set_text(s, 0, flags=flags)\n",
      "C:\\Users\\ryanw\\Anaconda3\\lib\\site-packages\\matplotlib\\backends\\backend_agg.py:238: RuntimeWarning: Glyph 9 missing from current font.\n",
      "  font.set_text(s, 0.0, flags=flags)\n",
      "C:\\Users\\ryanw\\Anaconda3\\lib\\site-packages\\matplotlib\\backends\\backend_agg.py:201: RuntimeWarning: Glyph 9 missing from current font.\n",
      "  font.set_text(s, 0, flags=flags)\n"
     ]
    },
    {
     "name": "stdout",
     "output_type": "stream",
     "text": [
      "\n",
      "Directory Ter_9 already exists\n"
     ]
    },
    {
     "name": "stderr",
     "output_type": "stream",
     "text": [
      "C:\\Users\\ryanw\\Anaconda3\\lib\\site-packages\\matplotlib\\backends\\backend_agg.py:238: RuntimeWarning: Glyph 9 missing from current font.\n",
      "  font.set_text(s, 0.0, flags=flags)\n",
      "C:\\Users\\ryanw\\Anaconda3\\lib\\site-packages\\matplotlib\\backends\\backend_agg.py:201: RuntimeWarning: Glyph 9 missing from current font.\n",
      "  font.set_text(s, 0, flags=flags)\n",
      "C:\\Users\\ryanw\\Anaconda3\\lib\\site-packages\\matplotlib\\backends\\backend_agg.py:238: RuntimeWarning: Glyph 9 missing from current font.\n",
      "  font.set_text(s, 0.0, flags=flags)\n",
      "C:\\Users\\ryanw\\Anaconda3\\lib\\site-packages\\matplotlib\\backends\\backend_agg.py:201: RuntimeWarning: Glyph 9 missing from current font.\n",
      "  font.set_text(s, 0, flags=flags)\n"
     ]
    },
    {
     "name": "stdout",
     "output_type": "stream",
     "text": [
      "\n",
      "Directory NGC_6522 already exists\n"
     ]
    },
    {
     "name": "stderr",
     "output_type": "stream",
     "text": [
      "C:\\Users\\ryanw\\Anaconda3\\lib\\site-packages\\matplotlib\\backends\\backend_agg.py:238: RuntimeWarning: Glyph 9 missing from current font.\n",
      "  font.set_text(s, 0.0, flags=flags)\n",
      "C:\\Users\\ryanw\\Anaconda3\\lib\\site-packages\\matplotlib\\backends\\backend_agg.py:201: RuntimeWarning: Glyph 9 missing from current font.\n",
      "  font.set_text(s, 0, flags=flags)\n",
      "C:\\Users\\ryanw\\Anaconda3\\lib\\site-packages\\matplotlib\\backends\\backend_agg.py:238: RuntimeWarning: Glyph 9 missing from current font.\n",
      "  font.set_text(s, 0.0, flags=flags)\n",
      "C:\\Users\\ryanw\\Anaconda3\\lib\\site-packages\\matplotlib\\backends\\backend_agg.py:201: RuntimeWarning: Glyph 9 missing from current font.\n",
      "  font.set_text(s, 0, flags=flags)\n"
     ]
    },
    {
     "name": "stdout",
     "output_type": "stream",
     "text": [
      "\n",
      "Directory NGC_6544 already exists\n"
     ]
    },
    {
     "name": "stderr",
     "output_type": "stream",
     "text": [
      "C:\\Users\\ryanw\\Anaconda3\\lib\\site-packages\\matplotlib\\backends\\backend_agg.py:238: RuntimeWarning: Glyph 9 missing from current font.\n",
      "  font.set_text(s, 0.0, flags=flags)\n",
      "C:\\Users\\ryanw\\Anaconda3\\lib\\site-packages\\matplotlib\\backends\\backend_agg.py:201: RuntimeWarning: Glyph 9 missing from current font.\n",
      "  font.set_text(s, 0, flags=flags)\n",
      "C:\\Users\\ryanw\\Anaconda3\\lib\\site-packages\\matplotlib\\backends\\backend_agg.py:238: RuntimeWarning: Glyph 9 missing from current font.\n",
      "  font.set_text(s, 0.0, flags=flags)\n",
      "C:\\Users\\ryanw\\Anaconda3\\lib\\site-packages\\matplotlib\\backends\\backend_agg.py:201: RuntimeWarning: Glyph 9 missing from current font.\n",
      "  font.set_text(s, 0, flags=flags)\n"
     ]
    },
    {
     "name": "stdout",
     "output_type": "stream",
     "text": [
      "\n",
      "Directory NGC_6553 already exists\n"
     ]
    },
    {
     "name": "stderr",
     "output_type": "stream",
     "text": [
      "C:\\Users\\ryanw\\Anaconda3\\lib\\site-packages\\matplotlib\\backends\\backend_agg.py:238: RuntimeWarning: Glyph 9 missing from current font.\n",
      "  font.set_text(s, 0.0, flags=flags)\n",
      "C:\\Users\\ryanw\\Anaconda3\\lib\\site-packages\\matplotlib\\backends\\backend_agg.py:201: RuntimeWarning: Glyph 9 missing from current font.\n",
      "  font.set_text(s, 0, flags=flags)\n",
      "C:\\Users\\ryanw\\Anaconda3\\lib\\site-packages\\matplotlib\\backends\\backend_agg.py:238: RuntimeWarning: Glyph 9 missing from current font.\n",
      "  font.set_text(s, 0.0, flags=flags)\n",
      "C:\\Users\\ryanw\\Anaconda3\\lib\\site-packages\\matplotlib\\backends\\backend_agg.py:201: RuntimeWarning: Glyph 9 missing from current font.\n",
      "  font.set_text(s, 0, flags=flags)\n"
     ]
    },
    {
     "name": "stdout",
     "output_type": "stream",
     "text": [
      "\n",
      "Directory NGC_6656 already exists\n"
     ]
    },
    {
     "name": "stderr",
     "output_type": "stream",
     "text": [
      "C:\\Users\\ryanw\\Anaconda3\\lib\\site-packages\\matplotlib\\backends\\backend_agg.py:238: RuntimeWarning: Glyph 9 missing from current font.\n",
      "  font.set_text(s, 0.0, flags=flags)\n",
      "C:\\Users\\ryanw\\Anaconda3\\lib\\site-packages\\matplotlib\\backends\\backend_agg.py:201: RuntimeWarning: Glyph 9 missing from current font.\n",
      "  font.set_text(s, 0, flags=flags)\n",
      "C:\\Users\\ryanw\\Anaconda3\\lib\\site-packages\\matplotlib\\backends\\backend_agg.py:238: RuntimeWarning: Glyph 9 missing from current font.\n",
      "  font.set_text(s, 0.0, flags=flags)\n",
      "C:\\Users\\ryanw\\Anaconda3\\lib\\site-packages\\matplotlib\\backends\\backend_agg.py:201: RuntimeWarning: Glyph 9 missing from current font.\n",
      "  font.set_text(s, 0, flags=flags)\n"
     ]
    },
    {
     "name": "stdout",
     "output_type": "stream",
     "text": [
      "\n",
      "Directory NGC_6715 already exists\n"
     ]
    },
    {
     "name": "stderr",
     "output_type": "stream",
     "text": [
      "C:\\Users\\ryanw\\Anaconda3\\lib\\site-packages\\matplotlib\\backends\\backend_agg.py:238: RuntimeWarning: Glyph 9 missing from current font.\n",
      "  font.set_text(s, 0.0, flags=flags)\n",
      "C:\\Users\\ryanw\\Anaconda3\\lib\\site-packages\\matplotlib\\backends\\backend_agg.py:201: RuntimeWarning: Glyph 9 missing from current font.\n",
      "  font.set_text(s, 0, flags=flags)\n",
      "C:\\Users\\ryanw\\Anaconda3\\lib\\site-packages\\matplotlib\\backends\\backend_agg.py:238: RuntimeWarning: Glyph 9 missing from current font.\n",
      "  font.set_text(s, 0.0, flags=flags)\n",
      "C:\\Users\\ryanw\\Anaconda3\\lib\\site-packages\\matplotlib\\backends\\backend_agg.py:201: RuntimeWarning: Glyph 9 missing from current font.\n",
      "  font.set_text(s, 0, flags=flags)\n"
     ]
    },
    {
     "name": "stdout",
     "output_type": "stream",
     "text": [
      "\n",
      "Directory NGC_6752 already exists\n"
     ]
    },
    {
     "name": "stderr",
     "output_type": "stream",
     "text": [
      "C:\\Users\\ryanw\\Anaconda3\\lib\\site-packages\\matplotlib\\backends\\backend_agg.py:238: RuntimeWarning: Glyph 9 missing from current font.\n",
      "  font.set_text(s, 0.0, flags=flags)\n",
      "C:\\Users\\ryanw\\Anaconda3\\lib\\site-packages\\matplotlib\\backends\\backend_agg.py:201: RuntimeWarning: Glyph 9 missing from current font.\n",
      "  font.set_text(s, 0, flags=flags)\n",
      "C:\\Users\\ryanw\\Anaconda3\\lib\\site-packages\\matplotlib\\backends\\backend_agg.py:238: RuntimeWarning: Glyph 9 missing from current font.\n",
      "  font.set_text(s, 0.0, flags=flags)\n",
      "C:\\Users\\ryanw\\Anaconda3\\lib\\site-packages\\matplotlib\\backends\\backend_agg.py:201: RuntimeWarning: Glyph 9 missing from current font.\n",
      "  font.set_text(s, 0, flags=flags)\n"
     ]
    },
    {
     "name": "stdout",
     "output_type": "stream",
     "text": [
      "\n",
      "Directory NGC_6809 already exists\n"
     ]
    },
    {
     "name": "stderr",
     "output_type": "stream",
     "text": [
      "C:\\Users\\ryanw\\Anaconda3\\lib\\site-packages\\matplotlib\\backends\\backend_agg.py:238: RuntimeWarning: Glyph 9 missing from current font.\n",
      "  font.set_text(s, 0.0, flags=flags)\n",
      "C:\\Users\\ryanw\\Anaconda3\\lib\\site-packages\\matplotlib\\backends\\backend_agg.py:201: RuntimeWarning: Glyph 9 missing from current font.\n",
      "  font.set_text(s, 0, flags=flags)\n",
      "C:\\Users\\ryanw\\Anaconda3\\lib\\site-packages\\matplotlib\\backends\\backend_agg.py:238: RuntimeWarning: Glyph 9 missing from current font.\n",
      "  font.set_text(s, 0.0, flags=flags)\n",
      "C:\\Users\\ryanw\\Anaconda3\\lib\\site-packages\\matplotlib\\backends\\backend_agg.py:201: RuntimeWarning: Glyph 9 missing from current font.\n",
      "  font.set_text(s, 0, flags=flags)\n"
     ]
    },
    {
     "name": "stdout",
     "output_type": "stream",
     "text": [
      "\n",
      "Directory NGC_6838 already exists\n"
     ]
    },
    {
     "name": "stderr",
     "output_type": "stream",
     "text": [
      "C:\\Users\\ryanw\\Anaconda3\\lib\\site-packages\\matplotlib\\backends\\backend_agg.py:238: RuntimeWarning: Glyph 9 missing from current font.\n",
      "  font.set_text(s, 0.0, flags=flags)\n",
      "C:\\Users\\ryanw\\Anaconda3\\lib\\site-packages\\matplotlib\\backends\\backend_agg.py:201: RuntimeWarning: Glyph 9 missing from current font.\n",
      "  font.set_text(s, 0, flags=flags)\n",
      "C:\\Users\\ryanw\\Anaconda3\\lib\\site-packages\\matplotlib\\backends\\backend_agg.py:238: RuntimeWarning: Glyph 9 missing from current font.\n",
      "  font.set_text(s, 0.0, flags=flags)\n",
      "C:\\Users\\ryanw\\Anaconda3\\lib\\site-packages\\matplotlib\\backends\\backend_agg.py:201: RuntimeWarning: Glyph 9 missing from current font.\n",
      "  font.set_text(s, 0, flags=flags)\n"
     ]
    },
    {
     "name": "stdout",
     "output_type": "stream",
     "text": [
      "\n",
      "Directory NGC_7078 already exists\n"
     ]
    },
    {
     "name": "stderr",
     "output_type": "stream",
     "text": [
      "C:\\Users\\ryanw\\Anaconda3\\lib\\site-packages\\matplotlib\\backends\\backend_agg.py:238: RuntimeWarning: Glyph 9 missing from current font.\n",
      "  font.set_text(s, 0.0, flags=flags)\n",
      "C:\\Users\\ryanw\\Anaconda3\\lib\\site-packages\\matplotlib\\backends\\backend_agg.py:201: RuntimeWarning: Glyph 9 missing from current font.\n",
      "  font.set_text(s, 0, flags=flags)\n",
      "C:\\Users\\ryanw\\Anaconda3\\lib\\site-packages\\matplotlib\\backends\\backend_agg.py:238: RuntimeWarning: Glyph 9 missing from current font.\n",
      "  font.set_text(s, 0.0, flags=flags)\n",
      "C:\\Users\\ryanw\\Anaconda3\\lib\\site-packages\\matplotlib\\backends\\backend_agg.py:201: RuntimeWarning: Glyph 9 missing from current font.\n",
      "  font.set_text(s, 0, flags=flags)\n"
     ]
    },
    {
     "name": "stdout",
     "output_type": "stream",
     "text": [
      "\n",
      "Directory NGC_7089 already exists\n"
     ]
    },
    {
     "name": "stderr",
     "output_type": "stream",
     "text": [
      "C:\\Users\\ryanw\\Anaconda3\\lib\\site-packages\\matplotlib\\backends\\backend_agg.py:238: RuntimeWarning: Glyph 9 missing from current font.\n",
      "  font.set_text(s, 0.0, flags=flags)\n",
      "C:\\Users\\ryanw\\Anaconda3\\lib\\site-packages\\matplotlib\\backends\\backend_agg.py:201: RuntimeWarning: Glyph 9 missing from current font.\n",
      "  font.set_text(s, 0, flags=flags)\n"
     ]
    },
    {
     "name": "stdout",
     "output_type": "stream",
     "text": [
      "\n"
     ]
    },
    {
     "name": "stderr",
     "output_type": "stream",
     "text": [
      "C:\\Users\\ryanw\\Anaconda3\\lib\\site-packages\\matplotlib\\backends\\backend_agg.py:238: RuntimeWarning: Glyph 9 missing from current font.\n",
      "  font.set_text(s, 0.0, flags=flags)\n",
      "C:\\Users\\ryanw\\Anaconda3\\lib\\site-packages\\matplotlib\\backends\\backend_agg.py:201: RuntimeWarning: Glyph 9 missing from current font.\n",
      "  font.set_text(s, 0, flags=flags)\n"
     ]
    }
   ],
   "source": [
    "start = time.time()\n",
    "\n",
    "\n",
    "for i in tqdm(range(0, 34)):\n",
    "    try: \n",
    "        os.makedirs('GCs_20RHMRT_10RT/' + GC_name_arr[i])\n",
    "        print('\\nMaking directory ' + GC_name_arr[i])\n",
    "    except OSError as error:\n",
    "        print('\\nDirectory ' + GC_name_arr[i] + ' already exists')\n",
    "        \n",
    "    ### plotting original data\n",
    "    tsne_pack = [tsne_control_X[i], tsne_control_Y[i], tsne_all_X[i], tsne_all_Y[i]]\n",
    "    umap_pack = [umap_control_X[i], umap_control_Y[i], umap_all_X[i], umap_all_Y[i]]\n",
    "    \n",
    "    plot_ML(GC_name_arr[i], tsne_pack, 'tsne')\n",
    "    plot_ML(GC_name_arr[i], umap_pack, 'umap')\n",
    "    \n",
    "    ### final control stars\n",
    "    final_control_group_plot(tsne_ctrl_inds[i], GC_name_arr[i], 'tsne', tsne_pack)\n",
    "    final_control_group_plot(umap_ctrl_inds[i], GC_name_arr[i], 'umap', umap_pack)"
   ]
  },
  {
   "cell_type": "markdown",
   "metadata": {},
   "source": [
    "# dim reduction no kin"
   ]
  },
  {
   "cell_type": "code",
   "execution_count": 15,
   "metadata": {
    "hideCode": true
   },
   "outputs": [],
   "source": [
    "param_list = ['# APOGEE_ID_', 'GAIAEDR3_SOURCE_ID', 'GAIAEDR3_PARALLAX', 'GAIAEDR3_PARALLAX_ERROR',\n",
    "              'RA', 'DEC', 'GAIAEDR3_PMRA', 'GAIAEDR3_PMRA_ERROR', 'GAIAEDR3_PMDEC', 'GAIAEDR3_PMDEC_ERROR', \n",
    "              'VHELIO_AVG', 'VERR', 'SNR',\n",
    "              'FE_H', 'FE_H_ERR', 'C_FE', 'C_FE_ERR', 'CI_FE', 'CI_FE_ERR', 'N_FE', 'N_FE_ERR',\n",
    "              'O_FE', 'O_FE_ERR', 'MG_FE', 'MG_FE_ERR', 'AL_FE', 'AL_FE_ERR', 'SI_FE', 'SI_FE_ERR',\n",
    "              'P_FE', 'P_FE_ERR', 'S_FE', 'S_FE_ERR', 'K_FE', 'K_FE_ERR', 'CA_FE', 'CA_FE_ERR',\n",
    "              'TI_FE', 'TI_FE_ERR', 'TIII_FE', 'TIII_FE_ERR', 'V_FE', 'V_FE_ERR', 'CR_FE', 'CR_FE_ERR',\n",
    "              'MN_FE', 'MN_FE_ERR', 'CO_FE', 'CO_FE_ERR', 'NI_FE', 'NI_FE_ERR']\n",
    "\n",
    "abundance_index = 13 # index where the first chemical abundance starts\n",
    "RV_index = 10 # where the radial velocity index is (NOTE: USE VHELIO_AVG NOT THE STUPID GAIA ONE)\n",
    "PMRA_index = 6 # PMRA index\n",
    "PMDEC_index = 8 # PMDEC index\n",
    "\n",
    "# dictionary of all relevant parameters we could ever want for tSNE and UMAP\n",
    "# the abundances should skip every other one due to it being [chem1, chem1_err, chem2, chem2_err, etc.]\n",
    "all_param_dict_nokin = {'FE_H': abundance_index,\n",
    "                 'C_FE': abundance_index + 2,\n",
    "                 'CI_FE': abundance_index + 4,\n",
    "                 'N_FE': abundance_index + 6,\n",
    "                 'O_FE': abundance_index + 8,\n",
    "                 'MG_FE': abundance_index + 10,\n",
    "                 'AL_FE': abundance_index + 12,\n",
    "                 'SI_FE': abundance_index + 14,\n",
    "                 'P_FE': abundance_index + 16,\n",
    "                 'S_FE': abundance_index + 18,\n",
    "                 'K_FE': abundance_index + 20,\n",
    "                 'CA_FE': abundance_index + 22,\n",
    "                 'TI_FE': abundance_index + 24,\n",
    "                 'TIII_FE': abundance_index + 26,\n",
    "                 'V_FE': abundance_index + 28,\n",
    "                 'CR_FE': abundance_index + 30,\n",
    "                 'MN_FE': abundance_index + 32,\n",
    "                 'CO_FE': abundance_index + 34,\n",
    "                 'NI_FE': abundance_index + 36}\n",
    "\n",
    "\n",
    "fov = 5 # field of view (note: for x by x, use fov = x/2)\n",
    "ML_index = 0 # 0 for both tSNE and UMAP, 1 for only tSNE, 2 for only UMAP, any other value will raise an error"
   ]
  },
  {
   "cell_type": "code",
   "execution_count": 16,
   "metadata": {
    "hideCode": true
   },
   "outputs": [],
   "source": [
    "def master_func_nokin(GC_name, master_param_dict, fov, db, dataset, params, ML, GC_indices_control_tsne, GC_indices_control_umap):\n",
    "    print('\\nProcessing:', GC_name)\n",
    "    ML_values = {0, 1, 2}    \n",
    "    if ML not in ML_values:\n",
    "        raise ValueError('ML index not one of %r.' % ML_values)\n",
    "    \n",
    "    # getting GC parameteters\n",
    "    ra, dec, rhm_deg, rt_deg = GC_params(GC_name, db)\n",
    "    \n",
    "    # loading\n",
    "    GC_dict, GC_cols = master_load(ra, dec, fov, dataset, params, GC_name, rhm_deg, rt_deg)\n",
    "    \n",
    "    # filtering\n",
    "    GC_filter_data = master_filter(GC_dict, GC_cols)\n",
    "    \n",
    "    if GC_filter_data[0].size == 0:\n",
    "        #print(\"This shit don't got no stars bruh\\n\")\n",
    "        return [None, None, None, None, None, None, None, None]\n",
    "    \n",
    "    else:\n",
    "        # choosing parameters\n",
    "        param_dict = master_param_dict\n",
    "\n",
    "        if ML == 0:\n",
    "            # tSNEing\n",
    "            tSNE_X, tSNE_Y, tSNE_control_X, tSNE_control_Y = master_tSNE(GC_filter_data, param_dict, GC_indices_control_tsne, GC_name, GC_filter_data[0].size)\n",
    "\n",
    "            # UMAPing\n",
    "            UMAP_X, UMAP_Y, UMAP_control_X, UMAP_control_Y = master_UMAP(GC_filter_data, param_dict, GC_indices_control_umap, GC_name, GC_filter_data[0].size)\n",
    "\n",
    "            print('Done!\\n')\n",
    "            return [tSNE_X, tSNE_Y, tSNE_control_X, tSNE_control_Y, UMAP_X, UMAP_Y, UMAP_control_X, UMAP_control_Y, GC_indices_control_tsne, GC_indices_control_umap]\n",
    "\n",
    "        elif ML == 1:\n",
    "            # tSNEing\n",
    "            tSNE_X, tSNE_Y, tSNE_control_X, tSNE_control_Y = master_tSNE(GC_filter_data, param_dict, GC_indices_control_tsne, GC_filter_data[0].size)\n",
    "\n",
    "            print('Done!\\n')\n",
    "            return [tSNE_X, tSNE_Y, tSNE_control_X, tSNE_control_Y, None, None, None, None]\n",
    "\n",
    "        elif ML == 2:\n",
    "            # UMAPing\n",
    "            UMAP_X, UMAP_Y, UMAP_control_X, UMAP_control_Y = master_UMAP(GC_filter_data, param_dict, GC_indices_control_umap, GC_filter_data[0].size)\n",
    "\n",
    "            print('Done!\\n')\n",
    "            return [None, None, None, None, UMAP_X, UMAP_Y, UMAP_control_X, UMAP_control_Y]"
   ]
  },
  {
   "cell_type": "code",
   "execution_count": 17,
   "metadata": {
    "hideCode": true
   },
   "outputs": [],
   "source": [
    "GC_stars_dict_nokin = {}"
   ]
  },
  {
   "cell_type": "code",
   "execution_count": 254,
   "metadata": {
    "collapsed": true,
    "hideCode": true
   },
   "outputs": [
    {
     "data": {
      "application/vnd.jupyter.widget-view+json": {
       "model_id": "a823a4f581fa4aa990a541d06fc1585e",
       "version_major": 2,
       "version_minor": 0
      },
      "text/plain": [
       "HBox(children=(HTML(value=''), FloatProgress(value=0.0, max=34.0), HTML(value='')))"
      ]
     },
     "metadata": {},
     "output_type": "display_data"
    },
    {
     "name": "stdout",
     "output_type": "stream",
     "text": [
      "\n",
      "Processing: NGC_104\n",
      "1988 stars in a 16.069026371571397x16.069026371571397 fov of the GC\n",
      "There are 1988 stars in our sample after the proper motion filtering.\n",
      "There are 1988 stars in our sample after the abundance filtering.\n",
      "There were no duplicate spectra.\n",
      "There are 1988 stars in our sample after removing sources with low SNR.\n",
      "\n",
      "The final amount of stars in our sample is: 1988\n",
      "Done!\n",
      "\n",
      "\n",
      "Processing: NGC_288\n",
      "354 stars in a 6.045468238333238x6.045468238333238 fov of the GC\n",
      "There are 354 stars in our sample after the proper motion filtering.\n",
      "There are 354 stars in our sample after the abundance filtering.\n",
      "There were no duplicate spectra.\n",
      "There are 354 stars in our sample after removing sources with low SNR.\n",
      "\n",
      "The final amount of stars in our sample is: 354\n",
      "Done!\n",
      "\n",
      "\n",
      "Processing: NGC_362\n",
      "1446 stars in a 5.966850967573638x5.966850967573638 fov of the GC\n",
      "There are 1446 stars in our sample after the proper motion filtering.\n",
      "There are 1446 stars in our sample after the abundance filtering.\n",
      "There were no duplicate spectra.\n",
      "There are 1446 stars in our sample after removing sources with low SNR.\n",
      "\n",
      "The final amount of stars in our sample is: 1446\n",
      "Done!\n",
      "\n",
      "\n",
      "Processing: NGC_1851\n",
      "386 stars in a 6.093260335306687x6.093260335306687 fov of the GC\n",
      "There are 386 stars in our sample after the proper motion filtering.\n",
      "There are 386 stars in our sample after the abundance filtering.\n",
      "There were no duplicate spectra.\n",
      "There are 386 stars in our sample after removing sources with low SNR.\n",
      "\n",
      "The final amount of stars in our sample is: 386\n",
      "Done!\n",
      "\n",
      "\n",
      "Processing: NGC_1904\n",
      "246 stars in a 2.877029946412754x2.877029946412754 fov of the GC\n",
      "There are 246 stars in our sample after the proper motion filtering.\n",
      "There are 246 stars in our sample after the abundance filtering.\n",
      "There were no duplicate spectra.\n",
      "There are 246 stars in our sample after removing sources with low SNR.\n",
      "\n",
      "The final amount of stars in our sample is: 246\n",
      "Done!\n",
      "\n",
      "\n",
      "Processing: NGC_2808\n",
      "1251 stars in a 9.448390742205868x9.448390742205868 fov of the GC\n",
      "There are 1251 stars in our sample after the proper motion filtering.\n",
      "There are 1251 stars in our sample after the abundance filtering.\n",
      "There were no duplicate spectra.\n",
      "There are 1251 stars in our sample after removing sources with low SNR.\n",
      "\n",
      "The final amount of stars in our sample is: 1251\n",
      "Done!\n",
      "\n",
      "\n",
      "Processing: NGC_3201\n",
      "2390 stars in a 9.370771528160178x9.370771528160178 fov of the GC\n",
      "There are 2390 stars in our sample after the proper motion filtering.\n",
      "There are 2390 stars in our sample after the abundance filtering.\n",
      "There were no duplicate spectra.\n",
      "There are 2390 stars in our sample after removing sources with low SNR.\n",
      "\n",
      "The final amount of stars in our sample is: 2390\n",
      "Done!\n",
      "\n",
      "\n",
      "Processing: NGC_4590\n",
      "218 stars in a 4.265702152885224x4.265702152885224 fov of the GC\n",
      "There are 218 stars in our sample after the proper motion filtering.\n",
      "There are 218 stars in our sample after the abundance filtering.\n",
      "There were no duplicate spectra.\n",
      "There are 218 stars in our sample after removing sources with low SNR.\n",
      "\n",
      "The final amount of stars in our sample is: 218\n",
      "Done!\n",
      "\n",
      "\n",
      "Processing: NGC_5024\n",
      "695 stars in a 5.503942010753989x5.503942010753989 fov of the GC\n",
      "There are 695 stars in our sample after the proper motion filtering.\n",
      "There are 695 stars in our sample after the abundance filtering.\n",
      "There were no duplicate spectra.\n",
      "There are 695 stars in our sample after removing sources with low SNR.\n",
      "\n",
      "The final amount of stars in our sample is: 695\n",
      "Done!\n",
      "\n",
      "\n",
      "Processing: NGC_5139\n",
      "7338 stars in a 21.40051513819914x21.40051513819914 fov of the GC\n",
      "There are 7338 stars in our sample after the proper motion filtering.\n",
      "There are 7338 stars in our sample after the abundance filtering.\n",
      "There were no duplicate spectra.\n",
      "There are 7338 stars in our sample after removing sources with low SNR.\n",
      "\n",
      "The final amount of stars in our sample is: 7338\n",
      "Done!\n",
      "\n",
      "\n",
      "Processing: NGC_5272\n",
      "2863 stars in a 7.163287671590215x7.163287671590215 fov of the GC\n",
      "There are 2863 stars in our sample after the proper motion filtering.\n",
      "There are 2863 stars in our sample after the abundance filtering.\n",
      "There were no duplicate spectra.\n",
      "There are 2863 stars in our sample after removing sources with low SNR.\n",
      "\n",
      "The final amount of stars in our sample is: 2863\n",
      "Done!\n",
      "\n",
      "\n",
      "Processing: NGC_5904\n",
      "1337 stars in a 6.260157376006921x6.260157376006921 fov of the GC\n",
      "There are 1337 stars in our sample after the proper motion filtering.\n",
      "There are 1337 stars in our sample after the abundance filtering.\n",
      "There were no duplicate spectra.\n",
      "There are 1337 stars in our sample after removing sources with low SNR.\n",
      "\n",
      "The final amount of stars in our sample is: 1337\n",
      "Done!\n",
      "\n",
      "\n",
      "Processing: NGC_6121\n",
      "14603 stars in a 16.543041949877825x16.543041949877825 fov of the GC\n",
      "There are 14603 stars in our sample after the proper motion filtering.\n",
      "There are 14603 stars in our sample after the abundance filtering.\n",
      "There were no duplicate spectra.\n",
      "There are 14603 stars in our sample after removing sources with low SNR.\n",
      "\n",
      "The final amount of stars in our sample is: 14603\n",
      "Done!\n",
      "\n",
      "\n",
      "Processing: NGC_6171\n",
      "733 stars in a 3.6809233277701607x3.6809233277701607 fov of the GC\n",
      "There are 733 stars in our sample after the proper motion filtering.\n",
      "There are 733 stars in our sample after the abundance filtering.\n",
      "There were no duplicate spectra.\n",
      "There are 733 stars in our sample after removing sources with low SNR.\n",
      "\n",
      "The final amount of stars in our sample is: 733\n",
      "Done!\n",
      "\n",
      "\n",
      "Processing: NGC_6205\n",
      "7804 stars in a 10.365389794193762x10.365389794193762 fov of the GC\n",
      "There are 7804 stars in our sample after the proper motion filtering.\n",
      "There are 7804 stars in our sample after the abundance filtering.\n",
      "There were no duplicate spectra.\n",
      "There are 7804 stars in our sample after removing sources with low SNR.\n",
      "\n",
      "The final amount of stars in our sample is: 7804\n",
      "Done!\n",
      "\n",
      "\n",
      "Processing: NGC_6218\n",
      "981 stars in a 5.075757505506928x5.075757505506928 fov of the GC\n",
      "There are 981 stars in our sample after the proper motion filtering.\n",
      "There are 981 stars in our sample after the abundance filtering.\n",
      "There were no duplicate spectra.\n",
      "There are 981 stars in our sample after removing sources with low SNR.\n",
      "\n",
      "The final amount of stars in our sample is: 981\n",
      "Done!\n",
      "\n",
      "\n",
      "Processing: NGC_6254\n",
      "905 stars in a 6.109058112859154x6.109058112859154 fov of the GC\n",
      "There are 905 stars in our sample after the proper motion filtering.\n",
      "There are 905 stars in our sample after the abundance filtering.\n",
      "There were no duplicate spectra.\n",
      "There are 905 stars in our sample after removing sources with low SNR.\n",
      "\n",
      "The final amount of stars in our sample is: 905\n",
      "Done!\n",
      "\n",
      "\n",
      "Processing: NGC_6273\n",
      "843 stars in a 2.663478861603907x2.663478861603907 fov of the GC\n",
      "There are 843 stars in our sample after the proper motion filtering.\n",
      "There are 843 stars in our sample after the abundance filtering.\n",
      "There were no duplicate spectra.\n",
      "There are 843 stars in our sample after removing sources with low SNR.\n",
      "\n",
      "The final amount of stars in our sample is: 843\n",
      "Done!\n",
      "\n",
      "\n",
      "Processing: NGC_6341\n",
      "1996 stars in a 8.146910751771179x8.146910751771179 fov of the GC\n",
      "There are 1996 stars in our sample after the proper motion filtering.\n",
      "There are 1996 stars in our sample after the abundance filtering.\n",
      "There were no duplicate spectra.\n",
      "There are 1996 stars in our sample after removing sources with low SNR.\n",
      "\n",
      "The final amount of stars in our sample is: 1996\n",
      "Done!\n",
      "\n",
      "\n",
      "Processing: NGC_6380\n",
      "423 stars in a 2.360978175470638x2.360978175470638 fov of the GC\n",
      "There are 423 stars in our sample after the proper motion filtering.\n",
      "There are 423 stars in our sample after the abundance filtering.\n",
      "There were no duplicate spectra.\n",
      "There are 423 stars in our sample after removing sources with low SNR.\n",
      "\n",
      "The final amount of stars in our sample is: 423\n",
      "Done!\n",
      "\n",
      "\n",
      "Processing: NGC_6388\n",
      "540 stars in a 5.157506737923715x5.157506737923715 fov of the GC\n",
      "There are 540 stars in our sample after the proper motion filtering.\n",
      "There are 540 stars in our sample after the abundance filtering.\n",
      "There were no duplicate spectra.\n",
      "There are 540 stars in our sample after removing sources with low SNR.\n",
      "\n",
      "The final amount of stars in our sample is: 540\n",
      "Done!\n",
      "\n",
      "\n",
      "Processing: NGC_6397\n",
      "3279 stars in a 12.11347982146192x12.11347982146192 fov of the GC\n",
      "There are 3279 stars in our sample after the proper motion filtering.\n",
      "There are 3279 stars in our sample after the abundance filtering.\n",
      "There were no duplicate spectra.\n",
      "There are 3279 stars in our sample after removing sources with low SNR.\n",
      "\n",
      "The final amount of stars in our sample is: 3279\n"
     ]
    },
    {
     "name": "stdout",
     "output_type": "stream",
     "text": [
      "Done!\n",
      "\n",
      "\n",
      "Processing: NGC_6441\n",
      "1535 stars in a 5.020566082893428x5.020566082893428 fov of the GC\n",
      "There are 1535 stars in our sample after the proper motion filtering.\n",
      "There are 1535 stars in our sample after the abundance filtering.\n",
      "There were no duplicate spectra.\n",
      "There are 1535 stars in our sample after removing sources with low SNR.\n",
      "\n",
      "The final amount of stars in our sample is: 1535\n",
      "Done!\n",
      "\n",
      "\n",
      "Processing: Ter_9\n",
      "1760 stars in a 2.9501604259403598x2.9501604259403598 fov of the GC\n",
      "There are 1760 stars in our sample after the proper motion filtering.\n",
      "There are 1760 stars in our sample after the abundance filtering.\n",
      "There were no duplicate spectra.\n",
      "There are 1760 stars in our sample after removing sources with low SNR.\n",
      "\n",
      "The final amount of stars in our sample is: 1760\n",
      "Done!\n",
      "\n",
      "\n",
      "Processing: NGC_6522\n",
      "1224 stars in a 1.829686163167248x1.829686163167248 fov of the GC\n",
      "There are 1224 stars in our sample after the proper motion filtering.\n",
      "There are 1224 stars in our sample after the abundance filtering.\n",
      "There were no duplicate spectra.\n",
      "There are 1224 stars in our sample after removing sources with low SNR.\n",
      "\n",
      "The final amount of stars in our sample is: 1224\n",
      "Done!\n",
      "\n",
      "\n",
      "Processing: NGC_6544\n",
      "12060 stars in a 10.800529504134532x10.800529504134532 fov of the GC\n",
      "There are 12060 stars in our sample after the proper motion filtering.\n",
      "There are 12060 stars in our sample after the abundance filtering.\n",
      "There were no duplicate spectra.\n",
      "There are 12060 stars in our sample after removing sources with low SNR.\n",
      "\n",
      "The final amount of stars in our sample is: 12060\n",
      "Done!\n",
      "\n",
      "\n",
      "Processing: NGC_6553\n",
      "3683 stars in a 5.1865775782933845x5.1865775782933845 fov of the GC\n",
      "There are 3683 stars in our sample after the proper motion filtering.\n",
      "There are 3683 stars in our sample after the abundance filtering.\n",
      "There were no duplicate spectra.\n",
      "There are 3683 stars in our sample after removing sources with low SNR.\n",
      "\n",
      "The final amount of stars in our sample is: 3683\n",
      "Done!\n",
      "\n",
      "\n",
      "Processing: NGC_6656\n",
      "16615 stars in a 13.40129555366234x13.40129555366234 fov of the GC\n",
      "There are 16615 stars in our sample after the proper motion filtering.\n",
      "There are 16615 stars in our sample after the abundance filtering.\n",
      "There were no duplicate spectra.\n",
      "There are 16615 stars in our sample after removing sources with low SNR.\n",
      "\n",
      "The final amount of stars in our sample is: 16615\n",
      "Done!\n",
      "\n",
      "\n",
      "Processing: NGC_6715\n",
      "3468 stars in a 6.176280674265032x6.176280674265032 fov of the GC\n",
      "There are 3468 stars in our sample after the proper motion filtering.\n",
      "There are 3468 stars in our sample after the abundance filtering.\n",
      "There were no duplicate spectra.\n",
      "There are 3468 stars in our sample after removing sources with low SNR.\n",
      "\n",
      "The final amount of stars in our sample is: 3468\n",
      "Done!\n",
      "\n",
      "\n",
      "Processing: NGC_6752\n",
      "230 stars in a 9.376479392805248x9.376479392805248 fov of the GC\n",
      "There are 230 stars in our sample after the proper motion filtering.\n",
      "There are 230 stars in our sample after the abundance filtering.\n",
      "There were no duplicate spectra.\n",
      "There are 230 stars in our sample after removing sources with low SNR.\n",
      "\n",
      "The final amount of stars in our sample is: 230\n",
      "Done!\n",
      "\n",
      "\n",
      "Processing: NGC_6809\n",
      "1117 stars in a 5.517359472908916x5.517359472908916 fov of the GC\n",
      "There are 1117 stars in our sample after the proper motion filtering.\n",
      "There are 1117 stars in our sample after the abundance filtering.\n",
      "There were no duplicate spectra.\n",
      "There are 1117 stars in our sample after removing sources with low SNR.\n",
      "\n",
      "The final amount of stars in our sample is: 1117\n",
      "Done!\n",
      "\n",
      "\n",
      "Processing: NGC_6838\n",
      "3537 stars in a 6.183406934332374x6.183406934332374 fov of the GC\n",
      "There are 3537 stars in our sample after the proper motion filtering.\n",
      "There are 3537 stars in our sample after the abundance filtering.\n",
      "There were no duplicate spectra.\n",
      "There are 3537 stars in our sample after removing sources with low SNR.\n",
      "\n",
      "The final amount of stars in our sample is: 3537\n",
      "Done!\n",
      "\n",
      "\n",
      "Processing: NGC_7078\n",
      "1610 stars in a 7.529334031513354x7.529334031513354 fov of the GC\n",
      "There are 1610 stars in our sample after the proper motion filtering.\n",
      "There are 1610 stars in our sample after the abundance filtering.\n",
      "There were no duplicate spectra.\n",
      "There are 1610 stars in our sample after removing sources with low SNR.\n",
      "\n",
      "The final amount of stars in our sample is: 1610\n",
      "Done!\n",
      "\n",
      "\n",
      "Processing: NGC_7089\n",
      "851 stars in a 5.463763802291152x5.463763802291152 fov of the GC\n",
      "There are 851 stars in our sample after the proper motion filtering.\n",
      "There are 851 stars in our sample after the abundance filtering.\n",
      "There were no duplicate spectra.\n",
      "There are 851 stars in our sample after removing sources with low SNR.\n",
      "\n",
      "The final amount of stars in our sample is: 851\n",
      "Done!\n",
      "\n",
      "\n",
      "that shit took 28.629930059115093 mins\n"
     ]
    }
   ],
   "source": [
    "start = time.time()\n",
    "\n",
    "for count, i in enumerate(tqdm(GC_name_arr)):\n",
    "    GC_stars_dict_nokin[i] = master_func_nokin(i, all_param_dict_nokin, fov, GC_db, apogee_nofilt, param_list, ML_index, tsne_ctrl_inds[count], umap_ctrl_inds[count])\n",
    "    \n",
    "end = time.time()\n",
    "\n",
    "print('that shit took', (end - start) / 60, 'mins')"
   ]
  },
  {
   "cell_type": "code",
   "execution_count": 255,
   "metadata": {
    "hideCode": true
   },
   "outputs": [],
   "source": [
    "### saving dim reduction w/o kin results\n",
    "\n",
    "with open('saved_runs_10_RT/GC_stars_dict_nokin.pkl', 'wb') as f:\n",
    "    pickle.dump(GC_stars_dict_nokin, f)"
   ]
  },
  {
   "cell_type": "code",
   "execution_count": 11,
   "metadata": {},
   "outputs": [],
   "source": [
    "### reading dim reduction w/ kin results\n",
    "\n",
    "with open('saved_runs_10_RT/GC_stars_dict_nokin.pkl', 'rb') as f:\n",
    "    GC_stars_dict_nokin = pickle.load(f)"
   ]
  },
  {
   "cell_type": "code",
   "execution_count": 12,
   "metadata": {},
   "outputs": [],
   "source": [
    "control_stars_list_nokin = []\n",
    "total_stars_list_nokin = []\n",
    "\n",
    "sum = 0\n",
    "for key in GC_stars_dict_nokin:\n",
    "    if GC_stars_dict_nokin[key][2] is None:\n",
    "        control_stars_list_nokin.append(0)\n",
    "        total_stars_list_nokin.append(0)\n",
    "    else:\n",
    "        sum += 1\n",
    "        control_stars_list_nokin.append(len(GC_stars_dict_nokin[key][2]))\n",
    "        total_stars_list_nokin.append(len(GC_stars_dict_nokin[key][0]))"
   ]
  },
  {
   "cell_type": "code",
   "execution_count": 13,
   "metadata": {},
   "outputs": [],
   "source": [
    "new_control_stars_list_nokin = []\n",
    "new_total_stars_list_nokin = []\n",
    "new_stars_index_list_nokin = []\n",
    "\n",
    "for i in range(len(control_stars_list_nokin)):\n",
    "    new_control_stars_list_nokin.append(control_stars_list_nokin[i])\n",
    "    new_total_stars_list_nokin.append(total_stars_list_nokin[i])\n",
    "    new_stars_index_list_nokin.append(i)"
   ]
  },
  {
   "cell_type": "code",
   "execution_count": 14,
   "metadata": {},
   "outputs": [],
   "source": [
    "GC_name_arr_nokin = np.empty(len(new_stars_index_list_nokin), dtype=np.ndarray)\n",
    "\n",
    "tsne_control_X_nokin = np.empty(len(new_stars_index_list_nokin), dtype=np.ndarray)\n",
    "tsne_control_Y_nokin = np.empty(len(new_stars_index_list_nokin), dtype=np.ndarray)\n",
    "tsne_all_X_nokin = np.empty(len(new_stars_index_list_nokin), dtype=np.ndarray)\n",
    "tsne_all_Y_nokin = np.empty(len(new_stars_index_list_nokin), dtype=np.ndarray)\n",
    "\n",
    "umap_control_X_nokin = np.empty(len(new_stars_index_list_nokin), dtype=np.ndarray)\n",
    "umap_control_Y_nokin = np.empty(len(new_stars_index_list_nokin), dtype=np.ndarray)\n",
    "umap_all_X_nokin = np.empty(len(new_stars_index_list_nokin), dtype=np.ndarray)\n",
    "umap_all_Y_nokin = np.empty(len(new_stars_index_list_nokin), dtype=np.ndarray)\n",
    "\n",
    "tsne_control_indices_nokin = np.empty(len(new_stars_index_list_nokin), dtype=np.ndarray)\n",
    "umap_control_indices_nokin = np.empty(len(new_stars_index_list_nokin), dtype=np.ndarray)\n",
    "\n",
    "\n",
    "for i in range(len(new_stars_index_list_nokin)):\n",
    "    ind = new_stars_index_list_nokin[i]\n",
    "    GC_name_arr_nokin[i] = GC_name_list[ind]\n",
    "    \n",
    "    tsne_control_X_nokin[i] = GC_stars_dict_nokin[GC_name_arr_nokin[i]][2]\n",
    "    tsne_control_Y_nokin[i] = GC_stars_dict_nokin[GC_name_arr_nokin[i]][3]\n",
    "    tsne_all_X_nokin[i] = GC_stars_dict_nokin[GC_name_arr_nokin[i]][0]\n",
    "    tsne_all_Y_nokin[i] = GC_stars_dict_nokin[GC_name_arr_nokin[i]][1]\n",
    "    \n",
    "    umap_control_X_nokin[i] = GC_stars_dict_nokin[GC_name_arr_nokin[i]][6]\n",
    "    umap_control_Y_nokin[i] = GC_stars_dict_nokin[GC_name_arr_nokin[i]][7]\n",
    "    umap_all_X_nokin[i] = GC_stars_dict_nokin[GC_name_arr_nokin[i]][4]\n",
    "    umap_all_Y_nokin[i] = GC_stars_dict_nokin[GC_name_arr_nokin[i]][5]\n",
    "    \n",
    "    tsne_control_indices_nokin[i] = GC_stars_dict_nokin[GC_name_arr_nokin[i]][8] # tsne control indices\n",
    "    umap_control_indices_nokin[i] = GC_stars_dict_nokin[GC_name_arr_nokin[i]][9] # umap control indices"
   ]
  },
  {
   "cell_type": "markdown",
   "metadata": {},
   "source": [
    "# dbscan for all stars"
   ]
  },
  {
   "cell_type": "code",
   "execution_count": 15,
   "metadata": {},
   "outputs": [],
   "source": [
    "def plot_ML_nokin(name, pack, ML):\n",
    "    ### function that plots the tsne and umap of the GC again\n",
    "    ### tsne = [ctrlX, ctrlY, allX, allY], same for umap\n",
    "    \n",
    "    fig, ax = plt.subplots(1, figsize=(10,10))\n",
    "    ax.scatter(pack[2], pack[3], s=1, c='gray', label='APOGEE DR17 stars') # all\n",
    "    ax.scatter(pack[0], pack[1], s=40, edgecolor='k', c='hotpink', label='Control Group') # ctrl\n",
    "    ax.set_title(name + ML, fontsize=30)\n",
    "    ax.set_xlabel(ML + \" X-Dimension\", fontsize=16)\n",
    "    ax.set_ylabel(ML + \" Y-Dimension\", fontsize=16)\n",
    "    ax.tick_params(axis='both', which='major', labelsize=16)\n",
    "    ax.tick_params(axis='both', which='minor', labelsize=16)\n",
    "    plt.savefig('GCs_20RHMRT_10RT/' + name + '/' + ML + '_nokin.png')\n",
    "    ax.clear()\n",
    "    fig.clear()\n",
    "    plt.close(fig)"
   ]
  },
  {
   "cell_type": "markdown",
   "metadata": {},
   "source": [
    "### N(ctrl) / sigma^2(cluster)"
   ]
  },
  {
   "cell_type": "code",
   "execution_count": 17,
   "metadata": {
    "hideCode": false
   },
   "outputs": [],
   "source": [
    "def db(name, title, x, y, control_indices):\n",
    "    plt.clf()\n",
    "    \n",
    "    ### setting up data for dbscan\n",
    "    X = np.c_[x, y] # column stack (i think) for second column for DBSCAN\n",
    "    \n",
    "    ### cKDTree to find nearest neighbour distance\n",
    "    col = np.column_stack([x,y]) # column stack for cKDTree\n",
    "    tree=cKDTree(col) # making a tree\n",
    "    dist, arg = tree.query(col, k=2) # querying tree for nearest neighbour distance\n",
    "    percentile_95 =  np.percentile(dist[:,1], 95) # taking the 95th percentile of that distance\n",
    "    \n",
    "    \n",
    "    ### using the nearest neighbour percentile distance to make eps arrays to cycle through\n",
    "    eps_const = np.linspace(0.1, 4, 10) # same array that multiplies into the 95th percentile\n",
    "    eps_arr = eps_const * percentile_95 # eps array to try with DBSCAN\n",
    "    \n",
    "    \n",
    "    ### making min_sample arrays to cycle through\n",
    "    # use a ball method to count nearest n neighbours within a radius of 95 percentile of nearest neighbouring distance\n",
    "    ball = tree.query_ball_tree(tree, percentile_95) # ball method where we query a ball of size 95th percentile of nearest neighbour for # of neighbors\n",
    "    neigh = [len(i) for i in ball]\n",
    "    neigh_95 = np.percentile(neigh, 95) # 95th percentile of number of neighbors\n",
    "    \n",
    "    neigh_const = np.linspace(0.1, 2, 10)\n",
    "    neigh_arr = neigh_const * neigh_95\n",
    "    neigh_arr = [int(i) for i in neigh_arr]\n",
    "    \n",
    "    # plot of histogram of nearest neighbor numbers in a ball of size 95th percentile of nearest neighbour distances\n",
    "    # plot of histogram of nearest neighbour distances\n",
    "    '''fig, ax = plt.subplots(2, 1, figsize=(24,12))\n",
    "    ax[0].hist(dist[:,1], color='grey', edgecolor='black')\n",
    "    ax[0].set_xlabel('Nearest neighbour dist', fontsize=30)\n",
    "    ax[0].set_title(title + ' nearest neighbour distance w/ 95th percentile as ' + str(percentile_95), fontsize=50)\n",
    "    ax[1].hist(neigh, color='grey', edgecolor='black')\n",
    "    ax[1].set_xlabel('# neighbours', fontsize=30)\n",
    "    ax[1].set_title(title + ' number of neighbour within ' + str(round(percentile_95,3)) + ' w/ 95th percentile as ' + str(round(neigh_95, 3)), fontsize=50)\n",
    "    plt.tight_layout()\n",
    "    #plt.savefig('GCs_20RHMRT_3/' + name + '/' + title + '_neigh_hist.png')\n",
    "    fig.clear()\n",
    "    plt.close(fig)'''\n",
    "    \n",
    "    clusterings_lst = [] # list of clusterings\n",
    "    labels_lst = [] # list of labels\n",
    "    n_clusters_lst = [] # list of clusters\n",
    "\n",
    "    # dbscan\n",
    "    for i in range(len(neigh_arr)):\n",
    "        for j in range(len(eps_arr)):\n",
    "            # all\n",
    "            db = DBSCAN(eps=eps_arr[j], min_samples=neigh_arr[i]).fit(X)\n",
    "            clusterings_lst.append(db)\n",
    "            labels_lst.append(db.labels_)\n",
    "            n_clusters_lst.append(len(set(db.labels_)) - (1 if -1 in db.labels_ else 0))\n",
    "    \n",
    "    unique_labels_lst = []\n",
    "    core_samples_masks_lst = []\n",
    "    colors_lst = []\n",
    "    \n",
    "\n",
    "    for i in range(len(labels_lst)):\n",
    "        # all\n",
    "        unique_labels_lst.append(set(labels_lst[i]))\n",
    "        core_samples_masks_lst.append(np.zeros_like(labels_lst[i], dtype=bool))\n",
    "        core_samples_masks_lst[i][clusterings_lst[i].core_sample_indices_] = True\n",
    "        colors_lst.append([plt.cm.Spectral(each) for each in np.linspace(0, 1, len(unique_labels_lst[i]))])\n",
    "    \n",
    "    \n",
    "    max_group_label = []\n",
    "    max_group_metric = []\n",
    "    N_sigma2 = []\n",
    "\n",
    "    for ind, counts in enumerate(labels_lst): # going through every DBSCAN iteration\n",
    "        # ind is the index of the iteration\n",
    "        # counts is the list of clustering labels for each star\n",
    "        \n",
    "        # get unique \n",
    "        lab, cow = np.unique(counts, return_counts=True)\n",
    "        # lab is the list of unique labels\n",
    "        # cow is the list of counts for each unique label\n",
    "        \n",
    "        # getting index of most control members\n",
    "        control_labels = counts[control_indices] # clustering labels of the control stars\n",
    "        ctrl_lab, ctrl_cow_temp = np.unique(control_labels, return_counts=True)\n",
    "        # ctrl_lab are the unique labels of control stars\n",
    "        # ctrl_cow_temp are the counts for each unique control label. It's temp for now since we want to extend it to include all labels rather than just control ones\n",
    "        \n",
    "        ### setting a ctrl count list that is the same length as the labels count. Any labels without ctrls are length 0\n",
    "        ctrl_cow = np.zeros(len(lab)) # new control count for all clustering labels\n",
    "        for i in range(len(lab)): # going through all unique clustering labels\n",
    "            if lab[i] in ctrl_lab: # if the clustering label appears in the control labels, i.e. a control star has the same label\n",
    "                for j in range(len(ctrl_lab)): # going through the unique control labels to find the index where they equal\n",
    "                    if lab[i] == ctrl_lab[j]: # once we find the correct index\n",
    "                        ctrl_cow[i] = ctrl_cow_temp[j] # set the control count accordingly\n",
    "        \n",
    "        ### finding the individual field members of each unique label\n",
    "        lab_indices = [[] for _ in range(len(lab))] # creates a list to save indices of all field members with each unique label\n",
    "        lab_x = [[] for _ in range(len(lab_indices))] # x's of each unique label\n",
    "        lab_y = [[] for _ in range(len(lab_indices))] # y's of each unique label\n",
    "        \n",
    "        ctrl_indices = [[] for _ in range(len(lab))] # similar list to save indices of ctrl members with each unique label\n",
    "        ctrl_x = [[] for _ in range(len(ctrl_indices))] # ctrl x's of each unique label\n",
    "        ctrl_y = [[] for _ in range(len(ctrl_indices))] # ctrl y's of each unique label\n",
    "        for i in range(len(lab)):\n",
    "            lab_indices[i] = [c for c, l in enumerate(counts) if l == lab[i]]\n",
    "            ctrl_indices[i] = [c for c, l in enumerate(control_labels) if l == lab[i]]\n",
    "            lab_x[i] = x[lab_indices[i]]\n",
    "            lab_y[i] = y[lab_indices[i]]\n",
    "            if len(ctrl_indices[i]) != 0:\n",
    "                ctrl_x[i] = x[control_indices][ctrl_indices[i]]\n",
    "                ctrl_y[i] = y[control_indices][ctrl_indices[i]]\n",
    "                \n",
    "        \n",
    "        \n",
    "        sigma_label = []\n",
    "        median_label = []\n",
    "        for i in range(len(ctrl_indices)): # for each group label\n",
    "            if len(ctrl_indices[i]) != 0:\n",
    "                # ckdtree for each label\n",
    "                col_label = np.column_stack([lab_x[i],lab_y[i]]) # column stack for cKDTree controls\n",
    "                tree_label = cKDTree(col_label) # making a tree\n",
    "                dist_label, arg_label = tree_label.query(col_label, k=2) # querying tree for nearest neighbour distance\n",
    "                dist_sigma = np.std(dist_label[:,1]) # nearest neighbour distance dispersion\n",
    "\n",
    "                sigma_label.append(dist_sigma)\n",
    "            \n",
    "            else:\n",
    "                sigma_label.append(1e9)\n",
    "        \n",
    "        N_sigma2 = [] # N / sigma^2 list\n",
    "        \n",
    "        for i in range(len(cow)):\n",
    "            if int(ctrl_cow[i]) == len(control_indices): # double checking that all of the control stars are captured\n",
    "                if cow[i] >= 0.90 * len(x): # cutting out any ones that are 90% of the data size\n",
    "                    N_sigma2.append(0)\n",
    "                elif math.isinf(ctrl_cow[i] / sigma_label[i]**2) or math.isnan(ctrl_cow[i] / sigma_label[i]**2): # if sigma is 0 (aka very few stars in that group)\n",
    "                    N_sigma2.append(0)\n",
    "                else:\n",
    "                    N_sigma2.append(ctrl_cow[i] / sigma_label[i]**2) # calculating total control members / dispersion of group\n",
    "            else:\n",
    "                N_sigma2.append(0)\n",
    "\n",
    "        max_pos = np.argmax(N_sigma2) # taking the highest metric of the groups\n",
    "        \n",
    "        if lab[max_pos] == -1: # if the chosen cluster is noise, toss it\n",
    "            max_group_metric.append(0)\n",
    "        else:\n",
    "            max_group_metric.append(N_sigma2[max_pos])\n",
    "        \n",
    "   \n",
    "    # right now the data is [e1s1, e1s2, e1s3, e1s4, e1s5, e1s6, e1s7, e1s8, e1s9, e1s10, e2s1, e2s2, e2s3, etc.]\n",
    "    # need to break it up into a 10 by 10\n",
    "    max_group_count_arr = np.empty((10,10), dtype=int)\n",
    "    \n",
    "    for ind, item in enumerate(max_group_metric):\n",
    "        max_group_count_arr[ind%10][ind//10] = item\n",
    "    \n",
    "    \n",
    "    ### DBSCAN matrix\n",
    "    # all\n",
    "    '''fig, ax = plt.subplots(10, 10, figsize=(100,100))\n",
    "    for i in range(10):\n",
    "        for j in range(10):\n",
    "            for k, col in zip(unique_labels_lst[i + 10*j], colors_lst[i + 10*j]):\n",
    "                if k == -1:\n",
    "                    # Black used for noise.\n",
    "                    lab = 'Noise'\n",
    "                    col = [0, 0, 0, 1]\n",
    "                else:\n",
    "                    lab = 'Group ' + str(k)\n",
    "\n",
    "                class_member_mask = labels_lst[i + 10*j] == k\n",
    "\n",
    "                xy = X[class_member_mask & core_samples_masks_lst[i + 10*j]]\n",
    "                ax[i][j].plot(\n",
    "                    xy[:, 0],\n",
    "                    xy[:, 1],\n",
    "                    \"o\",\n",
    "                    markerfacecolor=tuple(col),\n",
    "                    markeredgecolor=\"k\",\n",
    "                    markersize=14,\n",
    "                    label=lab\n",
    "                )\n",
    "\n",
    "                xy = X[class_member_mask & ~core_samples_masks_lst[i + 10*j]]\n",
    "                ax[i][j].plot(\n",
    "                    xy[:, 0],\n",
    "                    xy[:, 1],\n",
    "                    \"o\",\n",
    "                    markerfacecolor=tuple(col),\n",
    "                    markeredgecolor=\"k\",\n",
    "                    markersize=6,\n",
    "                )\n",
    "\n",
    "            ax[i][j].set_xlabel('X', fontsize=40)\n",
    "            ax[i][j].set_ylabel('Y', fontsize=40)\n",
    "            #ax[i][j].legend(fontsize=20)\n",
    "            ax[i][j].set_title(name + ' ' + title + f'DBSCAN groups\\neps = ' + str(round(eps_arr[i], 2)) + ' min_samples = ' + str(neigh_arr[j]) + f'\\nEstimated number of clusters: {n_clusters_lst[i + 10*j]}' + '\\nMetric score: ' + str(max_group_metric[i + 10*j]), fontsize=30)\n",
    "\n",
    "    plt.tight_layout()\n",
    "    file_name = 'GCs_20RHMRT_10RT/' + name + '/' + title + '_dbscan_matrix.png'\n",
    "    plt.savefig(file_name)\n",
    "    #plt.show()\n",
    "    fig.clear()\n",
    "    plt.close(fig)\n",
    "    \n",
    "    \n",
    "    ### heat map\n",
    "    fig, ax = plt.subplots(1, figsize=(12,12))\n",
    "    im = ax.imshow(max_group_count_arr, cmap='RdPu', interpolation = 'None')\n",
    "    ax.set_xticks(np.arange(-.5, 9, 1))\n",
    "    ax.set_yticks(np.arange(-.5, 9, 1))\n",
    "    ax.set_xticklabels(neigh_arr)\n",
    "    ax.set_yticklabels(eps_arr)\n",
    "    ax.set_xlabel('Min Samples')\n",
    "    ax.set_ylabel('eps')\n",
    "    #ax.yaxis.set_major_formatter(FormatStrFormatter('%.2f'))\n",
    "    ax.grid(color='w', linestyle='-', linewidth=2)\n",
    "    plt.colorbar(im)\n",
    "    plt.savefig('GCs_20RHMRT_10RT/' + name + '/' + title + '_heatmap.png')\n",
    "    fig.clear()\n",
    "    plt.close(fig)'''\n",
    "    \n",
    "    # indices for the max section of heat map\n",
    "    max_heatmap_col, max_heatmap_row = np.unravel_index(max_group_count_arr.argmax(), max_group_count_arr.shape)\n",
    "    \n",
    "    return [eps_arr[max_heatmap_col], neigh_arr[max_heatmap_row]]"
   ]
  },
  {
   "cell_type": "code",
   "execution_count": 18,
   "metadata": {
    "hideCode": false
   },
   "outputs": [],
   "source": [
    "def db_opt(name, title, x, y, eps, samp, control_indices):\n",
    "    \n",
    "    ### setting up data for dbscan\n",
    "    X = np.c_[x, y] # column stack (i think) for second column for DBSCAN\n",
    "    \n",
    "    # dbscan\n",
    "    db = DBSCAN(eps=eps, min_samples=samp).fit(X)\n",
    "    clusterings = db\n",
    "    labels = db.labels_\n",
    "    n_clusters = len(set(db.labels_)) - (1 if -1 in db.labels_ else 0)\n",
    "    \n",
    "    unique_labels = set(labels)\n",
    "    core_samples_masks = np.zeros_like(labels, dtype=bool)\n",
    "    core_samples_masks = clusterings.core_sample_indices_ = True\n",
    "    colors = [plt.cm.Spectral(each) for each in np.linspace(0, 1, len(unique_labels))]\n",
    "\n",
    "    ### in theory the DBSCAN step above should have only chosen iterations that have all the control stars in 1 group,\n",
    "    ### so just finding that group should be sufficient\n",
    "    et_ind = []\n",
    "    \n",
    "    # get unique\n",
    "    lab, cow = np.unique(labels, return_counts=True)\n",
    "\n",
    "    # getting index of most control members\n",
    "    control_labels = labels[control_indices] # labels of the control stars\n",
    "        \n",
    "    if len(control_labels) == 0:\n",
    "        max_lab = 10000\n",
    "    else:\n",
    "        max_lab = st.mode(control_labels)[0][0] # find the most common label\n",
    "        \n",
    "    for ind, labs in enumerate(labels):\n",
    "        if labs == max_lab:\n",
    "            et_ind.append(ind)\n",
    "    \n",
    "    \n",
    "    # all\n",
    "    fig, ax = plt.subplots(1, figsize=(20,20))\n",
    "    for k, col in zip(unique_labels, colors):\n",
    "        if k == -1:\n",
    "            # Black used for noise.\n",
    "            lab = 'Noise'\n",
    "            col = [0, 0, 0, 0.3]\n",
    "            a = 0.3\n",
    "        elif k == max_lab:\n",
    "            col = [0, 1, 1, 1]\n",
    "            a = 1\n",
    "        else:\n",
    "            lab = 'Group ' + str(k)\n",
    "            a = 0.3\n",
    "\n",
    "        class_member_mask = labels == k\n",
    "\n",
    "        xy = X[class_member_mask & core_samples_masks]\n",
    "        ax.plot(\n",
    "            xy[:, 0],\n",
    "            xy[:, 1],\n",
    "            \"o\",\n",
    "            markerfacecolor=tuple(col),\n",
    "            markeredgecolor=\"k\",\n",
    "            markersize=14,\n",
    "            label=lab,\n",
    "            alpha = a\n",
    "        )\n",
    "\n",
    "        xy = X[class_member_mask & ~core_samples_masks]\n",
    "        ax.plot(\n",
    "            xy[:, 0],\n",
    "            xy[:, 1],\n",
    "            \"o\",\n",
    "            markerfacecolor=tuple(col),\n",
    "            markeredgecolor=\"k\",\n",
    "            markersize=6,\n",
    "            alpha = a\n",
    "        )\n",
    "\n",
    "    ax.set_xlabel('X', fontsize=40)\n",
    "    ax.set_ylabel('Y', fontsize=40)\n",
    "    ax.legend(fontsize=10)\n",
    "    ax.set_title(name + ' ' + title + f'DBSCAN groups\\neps = ' + str(round(eps, 2)) + ' min_samples = ' + str(samp) + f'\\nEstimated number of clusters: {n_clusters}' + '\\nChosen group: ' + str(max_lab), fontsize=30)\n",
    "\n",
    "    plt.tight_layout()\n",
    "    file_name = 'GCs_20RHMRT_10RT/' + name + '/' + title + '_dbscan.png'\n",
    "    plt.savefig(file_name)\n",
    "    #plt.show()\n",
    "    ax.clear()\n",
    "    fig.clear()\n",
    "    plt.close(fig)\n",
    "    \n",
    "    return et_ind"
   ]
  },
  {
   "cell_type": "code",
   "execution_count": 19,
   "metadata": {},
   "outputs": [],
   "source": [
    "def plot_shit_and_rt_filter(name, n, final_unfilt):\n",
    "    def in_circle(center_x, center_y, radius, x, y):\n",
    "        square_dist = (center_x - x) ** 2 + (center_y - y) ** 2\n",
    "        return square_dist <= (radius) ** 2\n",
    "    \n",
    "    #plt.close('all')\n",
    "    M3_ra = GC_db['RA'][n]\n",
    "    M3_dec = GC_db['DEC'][n]\n",
    "    M3_rhm = GC_db['rhm'][n]\n",
    "    M3_rt = GC_db['rt'][n]\n",
    "    M3_d_Sun = GC_db['R_Sun'][n] * 1e3\n",
    "    M3_rhm_deg = math.degrees(math.atan(M3_rhm / M3_d_Sun))\n",
    "    M3_rt_deg = math.degrees(math.atan(M3_rt / M3_d_Sun))\n",
    "    M3_fov = 5\n",
    "\n",
    "    M3_fov_new = 10 * M3_rt_deg    \n",
    "    \n",
    "    M3_stars = []\n",
    "    for count, i in enumerate(apogee_nofilt['RA'].values):\n",
    "        if i >= M3_ra - M3_fov_new and i <= M3_ra + M3_fov_new and apogee_nofilt['DEC'].values[count] >= M3_dec - M3_fov_new and apogee_nofilt['DEC'].values[count] <= M3_dec + M3_fov_new:\n",
    "            M3_stars.append(apogee_nofilt.loc[count])\n",
    "\n",
    "    \n",
    "    ### grabbing final field stars\n",
    "    M3_ra_arr = np.empty(len(M3_stars), dtype=float)\n",
    "    M3_dec_arr = np.empty(len(M3_stars), dtype=float)\n",
    "    for count, i in enumerate(M3_stars):\n",
    "        M3_ra_arr[count] = i['RA']\n",
    "        M3_dec_arr[count] = i['DEC']\n",
    "        \n",
    "    #print(M3_ra_arr)\n",
    "    #print(len(final_unfilt))\n",
    "    \n",
    "    ### filtering out et stars that are outside of the rt\n",
    "    in_rt = in_circle(M3_ra, M3_dec, M3_rt_deg, M3_ra_arr[final_unfilt], M3_dec_arr[final_unfilt])\n",
    "    final_et = np.array(final_unfilt)[np.where(in_rt == False)[0]]\n",
    "        \n",
    "    M3_rhm_circ = plt.Circle((M3_ra, M3_dec), M3_rhm_deg, color='r', fill=False, label='rhm')\n",
    "    #M3_rhm_rt_circ = plt.Circle((M3_ra, M3_dec), (rhm_deg + rt_deg)/2, color='g', fill=False, label='1/2 rhm, rt')\n",
    "    M3_rt_circ = plt.Circle((M3_ra, M3_dec), M3_rt_deg, color='b', fill=False, label='rt')\n",
    "    \n",
    "    fig, ax = plt.subplots(1, figsize=(10,10))\n",
    "    ax.plot(M3_ra_arr, M3_dec_arr, 'ok', linestyle='none', markersize=1, label='Stars')\n",
    "    ax.plot(M3_ra, M3_dec, color='red', marker='x', linestyle='none', markersize=5, label='GC centre')\n",
    "    #ax.plot(M3_ra_arr[controls], M3_dec_arr[controls], color='cyan', linestyle='none', marker='o', ms=5, label='Original controls')\n",
    "    ax.plot(M3_ra_arr[final_et], M3_dec_arr[final_et], color='fuchsia', linestyle='none', marker='*', ms=5, label='ET Candidates')\n",
    "    ax.add_patch(M3_rhm_circ)\n",
    "    #ax.add_patch(rhm_rt_circ)\n",
    "    ax.add_patch(M3_rt_circ)\n",
    "    ax.set_xlabel('RA', fontsize=20)\n",
    "    ax.set_ylabel('DEC', fontsize=20)\n",
    "    ax.set_title('Final stars for ' + GC_name_arr[n] + '\\tCandidates: ' + str(len(final_et)), fontsize=20)\n",
    "    ax.set_xlim(M3_ra - M3_fov_new - 1, M3_ra + M3_fov_new + 1)\n",
    "    ax.set_ylim(M3_dec - M3_fov_new - 1, M3_dec + M3_fov_new + 1)\n",
    "    ax.legend(loc='best', fontsize=20)\n",
    "    plt.savefig('GCs_20RHMRT_10RT/' + name + '/et_stars.png')\n",
    "    plt.show()\n",
    "    ax.clear()\n",
    "    fig.clear()\n",
    "    plt.close(fig)\n",
    "    \n",
    "    return final_et\n"
   ]
  },
  {
   "cell_type": "code",
   "execution_count": 20,
   "metadata": {},
   "outputs": [],
   "source": [
    "def final_et_stars(control_indices_tsne, control_indices_umap, tsne_et_ind, umap_et_ind):\n",
    "    final_tsne = []\n",
    "    final_umap = []\n",
    "    final_et = []\n",
    "    \n",
    "    for i in tsne_et_ind:\n",
    "        if i in umap_et_ind and i not in control_indices_tsne and i not in control_indices_umap:\n",
    "            final_et.append(i)\n",
    "    \n",
    "    for i in tsne_et_ind:\n",
    "        if i not in control_indices_tsne:\n",
    "            final_tsne.append(i)\n",
    "            \n",
    "    for i in umap_et_ind:\n",
    "        if i not in control_indices_umap:\n",
    "            final_umap.append(i)\n",
    "            \n",
    "    return [final_et, final_tsne, final_umap]"
   ]
  },
  {
   "cell_type": "code",
   "execution_count": 21,
   "metadata": {},
   "outputs": [],
   "source": [
    "final_et_arr = []\n",
    "final_tsne = []\n",
    "final_umap = []"
   ]
  },
  {
   "cell_type": "code",
   "execution_count": null,
   "metadata": {
    "scrolled": true
   },
   "outputs": [
    {
     "data": {
      "application/vnd.jupyter.widget-view+json": {
       "model_id": "1e5a94881c35422191a04a62adc22be3",
       "version_major": 2,
       "version_minor": 0
      },
      "text/plain": [
       "HBox(children=(HTML(value=''), FloatProgress(value=0.0, max=34.0), HTML(value='')))"
      ]
     },
     "metadata": {},
     "output_type": "display_data"
    },
    {
     "name": "stdout",
     "output_type": "stream",
     "text": [
      "\n",
      "Directory NGC_104 already exists\n"
     ]
    },
    {
     "name": "stderr",
     "output_type": "stream",
     "text": [
      "C:\\Users\\ryanw\\Anaconda3\\lib\\site-packages\\numpy\\core\\_methods.py:233: RuntimeWarning: invalid value encountered in subtract\n",
      "  x = asanyarray(arr - arrmean)\n",
      "C:\\Users\\ryanw\\Anaconda3\\lib\\site-packages\\numpy\\core\\_methods.py:233: RuntimeWarning: invalid value encountered in subtract\n",
      "  x = asanyarray(arr - arrmean)\n",
      "C:\\Users\\ryanw\\Anaconda3\\lib\\site-packages\\matplotlib\\backends\\backend_agg.py:238: RuntimeWarning: Glyph 9 missing from current font.\n",
      "  font.set_text(s, 0.0, flags=flags)\n",
      "C:\\Users\\ryanw\\Anaconda3\\lib\\site-packages\\matplotlib\\backends\\backend_agg.py:201: RuntimeWarning: Glyph 9 missing from current font.\n",
      "  font.set_text(s, 0, flags=flags)\n"
     ]
    },
    {
     "data": {
      "text/plain": [
       "<Figure size 432x288 with 0 Axes>"
      ]
     },
     "metadata": {},
     "output_type": "display_data"
    },
    {
     "data": {
      "image/png": "[encoded data removed]",
      "text/plain": [
       "<Figure size 720x720 with 1 Axes>"
      ]
     },
     "metadata": {
      "needs_background": "light"
     },
     "output_type": "display_data"
    },
    {
     "name": "stdout",
     "output_type": "stream",
     "text": [
      "\n",
      "Directory NGC_288 already exists\n"
     ]
    },
    {
     "name": "stderr",
     "output_type": "stream",
     "text": [
      "C:\\Users\\ryanw\\Anaconda3\\lib\\site-packages\\numpy\\core\\_methods.py:233: RuntimeWarning: invalid value encountered in subtract\n",
      "  x = asanyarray(arr - arrmean)\n",
      "C:\\Users\\ryanw\\Anaconda3\\lib\\site-packages\\numpy\\core\\_methods.py:233: RuntimeWarning: invalid value encountered in subtract\n",
      "  x = asanyarray(arr - arrmean)\n",
      "C:\\Users\\ryanw\\Anaconda3\\lib\\site-packages\\matplotlib\\backends\\backend_agg.py:238: RuntimeWarning: Glyph 9 missing from current font.\n",
      "  font.set_text(s, 0.0, flags=flags)\n",
      "C:\\Users\\ryanw\\Anaconda3\\lib\\site-packages\\matplotlib\\backends\\backend_agg.py:201: RuntimeWarning: Glyph 9 missing from current font.\n",
      "  font.set_text(s, 0, flags=flags)\n"
     ]
    },
    {
     "data": {
      "text/plain": [
       "<Figure size 432x288 with 0 Axes>"
      ]
     },
     "metadata": {},
     "output_type": "display_data"
    },
    {
     "data": {
      "image/png": "[encoded data removed]",
      "text/plain": [
       "<Figure size 720x720 with 1 Axes>"
      ]
     },
     "metadata": {
      "needs_background": "light"
     },
     "output_type": "display_data"
    },
    {
     "name": "stdout",
     "output_type": "stream",
     "text": [
      "\n",
      "Directory NGC_362 already exists\n"
     ]
    },
    {
     "name": "stderr",
     "output_type": "stream",
     "text": [
      "C:\\Users\\ryanw\\Anaconda3\\lib\\site-packages\\numpy\\core\\_methods.py:233: RuntimeWarning: invalid value encountered in subtract\n",
      "  x = asanyarray(arr - arrmean)\n",
      "C:\\Users\\ryanw\\Anaconda3\\lib\\site-packages\\numpy\\core\\_methods.py:233: RuntimeWarning: invalid value encountered in subtract\n",
      "  x = asanyarray(arr - arrmean)\n",
      "C:\\Users\\ryanw\\Anaconda3\\lib\\site-packages\\matplotlib\\backends\\backend_agg.py:238: RuntimeWarning: Glyph 9 missing from current font.\n",
      "  font.set_text(s, 0.0, flags=flags)\n",
      "C:\\Users\\ryanw\\Anaconda3\\lib\\site-packages\\matplotlib\\backends\\backend_agg.py:201: RuntimeWarning: Glyph 9 missing from current font.\n",
      "  font.set_text(s, 0, flags=flags)\n"
     ]
    },
    {
     "data": {
      "text/plain": [
       "<Figure size 432x288 with 0 Axes>"
      ]
     },
     "metadata": {},
     "output_type": "display_data"
    },
    {
     "data": {
      "image/png": "[encoded data removed]",
      "text/plain": [
       "<Figure size 720x720 with 1 Axes>"
      ]
     },
     "metadata": {
      "needs_background": "light"
     },
     "output_type": "display_data"
    },
    {
     "name": "stdout",
     "output_type": "stream",
     "text": [
      "\n",
      "Directory NGC_1851 already exists\n"
     ]
    },
    {
     "name": "stderr",
     "output_type": "stream",
     "text": [
      "C:\\Users\\ryanw\\Anaconda3\\lib\\site-packages\\numpy\\core\\_methods.py:233: RuntimeWarning: invalid value encountered in subtract\n",
      "  x = asanyarray(arr - arrmean)\n",
      "C:\\Users\\ryanw\\Anaconda3\\lib\\site-packages\\numpy\\core\\_methods.py:233: RuntimeWarning: invalid value encountered in subtract\n",
      "  x = asanyarray(arr - arrmean)\n",
      "C:\\Users\\ryanw\\Anaconda3\\lib\\site-packages\\matplotlib\\backends\\backend_agg.py:238: RuntimeWarning: Glyph 9 missing from current font.\n",
      "  font.set_text(s, 0.0, flags=flags)\n",
      "C:\\Users\\ryanw\\Anaconda3\\lib\\site-packages\\matplotlib\\backends\\backend_agg.py:201: RuntimeWarning: Glyph 9 missing from current font.\n",
      "  font.set_text(s, 0, flags=flags)\n"
     ]
    },
    {
     "data": {
      "text/plain": [
       "<Figure size 432x288 with 0 Axes>"
      ]
     },
     "metadata": {},
     "output_type": "display_data"
    },
    {
     "data": {
      "image/png": "[encoded data removed]",
      "text/plain": [
       "<Figure size 720x720 with 1 Axes>"
      ]
     },
     "metadata": {
      "needs_background": "light"
     },
     "output_type": "display_data"
    },
    {
     "name": "stdout",
     "output_type": "stream",
     "text": [
      "\n",
      "Directory NGC_1904 already exists\n"
     ]
    },
    {
     "name": "stderr",
     "output_type": "stream",
     "text": [
      "C:\\Users\\ryanw\\Anaconda3\\lib\\site-packages\\numpy\\core\\_methods.py:233: RuntimeWarning: invalid value encountered in subtract\n",
      "  x = asanyarray(arr - arrmean)\n",
      "C:\\Users\\ryanw\\Anaconda3\\lib\\site-packages\\numpy\\core\\_methods.py:233: RuntimeWarning: invalid value encountered in subtract\n",
      "  x = asanyarray(arr - arrmean)\n",
      "C:\\Users\\ryanw\\Anaconda3\\lib\\site-packages\\matplotlib\\backends\\backend_agg.py:238: RuntimeWarning: Glyph 9 missing from current font.\n",
      "  font.set_text(s, 0.0, flags=flags)\n",
      "C:\\Users\\ryanw\\Anaconda3\\lib\\site-packages\\matplotlib\\backends\\backend_agg.py:201: RuntimeWarning: Glyph 9 missing from current font.\n",
      "  font.set_text(s, 0, flags=flags)\n"
     ]
    },
    {
     "data": {
      "text/plain": [
       "<Figure size 432x288 with 0 Axes>"
      ]
     },
     "metadata": {},
     "output_type": "display_data"
    },
    {
     "data": {
      "image/png": "[encoded data removed]",
      "text/plain": [
       "<Figure size 720x720 with 1 Axes>"
      ]
     },
     "metadata": {
      "needs_background": "light"
     },
     "output_type": "display_data"
    },
    {
     "name": "stdout",
     "output_type": "stream",
     "text": [
      "\n",
      "Directory NGC_2808 already exists\n"
     ]
    },
    {
     "name": "stderr",
     "output_type": "stream",
     "text": [
      "C:\\Users\\ryanw\\Anaconda3\\lib\\site-packages\\numpy\\core\\_methods.py:233: RuntimeWarning: invalid value encountered in subtract\n",
      "  x = asanyarray(arr - arrmean)\n",
      "C:\\Users\\ryanw\\Anaconda3\\lib\\site-packages\\numpy\\core\\_methods.py:233: RuntimeWarning: invalid value encountered in subtract\n",
      "  x = asanyarray(arr - arrmean)\n",
      "<ipython-input-18-ed1fbe991d37>:82: UserWarning: Tight layout not applied. The bottom and top margins cannot be made large enough to accommodate all axes decorations. \n",
      "  plt.tight_layout()\n",
      "C:\\Users\\ryanw\\Anaconda3\\lib\\site-packages\\matplotlib\\backends\\backend_agg.py:238: RuntimeWarning: Glyph 9 missing from current font.\n",
      "  font.set_text(s, 0.0, flags=flags)\n",
      "C:\\Users\\ryanw\\Anaconda3\\lib\\site-packages\\matplotlib\\backends\\backend_agg.py:201: RuntimeWarning: Glyph 9 missing from current font.\n",
      "  font.set_text(s, 0, flags=flags)\n"
     ]
    },
    {
     "data": {
      "text/plain": [
       "<Figure size 432x288 with 0 Axes>"
      ]
     },
     "metadata": {},
     "output_type": "display_data"
    },
    {
     "data": {
      "image/png": "[encoded data removed]",
      "text/plain": [
       "<Figure size 720x720 with 1 Axes>"
      ]
     },
     "metadata": {
      "needs_background": "light"
     },
     "output_type": "display_data"
    },
    {
     "name": "stdout",
     "output_type": "stream",
     "text": [
      "\n",
      "Directory NGC_3201 already exists\n"
     ]
    },
    {
     "name": "stderr",
     "output_type": "stream",
     "text": [
      "C:\\Users\\ryanw\\Anaconda3\\lib\\site-packages\\numpy\\core\\_methods.py:233: RuntimeWarning: invalid value encountered in subtract\n",
      "  x = asanyarray(arr - arrmean)\n",
      "C:\\Users\\ryanw\\Anaconda3\\lib\\site-packages\\numpy\\core\\_methods.py:233: RuntimeWarning: invalid value encountered in subtract\n",
      "  x = asanyarray(arr - arrmean)\n",
      "C:\\Users\\ryanw\\Anaconda3\\lib\\site-packages\\matplotlib\\backends\\backend_agg.py:238: RuntimeWarning: Glyph 9 missing from current font.\n",
      "  font.set_text(s, 0.0, flags=flags)\n",
      "C:\\Users\\ryanw\\Anaconda3\\lib\\site-packages\\matplotlib\\backends\\backend_agg.py:201: RuntimeWarning: Glyph 9 missing from current font.\n",
      "  font.set_text(s, 0, flags=flags)\n"
     ]
    },
    {
     "data": {
      "text/plain": [
       "<Figure size 432x288 with 0 Axes>"
      ]
     },
     "metadata": {},
     "output_type": "display_data"
    },
    {
     "data": {
      "image/png": "[encoded data removed]",
      "text/plain": [
       "<Figure size 720x720 with 1 Axes>"
      ]
     },
     "metadata": {
      "needs_background": "light"
     },
     "output_type": "display_data"
    },
    {
     "name": "stdout",
     "output_type": "stream",
     "text": [
      "\n",
      "Directory NGC_4590 already exists\n"
     ]
    },
    {
     "name": "stderr",
     "output_type": "stream",
     "text": [
      "C:\\Users\\ryanw\\Anaconda3\\lib\\site-packages\\numpy\\core\\_methods.py:233: RuntimeWarning: invalid value encountered in subtract\n",
      "  x = asanyarray(arr - arrmean)\n",
      "C:\\Users\\ryanw\\Anaconda3\\lib\\site-packages\\numpy\\core\\_methods.py:233: RuntimeWarning: invalid value encountered in subtract\n",
      "  x = asanyarray(arr - arrmean)\n",
      "C:\\Users\\ryanw\\Anaconda3\\lib\\site-packages\\matplotlib\\backends\\backend_agg.py:238: RuntimeWarning: Glyph 9 missing from current font.\n",
      "  font.set_text(s, 0.0, flags=flags)\n",
      "C:\\Users\\ryanw\\Anaconda3\\lib\\site-packages\\matplotlib\\backends\\backend_agg.py:201: RuntimeWarning: Glyph 9 missing from current font.\n",
      "  font.set_text(s, 0, flags=flags)\n"
     ]
    },
    {
     "data": {
      "text/plain": [
       "<Figure size 432x288 with 0 Axes>"
      ]
     },
     "metadata": {},
     "output_type": "display_data"
    },
    {
     "data": {
      "image/png": "[encoded data removed]",
      "text/plain": [
       "<Figure size 720x720 with 1 Axes>"
      ]
     },
     "metadata": {
      "needs_background": "light"
     },
     "output_type": "display_data"
    },
    {
     "name": "stdout",
     "output_type": "stream",
     "text": [
      "\n",
      "Directory NGC_5024 already exists\n"
     ]
    },
    {
     "name": "stderr",
     "output_type": "stream",
     "text": [
      "C:\\Users\\ryanw\\Anaconda3\\lib\\site-packages\\numpy\\core\\_methods.py:233: RuntimeWarning: invalid value encountered in subtract\n",
      "  x = asanyarray(arr - arrmean)\n",
      "C:\\Users\\ryanw\\Anaconda3\\lib\\site-packages\\numpy\\core\\_methods.py:233: RuntimeWarning: invalid value encountered in subtract\n",
      "  x = asanyarray(arr - arrmean)\n",
      "C:\\Users\\ryanw\\Anaconda3\\lib\\site-packages\\matplotlib\\backends\\backend_agg.py:238: RuntimeWarning: Glyph 9 missing from current font.\n",
      "  font.set_text(s, 0.0, flags=flags)\n",
      "C:\\Users\\ryanw\\Anaconda3\\lib\\site-packages\\matplotlib\\backends\\backend_agg.py:201: RuntimeWarning: Glyph 9 missing from current font.\n",
      "  font.set_text(s, 0, flags=flags)\n"
     ]
    },
    {
     "data": {
      "text/plain": [
       "<Figure size 432x288 with 0 Axes>"
      ]
     },
     "metadata": {},
     "output_type": "display_data"
    },
    {
     "data": {
      "image/png": "[encoded data removed]",
      "text/plain": [
       "<Figure size 720x720 with 1 Axes>"
      ]
     },
     "metadata": {
      "needs_background": "light"
     },
     "output_type": "display_data"
    },
    {
     "name": "stdout",
     "output_type": "stream",
     "text": [
      "\n",
      "Directory NGC_5139 already exists\n"
     ]
    },
    {
     "name": "stderr",
     "output_type": "stream",
     "text": [
      "C:\\Users\\ryanw\\Anaconda3\\lib\\site-packages\\numpy\\core\\_methods.py:233: RuntimeWarning: invalid value encountered in subtract\n",
      "  x = asanyarray(arr - arrmean)\n",
      "C:\\Users\\ryanw\\Anaconda3\\lib\\site-packages\\numpy\\core\\_methods.py:233: RuntimeWarning: invalid value encountered in subtract\n",
      "  x = asanyarray(arr - arrmean)\n",
      "C:\\Users\\ryanw\\Anaconda3\\lib\\site-packages\\matplotlib\\backends\\backend_agg.py:238: RuntimeWarning: Glyph 9 missing from current font.\n",
      "  font.set_text(s, 0.0, flags=flags)\n",
      "C:\\Users\\ryanw\\Anaconda3\\lib\\site-packages\\matplotlib\\backends\\backend_agg.py:201: RuntimeWarning: Glyph 9 missing from current font.\n",
      "  font.set_text(s, 0, flags=flags)\n"
     ]
    },
    {
     "data": {
      "text/plain": [
       "<Figure size 432x288 with 0 Axes>"
      ]
     },
     "metadata": {},
     "output_type": "display_data"
    },
    {
     "data": {
      "image/png": "[encoded data removed]",
      "text/plain": [
       "<Figure size 720x720 with 1 Axes>"
      ]
     },
     "metadata": {
      "needs_background": "light"
     },
     "output_type": "display_data"
    },
    {
     "name": "stdout",
     "output_type": "stream",
     "text": [
      "\n",
      "Directory NGC_5272 already exists\n"
     ]
    },
    {
     "name": "stderr",
     "output_type": "stream",
     "text": [
      "C:\\Users\\ryanw\\Anaconda3\\lib\\site-packages\\numpy\\core\\_methods.py:233: RuntimeWarning: invalid value encountered in subtract\n",
      "  x = asanyarray(arr - arrmean)\n",
      "C:\\Users\\ryanw\\Anaconda3\\lib\\site-packages\\numpy\\core\\_methods.py:233: RuntimeWarning: invalid value encountered in subtract\n",
      "  x = asanyarray(arr - arrmean)\n",
      "C:\\Users\\ryanw\\Anaconda3\\lib\\site-packages\\matplotlib\\backends\\backend_agg.py:238: RuntimeWarning: Glyph 9 missing from current font.\n",
      "  font.set_text(s, 0.0, flags=flags)\n",
      "C:\\Users\\ryanw\\Anaconda3\\lib\\site-packages\\matplotlib\\backends\\backend_agg.py:201: RuntimeWarning: Glyph 9 missing from current font.\n",
      "  font.set_text(s, 0, flags=flags)\n"
     ]
    },
    {
     "data": {
      "text/plain": [
       "<Figure size 432x288 with 0 Axes>"
      ]
     },
     "metadata": {},
     "output_type": "display_data"
    },
    {
     "data": {
      "image/png": "[encoded data removed]",
      "text/plain": [
       "<Figure size 720x720 with 1 Axes>"
      ]
     },
     "metadata": {
      "needs_background": "light"
     },
     "output_type": "display_data"
    },
    {
     "name": "stdout",
     "output_type": "stream",
     "text": [
      "\n",
      "Directory NGC_5904 already exists\n"
     ]
    },
    {
     "name": "stderr",
     "output_type": "stream",
     "text": [
      "C:\\Users\\ryanw\\Anaconda3\\lib\\site-packages\\numpy\\core\\_methods.py:233: RuntimeWarning: invalid value encountered in subtract\n",
      "  x = asanyarray(arr - arrmean)\n",
      "C:\\Users\\ryanw\\Anaconda3\\lib\\site-packages\\numpy\\core\\_methods.py:233: RuntimeWarning: invalid value encountered in subtract\n",
      "  x = asanyarray(arr - arrmean)\n",
      "C:\\Users\\ryanw\\Anaconda3\\lib\\site-packages\\matplotlib\\backends\\backend_agg.py:238: RuntimeWarning: Glyph 9 missing from current font.\n",
      "  font.set_text(s, 0.0, flags=flags)\n",
      "C:\\Users\\ryanw\\Anaconda3\\lib\\site-packages\\matplotlib\\backends\\backend_agg.py:201: RuntimeWarning: Glyph 9 missing from current font.\n",
      "  font.set_text(s, 0, flags=flags)\n"
     ]
    },
    {
     "data": {
      "text/plain": [
       "<Figure size 432x288 with 0 Axes>"
      ]
     },
     "metadata": {},
     "output_type": "display_data"
    },
    {
     "data": {
      "image/png": "[encoded data removed]",
      "text/plain": [
       "<Figure size 720x720 with 1 Axes>"
      ]
     },
     "metadata": {
      "needs_background": "light"
     },
     "output_type": "display_data"
    },
    {
     "name": "stdout",
     "output_type": "stream",
     "text": [
      "\n",
      "Directory NGC_6121 already exists\n"
     ]
    },
    {
     "name": "stderr",
     "output_type": "stream",
     "text": [
      "C:\\Users\\ryanw\\Anaconda3\\lib\\site-packages\\numpy\\core\\_methods.py:233: RuntimeWarning: invalid value encountered in subtract\n",
      "  x = asanyarray(arr - arrmean)\n"
     ]
    }
   ],
   "source": [
    "start = time.time()\n",
    "\n",
    "for i in tqdm(range(0,34)):\n",
    "    try:\n",
    "        os.makedirs('GCs_20RHMRT_10RT/' + GC_name_arr[i])\n",
    "    except OSError as error:\n",
    "        print('\\nDirectory ' + GC_name_arr[i] + ' already exists')\n",
    "    \n",
    "    tsne_pack = [tsne_control_X_nokin[i], tsne_control_Y_nokin[i], tsne_all_X_nokin[i], tsne_all_Y_nokin[i]]\n",
    "    umap_pack = [umap_control_X_nokin[i], umap_control_Y_nokin[i], umap_all_X_nokin[i], umap_all_Y_nokin[i]]\n",
    "    \n",
    "    plot_ML_nokin(GC_name_arr[i], tsne_pack, 'tsne')\n",
    "    plot_ML_nokin(GC_name_arr[i], umap_pack, 'umap')\n",
    "    \n",
    "    \n",
    "    tsne_eps_all, tsne_samp_all = db(GC_name_arr[i], 'tsne', tsne_all_X_nokin[i], tsne_all_Y_nokin[i], tsne_ctrl_inds[i])\n",
    "    umap_eps_all, umap_samp_all = db(GC_name_arr[i], 'umap', umap_all_X_nokin[i], umap_all_Y_nokin[i], umap_ctrl_inds[i])\n",
    "    \n",
    "    \n",
    "    tsne_et = db_opt(GC_name_arr[i], 'tsne', tsne_all_X_nokin[i], tsne_all_Y_nokin[i], tsne_eps_all, tsne_samp_all, tsne_ctrl_inds[i])\n",
    "    umap_et = db_opt(GC_name_arr[i], 'umap', umap_all_X_nokin[i], umap_all_Y_nokin[i], umap_eps_all, umap_samp_all, umap_ctrl_inds[i])\n",
    "    \n",
    "    temp_var = final_et_stars(tsne_ctrl_inds[i], umap_ctrl_inds[i], tsne_et, umap_et)[0]\n",
    "    \n",
    "    final_tsne.append(final_et_stars(tsne_ctrl_inds[i], umap_ctrl_inds[i], tsne_et, umap_et)[1])\n",
    "    final_umap.append(final_et_stars(tsne_ctrl_inds[i], umap_ctrl_inds[i], tsne_et, umap_et)[2])\n",
    "    \n",
    "    ### table making\n",
    "    '''print('Number of non-control tSNE stars: ' + str(len(final_tsne[i])))\n",
    "    print('Number of non-control UMAP stars: ' + str(len(final_umap[i])))\n",
    "    print('Number of non-control ET stars: ' + str(len(temp_var)))'''\n",
    "    \n",
    "    if len(temp_var) == 0:\n",
    "        #print('Nothing to plot, you got no controls yo\\n')\n",
    "        final_et_arr.append([])\n",
    "    else:\n",
    "        final_et_arr.append(plot_shit_and_rt_filter(GC_name_arr[i], i, temp_var))\n",
    "        #print('Final ET: ' + str(len(final_et_arr[i])))\n",
    "        #print('Final ET tSNE: ' + str(len(plot_shit_and_rt_filter(GC_name_arr[i], i, final_tsne[i]))))\n",
    "        #print('Final ET UMAP: ' + str(len(plot_shit_and_rt_filter(GC_name_arr[i], i, final_umap[i]))))\n",
    "        #print('\\n')\n",
    "    \n",
    "end = time.time()\n",
    "print('That shit took ', (end - start) / 60, ' mins')\n",
    "\n",
    "'''wave_obj = sa.WaveObject.from_wave_file('Doja_Cat_Mooo.wav')\n",
    "play_obj = wave_obj.play()'''\n",
    "'''play_obj.wait_done()\n",
    "play_obj.stop()'''"
   ]
  },
  {
   "cell_type": "code",
   "execution_count": null,
   "metadata": {},
   "outputs": [],
   "source": [
    "play_obj.stop()"
   ]
  },
  {
   "cell_type": "code",
   "execution_count": null,
   "metadata": {},
   "outputs": [],
   "source": []
  }
 ],
 "metadata": {
  "celltoolbar": "Hide code",
  "kernelspec": {
   "display_name": "Python 3",
   "language": "python",
   "name": "python3"
  },
  "language_info": {
   "codemirror_mode": {
    "name": "ipython",
    "version": 3
   },
   "file_extension": ".py",
   "mimetype": "text/x-python",
   "name": "python",
   "nbconvert_exporter": "python",
   "pygments_lexer": "ipython3",
   "version": "3.8.5"
  }
 },
 "nbformat": 4,
 "nbformat_minor": 4
}
